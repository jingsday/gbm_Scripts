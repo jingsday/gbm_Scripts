{
 "cells": [
  {
   "cell_type": "code",
   "execution_count": null,
   "id": "fa51b290",
   "metadata": {},
   "outputs": [],
   "source": [
    "import numpy as np\n",
    "import pandas as pd\n",
    "import scanpy as sc"
   ]
  },
  {
   "cell_type": "code",
   "execution_count": null,
   "id": "87771059",
   "metadata": {},
   "outputs": [],
   "source": [
    "sc.settings.verbosity = 3             # verbosity: errors (0), warnings (1), info (2), hints (3)\n",
    "sc.logging.print_header()\n",
    "sc.settings.set_figure_params(dpi=80, facecolor='white')"
   ]
  },
  {
   "cell_type": "code",
   "execution_count": 1,
   "id": "8319657e",
   "metadata": {},
   "outputs": [
    {
     "data": {
      "text/plain": [
       "'/Users/lidiayung/github/notebooks/GBM/Untitled Folder'"
      ]
     },
     "execution_count": 1,
     "metadata": {},
     "output_type": "execute_result"
    }
   ],
   "source": [
    "#pairs\n",
    "\n",
    "#12 P'SF2990' 'SF3073'\n",
    "#7 P'SF11344' 'SF12460'\n",
    "#31 P'SF11916' 'SF12382')\n"
   ]
  },
  {
   "cell_type": "code",
   "execution_count": null,
   "id": "696d6e95",
   "metadata": {},
   "outputs": [],
   "source": [
    "'/Users/lidiayung/project/specimens/SF3076'"
   ]
  },
  {
   "cell_type": "markdown",
   "id": "c5ac4e86",
   "metadata": {},
   "source": [
    "## Further pre-processing of expression data"
   ]
  },
  {
   "cell_type": "code",
   "execution_count": null,
   "id": "84af0210",
   "metadata": {},
   "outputs": [],
   "source": [
    "f_anndata_path = \"anndata.h5ad\"\n",
    "adata = sc.read_h5ad( f_anndata_path )\n",
    "# principal component analysis\n",
    "sc.tl.pca(adata, svd_solver='arpack')\n",
    "sc.pl.pca_variance_ratio(adata, log=True)\n",
    "adata.write( f_anndata_path )"
   ]
  },
  {
   "cell_type": "code",
   "execution_count": null,
   "id": "1f29c003",
   "metadata": {},
   "outputs": [],
   "source": [
    "# neighborhood graph of cells (determine optimal number of PCs here)\n",
    "sc.pp.neighbors(adata, n_neighbors=15, n_pcs=30)\n",
    "# compute UMAP\n",
    "sc.tl.umap(adata)\n",
    "# tSNE\n",
    "tsne = TSNE( n_jobs=2 )\n",
    "adata.obsm['X_tsne'] = tsne.fit_transform( adata.X )\n",
    "adata.write( f_anndata_path )"
   ]
  },
  {
   "cell_type": "code",
   "execution_count": null,
   "id": "0620a6f5",
   "metadata": {},
   "outputs": [],
   "source": [
    "# cluster the neighbourhood graph\n",
    "sc.tl.louvain(adata, resolution=0.4)\n",
    "\n",
    "sc.pl.umap(adata, color=['louvain'] )"
   ]
  },
  {
   "cell_type": "code",
   "execution_count": null,
   "id": "3dd45f48",
   "metadata": {},
   "outputs": [],
   "source": [
    "# find marker genes\n",
    "sc.tl.rank_genes_groups(adata, 'louvain', method='t-test')\n",
    "sc.pl.rank_genes_groups(adata, n_genes=25, sharey=False)\n",
    "\n",
    "# sc.tl.rank_genes_groups(adata, 'louvain', method='logreg')\n",
    "# sc.pl.rank_genes_groups(adata, n_genes=25, sharey=False)\n",
    "pd.DataFrame(adata.uns['rank_genes_groups']['names']).head(10)\n",
    "adata.write( f_anndata_path )"
   ]
  },
  {
   "cell_type": "code",
   "execution_count": null,
   "id": "df6fdcdc",
   "metadata": {},
   "outputs": [],
   "source": [
    "nGenesDetectedPerCell = np.sum(adata.X>0, axis=1)\n",
    "nGenesDetectedPerCell = pd.Series(nGenesDetectedPerCell)\n",
    "percentiles = nGenesDetectedPerCell.quantile([0.01, 0.05, 0.10, 0.50, 1])\n",
    "print(percentiles)"
   ]
  },
  {
   "cell_type": "code",
   "execution_count": null,
   "id": "9911115b",
   "metadata": {},
   "outputs": [],
   "source": [
    "fig, ax = plt.subplots(1, 1, figsize=(8, 5), dpi=150)\n",
    "sns.distplot(nGenesDetectedPerCell, norm_hist=False, kde=False, bins='fd')\n",
    "for i,x in enumerate(percentiles):\n",
    "    fig.gca().axvline(x=x, ymin=0,ymax=1, color='red')\n",
    "    ax.text(x=x, y=ax.get_ylim()[1], s=f'{int(x)} ({percentiles.index.values[i]*100}%)', color='red', rotation=30, size='x-small',rotation_mode='anchor' )\n",
    "ax.set_xlabel('# of genes')\n",
    "ax.set_ylabel('# of cells')\n",
    "fig.tight_layout()"
   ]
  }
 ],
 "metadata": {
  "kernelspec": {
   "display_name": "Python 3 (ipykernel)",
   "language": "python",
   "name": "python3"
  },
  "language_info": {
   "codemirror_mode": {
    "name": "ipython",
    "version": 3
   },
   "file_extension": ".py",
   "mimetype": "text/x-python",
   "name": "python",
   "nbconvert_exporter": "python",
   "pygments_lexer": "ipython3",
   "version": "3.9.7"
  }
 },
 "nbformat": 4,
 "nbformat_minor": 5
}
