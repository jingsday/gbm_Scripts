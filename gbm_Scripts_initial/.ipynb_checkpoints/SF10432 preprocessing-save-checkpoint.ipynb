{
 "cells": [
  {
   "cell_type": "markdown",
   "id": "b313d735",
   "metadata": {},
   "source": [
    "# 1 preprocessing "
   ]
  },
  {
   "cell_type": "code",
   "execution_count": 1,
   "id": "de6efa1c",
   "metadata": {},
   "outputs": [],
   "source": [
    "import os\n",
    "import numpy as np\n",
    "import pandas as pd\n",
    "import scanpy as sc\n",
    "import loompy as lp\n",
    "from MulticoreTSNE import MulticoreTSNE as TSNE\n",
    "import seaborn as sns\n",
    "import matplotlib.pyplot as plt\n",
    "import scipy\n",
    "import csv\n",
    "import gzip\n",
    "import anndata as ad"
   ]
  },
  {
   "cell_type": "code",
   "execution_count": 7,
   "id": "d1d898dc",
   "metadata": {},
   "outputs": [],
   "source": [
    "# set variables for file paths to read from and write to:\n",
    "\n",
    "# set a working directory\n",
    "wdir = \"/Users/lidiayung/github/notebooks/GBM/specimens/SF10432\"\n",
    "os.chdir( wdir )\n",
    "\n",
    "# path to unfiltered loom file (this will be created in the optional steps below)\n",
    "f_loom_path_unfilt = \"unfiltered.loom\" # test dataset, n=500 cells\n",
    "\n",
    "# # path to loom file with basic filtering applied (this will be created in the \"initial filtering\" step below). Optional.\n",
    "f_loom_path_scenic = \"filtered_scenic.loom\"\n",
    "\n",
    "# path to anndata object, which will be updated to store Scanpy results as they are generated below\n",
    "f_anndata_path = \"anndata.h5ad\"\n",
    "\n",
    "# path to pyscenic output\n",
    "f_pyscenic_output = \"output.loom\"\n",
    "#pyscenic_output.loom\n",
    "# loom output, generated from a combination of Scanpy and pySCENIC results:\n",
    "f_final_loom = 'scenic_integrated-output.loom'\n"
   ]
  },
  {
   "cell_type": "code",
   "execution_count": 8,
   "id": "a980f402",
   "metadata": {},
   "outputs": [
    {
     "name": "stdout",
     "output_type": "stream",
     "text": [
      "-----\n",
      "anndata     0.8.0\n",
      "scanpy      1.9.1\n",
      "-----\n",
      "MulticoreTSNE               NA\n",
      "PIL                         9.1.0\n",
      "appnope                     0.1.2\n",
      "asttokens                   NA\n",
      "backcall                    0.2.0\n",
      "beta_ufunc                  NA\n",
      "binom_ufunc                 NA\n",
      "cffi                        1.15.0\n",
      "cloudpickle                 2.1.0\n",
      "cycler                      0.10.0\n",
      "cython_runtime              NA\n",
      "cytoolz                     0.11.0\n",
      "dask                        2022.9.0\n",
      "dateutil                    2.8.2\n",
      "debugpy                     1.5.1\n",
      "decorator                   5.1.1\n",
      "defusedxml                  0.7.1\n",
      "entrypoints                 0.4\n",
      "executing                   0.8.3\n",
      "fsspec                      2022.8.2\n",
      "h5py                        3.7.0\n",
      "hypergeom_ufunc             NA\n",
      "igraph                      0.10.1\n",
      "ipykernel                   6.9.1\n",
      "ipython_genutils            0.2.0\n",
      "ipywidgets                  7.6.5\n",
      "jedi                        0.18.1\n",
      "jinja2                      3.0.3\n",
      "joblib                      1.1.0\n",
      "kiwisolver                  1.4.2\n",
      "leidenalg                   0.9.0\n",
      "llvmlite                    0.38.0\n",
      "loompy                      3.0.7\n",
      "louvain                     0.8.0\n",
      "markupsafe                  2.0.1\n",
      "matplotlib                  3.5.2\n",
      "matplotlib_inline           NA\n",
      "mpl_toolkits                NA\n",
      "natsort                     8.1.0\n",
      "nbinom_ufunc                NA\n",
      "numba                       0.55.1\n",
      "numexpr                     2.8.3\n",
      "numpy                       1.21.5\n",
      "numpy_groupies              0.9.19\n",
      "packaging                   21.3\n",
      "pandas                      1.4.2\n",
      "parso                       0.8.3\n",
      "pexpect                     4.8.0\n",
      "pickleshare                 0.7.5\n",
      "pkg_resources               NA\n",
      "prompt_toolkit              3.0.20\n",
      "psutil                      5.9.1\n",
      "ptyprocess                  0.7.0\n",
      "pure_eval                   0.2.2\n",
      "pyarrow                     9.0.0\n",
      "pycparser                   2.21\n",
      "pydev_ipython               NA\n",
      "pydevconsole                NA\n",
      "pydevd                      2.6.0\n",
      "pydevd_concurrency_analyser NA\n",
      "pydevd_file_utils           NA\n",
      "pydevd_plugins              NA\n",
      "pydevd_tracing              NA\n",
      "pyexpat                     NA\n",
      "pygments                    2.11.2\n",
      "pyparsing                   3.0.4\n",
      "pytz                        2022.1\n",
      "scipy                       1.8.0\n",
      "seaborn                     0.11.2\n",
      "session_info                1.0.0\n",
      "six                         1.16.0\n",
      "sklearn                     1.0.2\n",
      "stack_data                  0.2.0\n",
      "statsmodels                 0.13.2\n",
      "tblib                       1.7.0\n",
      "texttable                   1.6.4\n",
      "threadpoolctl               3.1.0\n",
      "tlz                         0.11.0\n",
      "toolz                       0.12.0\n",
      "tornado                     6.1\n",
      "traitlets                   5.1.1\n",
      "typing_extensions           NA\n",
      "wcwidth                     0.2.5\n",
      "yaml                        6.0\n",
      "zmq                         22.3.0\n",
      "-----\n",
      "IPython             8.2.0\n",
      "jupyter_client      7.2.2\n",
      "jupyter_core        4.9.2\n",
      "notebook            6.4.8\n",
      "-----\n",
      "Python 3.9.7 (default, Sep 16 2021, 08:50:36) [Clang 10.0.0 ]\n",
      "macOS-10.16-x86_64-i386-64bit\n",
      "-----\n",
      "Session information updated at 2023-03-09 16:15\n"
     ]
    }
   ],
   "source": [
    "sc.settings.verbosity = 3 # verbosity: errors (0), warnings (1), info (2), hints (3)\n",
    "sc.logging.print_versions()\n",
    "sc.set_figure_params(dpi=150, fontsize=10, dpi_save=600)"
   ]
  },
  {
   "cell_type": "markdown",
   "id": "719bb1f8",
   "metadata": {},
   "source": [
    "### Reading in expression data: 10x Genomics mtx files"
   ]
  },
  {
   "cell_type": "code",
   "execution_count": 9,
   "id": "2418050d",
   "metadata": {},
   "outputs": [
    {
     "ename": "FileNotFoundError",
     "evalue": "[Errno 2] No such file or directory: '/Users/lidiayung/project/resource/GSE174554_RAW/GSM5319504_SF10432_barcodesmatrix.mtx.gz'",
     "output_type": "error",
     "traceback": [
      "\u001b[0;31m---------------------------------------------------------------------------\u001b[0m",
      "\u001b[0;31mFileNotFoundError\u001b[0m                         Traceback (most recent call last)",
      "File \u001b[0;32m<timed exec>:4\u001b[0m, in \u001b[0;36m<module>\u001b[0;34m\u001b[0m\n",
      "File \u001b[0;32m~/miniconda3/lib/python3.9/site-packages/scipy/io/_mmio.py:76\u001b[0m, in \u001b[0;36mmmread\u001b[0;34m(source)\u001b[0m\n\u001b[1;32m     60\u001b[0m \u001b[38;5;28;01mdef\u001b[39;00m \u001b[38;5;21mmmread\u001b[39m(source):\n\u001b[1;32m     61\u001b[0m     \u001b[38;5;124;03m\"\"\"\u001b[39;00m\n\u001b[1;32m     62\u001b[0m \u001b[38;5;124;03m    Reads the contents of a Matrix Market file-like 'source' into a matrix.\u001b[39;00m\n\u001b[1;32m     63\u001b[0m \n\u001b[0;32m   (...)\u001b[0m\n\u001b[1;32m     74\u001b[0m \u001b[38;5;124;03m        Matrix Market file.\u001b[39;00m\n\u001b[1;32m     75\u001b[0m \u001b[38;5;124;03m    \"\"\"\u001b[39;00m\n\u001b[0;32m---> 76\u001b[0m     \u001b[38;5;28;01mreturn\u001b[39;00m \u001b[43mMMFile\u001b[49m\u001b[43m(\u001b[49m\u001b[43m)\u001b[49m\u001b[38;5;241;43m.\u001b[39;49m\u001b[43mread\u001b[49m\u001b[43m(\u001b[49m\u001b[43msource\u001b[49m\u001b[43m)\u001b[49m\n",
      "File \u001b[0;32m~/miniconda3/lib/python3.9/site-packages/scipy/io/_mmio.py:432\u001b[0m, in \u001b[0;36mMMFile.read\u001b[0;34m(self, source)\u001b[0m\n\u001b[1;32m    416\u001b[0m \u001b[38;5;28;01mdef\u001b[39;00m \u001b[38;5;21mread\u001b[39m(\u001b[38;5;28mself\u001b[39m, source):\n\u001b[1;32m    417\u001b[0m     \u001b[38;5;124;03m\"\"\"\u001b[39;00m\n\u001b[1;32m    418\u001b[0m \u001b[38;5;124;03m    Reads the contents of a Matrix Market file-like 'source' into a matrix.\u001b[39;00m\n\u001b[1;32m    419\u001b[0m \n\u001b[0;32m   (...)\u001b[0m\n\u001b[1;32m    430\u001b[0m \u001b[38;5;124;03m        Matrix Market file.\u001b[39;00m\n\u001b[1;32m    431\u001b[0m \u001b[38;5;124;03m    \"\"\"\u001b[39;00m\n\u001b[0;32m--> 432\u001b[0m     stream, close_it \u001b[38;5;241m=\u001b[39m \u001b[38;5;28;43mself\u001b[39;49m\u001b[38;5;241;43m.\u001b[39;49m\u001b[43m_open\u001b[49m\u001b[43m(\u001b[49m\u001b[43msource\u001b[49m\u001b[43m)\u001b[49m\n\u001b[1;32m    434\u001b[0m     \u001b[38;5;28;01mtry\u001b[39;00m:\n\u001b[1;32m    435\u001b[0m         \u001b[38;5;28mself\u001b[39m\u001b[38;5;241m.\u001b[39m_parse_header(stream)\n",
      "File \u001b[0;32m~/miniconda3/lib/python3.9/site-packages/scipy/io/_mmio.py:323\u001b[0m, in \u001b[0;36mMMFile._open\u001b[0;34m(filespec, mode)\u001b[0m\n\u001b[1;32m    321\u001b[0m \u001b[38;5;28;01mif\u001b[39;00m filespec\u001b[38;5;241m.\u001b[39mendswith(\u001b[38;5;124m'\u001b[39m\u001b[38;5;124m.gz\u001b[39m\u001b[38;5;124m'\u001b[39m):\n\u001b[1;32m    322\u001b[0m     \u001b[38;5;28;01mimport\u001b[39;00m \u001b[38;5;21;01mgzip\u001b[39;00m\n\u001b[0;32m--> 323\u001b[0m     stream \u001b[38;5;241m=\u001b[39m \u001b[43mgzip\u001b[49m\u001b[38;5;241;43m.\u001b[39;49m\u001b[43mopen\u001b[49m\u001b[43m(\u001b[49m\u001b[43mfilespec\u001b[49m\u001b[43m,\u001b[49m\u001b[43m \u001b[49m\u001b[43mmode\u001b[49m\u001b[43m)\u001b[49m\n\u001b[1;32m    324\u001b[0m \u001b[38;5;28;01melif\u001b[39;00m filespec\u001b[38;5;241m.\u001b[39mendswith(\u001b[38;5;124m'\u001b[39m\u001b[38;5;124m.bz2\u001b[39m\u001b[38;5;124m'\u001b[39m):\n\u001b[1;32m    325\u001b[0m     \u001b[38;5;28;01mimport\u001b[39;00m \u001b[38;5;21;01mbz2\u001b[39;00m\n",
      "File \u001b[0;32m~/miniconda3/lib/python3.9/gzip.py:58\u001b[0m, in \u001b[0;36mopen\u001b[0;34m(filename, mode, compresslevel, encoding, errors, newline)\u001b[0m\n\u001b[1;32m     56\u001b[0m gz_mode \u001b[38;5;241m=\u001b[39m mode\u001b[38;5;241m.\u001b[39mreplace(\u001b[38;5;124m\"\u001b[39m\u001b[38;5;124mt\u001b[39m\u001b[38;5;124m\"\u001b[39m, \u001b[38;5;124m\"\u001b[39m\u001b[38;5;124m\"\u001b[39m)\n\u001b[1;32m     57\u001b[0m \u001b[38;5;28;01mif\u001b[39;00m \u001b[38;5;28misinstance\u001b[39m(filename, (\u001b[38;5;28mstr\u001b[39m, \u001b[38;5;28mbytes\u001b[39m, os\u001b[38;5;241m.\u001b[39mPathLike)):\n\u001b[0;32m---> 58\u001b[0m     binary_file \u001b[38;5;241m=\u001b[39m \u001b[43mGzipFile\u001b[49m\u001b[43m(\u001b[49m\u001b[43mfilename\u001b[49m\u001b[43m,\u001b[49m\u001b[43m \u001b[49m\u001b[43mgz_mode\u001b[49m\u001b[43m,\u001b[49m\u001b[43m \u001b[49m\u001b[43mcompresslevel\u001b[49m\u001b[43m)\u001b[49m\n\u001b[1;32m     59\u001b[0m \u001b[38;5;28;01melif\u001b[39;00m \u001b[38;5;28mhasattr\u001b[39m(filename, \u001b[38;5;124m\"\u001b[39m\u001b[38;5;124mread\u001b[39m\u001b[38;5;124m\"\u001b[39m) \u001b[38;5;129;01mor\u001b[39;00m \u001b[38;5;28mhasattr\u001b[39m(filename, \u001b[38;5;124m\"\u001b[39m\u001b[38;5;124mwrite\u001b[39m\u001b[38;5;124m\"\u001b[39m):\n\u001b[1;32m     60\u001b[0m     binary_file \u001b[38;5;241m=\u001b[39m GzipFile(\u001b[38;5;28;01mNone\u001b[39;00m, gz_mode, compresslevel, filename)\n",
      "File \u001b[0;32m~/miniconda3/lib/python3.9/gzip.py:173\u001b[0m, in \u001b[0;36mGzipFile.__init__\u001b[0;34m(self, filename, mode, compresslevel, fileobj, mtime)\u001b[0m\n\u001b[1;32m    171\u001b[0m     mode \u001b[38;5;241m+\u001b[39m\u001b[38;5;241m=\u001b[39m \u001b[38;5;124m'\u001b[39m\u001b[38;5;124mb\u001b[39m\u001b[38;5;124m'\u001b[39m\n\u001b[1;32m    172\u001b[0m \u001b[38;5;28;01mif\u001b[39;00m fileobj \u001b[38;5;129;01mis\u001b[39;00m \u001b[38;5;28;01mNone\u001b[39;00m:\n\u001b[0;32m--> 173\u001b[0m     fileobj \u001b[38;5;241m=\u001b[39m \u001b[38;5;28mself\u001b[39m\u001b[38;5;241m.\u001b[39mmyfileobj \u001b[38;5;241m=\u001b[39m \u001b[43mbuiltins\u001b[49m\u001b[38;5;241;43m.\u001b[39;49m\u001b[43mopen\u001b[49m\u001b[43m(\u001b[49m\u001b[43mfilename\u001b[49m\u001b[43m,\u001b[49m\u001b[43m \u001b[49m\u001b[43mmode\u001b[49m\u001b[43m \u001b[49m\u001b[38;5;129;43;01mor\u001b[39;49;00m\u001b[43m \u001b[49m\u001b[38;5;124;43m'\u001b[39;49m\u001b[38;5;124;43mrb\u001b[39;49m\u001b[38;5;124;43m'\u001b[39;49m\u001b[43m)\u001b[49m\n\u001b[1;32m    174\u001b[0m \u001b[38;5;28;01mif\u001b[39;00m filename \u001b[38;5;129;01mis\u001b[39;00m \u001b[38;5;28;01mNone\u001b[39;00m:\n\u001b[1;32m    175\u001b[0m     filename \u001b[38;5;241m=\u001b[39m \u001b[38;5;28mgetattr\u001b[39m(fileobj, \u001b[38;5;124m'\u001b[39m\u001b[38;5;124mname\u001b[39m\u001b[38;5;124m'\u001b[39m, \u001b[38;5;124m'\u001b[39m\u001b[38;5;124m'\u001b[39m)\n",
      "\u001b[0;31mFileNotFoundError\u001b[0m: [Errno 2] No such file or directory: '/Users/lidiayung/project/resource/GSE174554_RAW/GSM5319504_SF10432_barcodesmatrix.mtx.gz'"
     ]
    }
   ],
   "source": [
    "%%time \n",
    "\n",
    "# define MEX directory\n",
    "matrix_dir = \"/Users/lidiayung/project/resource/GSE174554_RAW/\"\n",
    "# read in MEX format matrix as table\n",
    "mat = scipy.io.mmread(os.path.join(matrix_dir, \"GSM5319504_SF10432_barcodesmatrix.mtx.gz\"))\n",
    " \n",
    "# list of transcript ids, e.g. 'ENSG00000243485'\n",
    "features_path = os.path.join(matrix_dir, \"GSM5319504_SF10432_barcodesfeatures.tsv.gz\")\n",
    "#feature_ids = [row[0] for row in csv.reader(gzip.open(features_path, mode=\"rt\"), delimiter=\"\\t\")]\n",
    " \n",
    "# list of gene names, e.g. 'MIR1302-2HG'\n",
    "gene_names = [row[0] for row in csv.reader(gzip.open(features_path, mode=\"rt\"), delimiter=\"\\t\")]\n",
    " \n",
    "# list of feature_types, e.g. 'Gene Expression'\n",
    "feature_types = [row[0] for row in csv.reader(gzip.open(features_path, mode=\"rt\"), delimiter=\"\\t\")]\n",
    "barcodes_path = os.path.join(matrix_dir, \"GSM5319504_SF10432_barcodesbarcodes.tsv.gz\")\n",
    "barcodes = [row[0] for row in csv.reader(gzip.open(barcodes_path, mode=\"rt\"), delimiter=\"\\t\")]"
   ]
  },
  {
   "cell_type": "code",
   "execution_count": 10,
   "id": "fbf4eaf1",
   "metadata": {},
   "outputs": [
    {
     "ename": "NameError",
     "evalue": "name 'mat' is not defined",
     "output_type": "error",
     "traceback": [
      "\u001b[0;31m---------------------------------------------------------------------------\u001b[0m",
      "\u001b[0;31mNameError\u001b[0m                                 Traceback (most recent call last)",
      "Input \u001b[0;32mIn [10]\u001b[0m, in \u001b[0;36m<cell line: 2>\u001b[0;34m()\u001b[0m\n\u001b[1;32m      1\u001b[0m \u001b[38;5;66;03m# transform table to pandas dataframe and label rows and columns\u001b[39;00m\n\u001b[0;32m----> 2\u001b[0m matrix \u001b[38;5;241m=\u001b[39m pd\u001b[38;5;241m.\u001b[39mDataFrame\u001b[38;5;241m.\u001b[39msparse\u001b[38;5;241m.\u001b[39mfrom_spmatrix(\u001b[43mmat\u001b[49m)\n\u001b[1;32m      3\u001b[0m matrix\u001b[38;5;241m.\u001b[39mcolumns \u001b[38;5;241m=\u001b[39m barcodes\n\u001b[1;32m      4\u001b[0m \u001b[38;5;66;03m#matrix.insert(loc=0, column=\"feature_id\", value=feature_ids)\u001b[39;00m\n\u001b[1;32m      5\u001b[0m \u001b[38;5;66;03m#matrix.insert(loc=0, column=\"feature_type\", value=feature_types)\u001b[39;00m\n",
      "\u001b[0;31mNameError\u001b[0m: name 'mat' is not defined"
     ]
    }
   ],
   "source": [
    "# transform table to pandas dataframe and label rows and columns\n",
    "matrix = pd.DataFrame.sparse.from_spmatrix(mat)\n",
    "matrix.columns = barcodes\n",
    "#matrix.insert(loc=0, column=\"feature_id\", value=feature_ids)\n",
    "#matrix.insert(loc=0, column=\"feature_type\", value=feature_types)\n",
    "matrix=matrix.transpose() \n",
    "# display matrix\n",
    "matrix.columns = gene_names\n",
    "print(matrix.head())\n",
    "# save the table as a CSV (note the CSV will be a very large file)\n",
    "#matrix.to_csv(\"mex_matrix.csv\", index=False)"
   ]
  },
  {
   "cell_type": "code",
   "execution_count": null,
   "id": "0a2f4c9a",
   "metadata": {},
   "outputs": [],
   "source": [
    "matrix.shape"
   ]
  },
  {
   "cell_type": "code",
   "execution_count": 11,
   "id": "128de8e4",
   "metadata": {},
   "outputs": [
    {
     "ename": "NameError",
     "evalue": "name 'matrix' is not defined",
     "output_type": "error",
     "traceback": [
      "\u001b[0;31m---------------------------------------------------------------------------\u001b[0m",
      "\u001b[0;31mNameError\u001b[0m                                 Traceback (most recent call last)",
      "Input \u001b[0;32mIn [11]\u001b[0m, in \u001b[0;36m<cell line: 2>\u001b[0;34m()\u001b[0m\n\u001b[1;32m      1\u001b[0m \u001b[38;5;66;03m# convert the index and columns to DataFrame objects\u001b[39;00m\n\u001b[0;32m----> 2\u001b[0m obs_df \u001b[38;5;241m=\u001b[39m \u001b[43mmatrix\u001b[49m\u001b[38;5;241m.\u001b[39mindex\u001b[38;5;241m.\u001b[39mto_frame(index\u001b[38;5;241m=\u001b[39m\u001b[38;5;28;01mFalse\u001b[39;00m)\n\u001b[1;32m      3\u001b[0m var_df \u001b[38;5;241m=\u001b[39m matrix\u001b[38;5;241m.\u001b[39mcolumns\u001b[38;5;241m.\u001b[39mto_frame(index\u001b[38;5;241m=\u001b[39m\u001b[38;5;28;01mFalse\u001b[39;00m)\n\u001b[1;32m      5\u001b[0m \u001b[38;5;66;03m# create an AnnData object from the DataFrame\u001b[39;00m\n",
      "\u001b[0;31mNameError\u001b[0m: name 'matrix' is not defined"
     ]
    }
   ],
   "source": [
    "# convert the index and columns to DataFrame objects\n",
    "obs_df = matrix.index.to_frame(index=False)\n",
    "var_df = matrix.columns.to_frame(index=False)\n",
    "\n",
    "# create an AnnData object from the DataFrame\n",
    "adata = ad.AnnData(X=matrix.values, obs=obs_df, var=var_df)\n",
    "\n",
    "# print the resulting AnnData object\n",
    "print(adata)\n",
    "\n",
    "row_attrs = { \n",
    "    \"Gene\": np.array(var_df[0]) ,\n",
    "}\n",
    "col_attrs = { \n",
    "    \"CellID\":  np.array(matrix.index) ,\n",
    "    \"nGene\": np.array( np.sum(adata.X.transpose()>0 , axis=0)).flatten() ,\n",
    "    \"nUMI\": np.array( np.sum(adata.X.transpose() , axis=0)).flatten() ,\n",
    "}\n",
    "lp.create( f_loom_path_unfilt, adata.X.transpose(), row_attrs, col_attrs )"
   ]
  },
  {
   "cell_type": "code",
   "execution_count": 12,
   "id": "108e9daf",
   "metadata": {},
   "outputs": [
    {
     "ename": "NameError",
     "evalue": "name 'adata' is not defined",
     "output_type": "error",
     "traceback": [
      "\u001b[0;31m---------------------------------------------------------------------------\u001b[0m",
      "\u001b[0;31mNameError\u001b[0m                                 Traceback (most recent call last)",
      "Input \u001b[0;32mIn [12]\u001b[0m, in \u001b[0;36m<cell line: 1>\u001b[0;34m()\u001b[0m\n\u001b[0;32m----> 1\u001b[0m info \u001b[38;5;241m=\u001b[39m \u001b[43madata\u001b[49m\u001b[38;5;241m.\u001b[39mX\u001b[38;5;241m.\u001b[39mtranspose()\n\u001b[1;32m      2\u001b[0m \u001b[38;5;28mprint\u001b[39m(info\u001b[38;5;241m.\u001b[39mshape)\n\u001b[1;32m      3\u001b[0m \u001b[38;5;28mprint\u001b[39m(\u001b[38;5;124m'\u001b[39m\u001b[38;5;124mloaded an expression matrix of \u001b[39m\u001b[38;5;132;01m{}\u001b[39;00m\u001b[38;5;124m cells by \u001b[39m\u001b[38;5;132;01m{}\u001b[39;00m\u001b[38;5;124m genes\u001b[39m\u001b[38;5;124m'\u001b[39m\u001b[38;5;241m.\u001b[39mformat(info\u001b[38;5;241m.\u001b[39mshape[\u001b[38;5;241m1\u001b[39m], info\u001b[38;5;241m.\u001b[39mshape[\u001b[38;5;241m0\u001b[39m]))\n",
      "\u001b[0;31mNameError\u001b[0m: name 'adata' is not defined"
     ]
    }
   ],
   "source": [
    "info = adata.X.transpose()\n",
    "print(info.shape)\n",
    "print('loaded an expression matrix of {} cells by {} genes'.format(info.shape[1], info.shape[0]))\n",
    "print('number of genes: {}'.format(len(adata.var.index)))\n",
    "print('number of cells: {}'.format(len(adata.obs.index)))"
   ]
  },
  {
   "cell_type": "markdown",
   "id": "5c49180e",
   "metadata": {},
   "source": [
    "## Initial/basic filtering"
   ]
  },
  {
   "cell_type": "code",
   "execution_count": null,
   "id": "1af58ec9",
   "metadata": {},
   "outputs": [],
   "source": [
    "# read unfiltered data from a loom file\n",
    "adata = sc.read_loom( f_loom_path_unfilt )"
   ]
  },
  {
   "cell_type": "code",
   "execution_count": null,
   "id": "02915f39",
   "metadata": {},
   "outputs": [],
   "source": [
    "adata"
   ]
  },
  {
   "cell_type": "code",
   "execution_count": null,
   "id": "c4fe01e5",
   "metadata": {},
   "outputs": [],
   "source": [
    "nCountsPerGene = np.sum(adata.X, axis=0)\n",
    "nCellsPerGene = np.sum(adata.X>0, axis=0)\n",
    "\n",
    "# Show info\n",
    "print(\"Number of counts (in the dataset units) per gene:\", nCountsPerGene.min(), \" - \" ,nCountsPerGene.max())\n",
    "print(\"Number of cells in which each gene is detected:\", nCellsPerGene.min(), \" - \" ,nCellsPerGene.max())"
   ]
  },
  {
   "cell_type": "code",
   "execution_count": null,
   "id": "b7f1c147",
   "metadata": {},
   "outputs": [],
   "source": [
    "nCells=adata.X.shape[0]\n",
    "\n",
    "# pySCENIC thresholds\n",
    "minCountsPerGene=3*.01*nCells # 3 counts in 1% of cells\n",
    "print(\"minCountsPerGene: \", minCountsPerGene)\n",
    "\n",
    "minSamples=.01*nCells # 1% of cells\n",
    "print(\"minSamples: \", minSamples)"
   ]
  },
  {
   "cell_type": "code",
   "execution_count": null,
   "id": "afe4bd00",
   "metadata": {},
   "outputs": [],
   "source": [
    "# simply compute the number of genes per cell (computers 'n_genes' column)\n",
    "sc.pp.filter_cells(adata, min_genes=0)\n",
    "# mito and genes/counts cuts\n",
    "mito_genes = adata.var_names.str.startswith('MT-')\n",
    "# for each cell compute fraction of counts in mito genes vs. all genes\n",
    "adata.obs['percent_mito'] = np.sum(\n",
    "    adata[:, mito_genes].X, axis=1).A1 / np.sum(adata.X, axis=1).A1\n",
    "# add the total counts per cell as observations-annotation to adata\n",
    "adata.obs['n_counts'] = adata.X.sum(axis=1).A1"
   ]
  },
  {
   "cell_type": "markdown",
   "id": "901675c2",
   "metadata": {},
   "source": [
    "### Diagnostic plots, pre-filtering"
   ]
  },
  {
   "cell_type": "code",
   "execution_count": null,
   "id": "083fb864",
   "metadata": {},
   "outputs": [],
   "source": [
    "#### Number of genes expressed per cell"
   ]
  },
  {
   "cell_type": "code",
   "execution_count": 3,
   "id": "54fa5b75",
   "metadata": {},
   "outputs": [
    {
     "ename": "NameError",
     "evalue": "name 'adata' is not defined",
     "output_type": "error",
     "traceback": [
      "\u001b[0;31m---------------------------------------------------------------------------\u001b[0m",
      "\u001b[0;31mNameError\u001b[0m                                 Traceback (most recent call last)",
      "Input \u001b[0;32mIn [3]\u001b[0m, in \u001b[0;36m<cell line: 3>\u001b[0;34m()\u001b[0m\n\u001b[1;32m      1\u001b[0m fig, (ax1, ax2, ax3) \u001b[38;5;241m=\u001b[39m plt\u001b[38;5;241m.\u001b[39msubplots(\u001b[38;5;241m1\u001b[39m, \u001b[38;5;241m3\u001b[39m, figsize\u001b[38;5;241m=\u001b[39m(\u001b[38;5;241m12\u001b[39m, \u001b[38;5;241m4\u001b[39m), dpi\u001b[38;5;241m=\u001b[39m\u001b[38;5;241m150\u001b[39m, sharey\u001b[38;5;241m=\u001b[39m\u001b[38;5;28;01mTrue\u001b[39;00m)\n\u001b[0;32m----> 3\u001b[0m x \u001b[38;5;241m=\u001b[39m \u001b[43madata\u001b[49m\u001b[38;5;241m.\u001b[39mobs[\u001b[38;5;124m'\u001b[39m\u001b[38;5;124mn_genes\u001b[39m\u001b[38;5;124m'\u001b[39m]\n\u001b[1;32m      4\u001b[0m x_lowerbound \u001b[38;5;241m=\u001b[39m \u001b[38;5;241m1500\u001b[39m\n\u001b[1;32m      5\u001b[0m x_upperbound \u001b[38;5;241m=\u001b[39m \u001b[38;5;241m2000\u001b[39m\n",
      "\u001b[0;31mNameError\u001b[0m: name 'adata' is not defined"
     ]
    },
    {
     "data": {
      "image/png": "[encoded data removed]",
      "text/plain": [
       "<Figure size 1800x600 with 3 Axes>"
      ]
     },
     "metadata": {
      "needs_background": "light"
     },
     "output_type": "display_data"
    }
   ],
   "source": [
    "fig, (ax1, ax2, ax3) = plt.subplots(1, 3, figsize=(12, 4), dpi=150, sharey=True)\n",
    "\n",
    "x = adata.obs['n_genes']\n",
    "x_lowerbound = 1500\n",
    "x_upperbound = 2000\n",
    "nbins=100\n",
    "\n",
    "sns.distplot(x, ax=ax1, norm_hist=True, bins=nbins)\n",
    "sns.distplot(x, ax=ax2, norm_hist=True, bins=nbins)\n",
    "sns.distplot(x, ax=ax3, norm_hist=True, bins=nbins)\n",
    "\n",
    "ax2.set_xlim(0,x_lowerbound)\n",
    "ax3.set_xlim(x_upperbound, adata.obs['n_genes'].max() )\n",
    "\n",
    "for ax in (ax1,ax2,ax3): \n",
    "  ax.set_xlabel('')\n",
    "\n",
    "ax1.title.set_text('n_genes')\n",
    "ax2.title.set_text('n_genes, lower bound')\n",
    "ax3.title.set_text('n_genes, upper bound')\n",
    "\n",
    "fig.text(-0.01, 0.5, 'Frequency', ha='center', va='center', rotation='vertical', size='x-large')\n",
    "fig.text(0.5, 0.0, 'Genes expressed per cell', ha='center', va='center', size='x-large')\n",
    "\n",
    "fig.tight_layout()"
   ]
  },
  {
   "cell_type": "code",
   "execution_count": null,
   "id": "e0307588",
   "metadata": {},
   "outputs": [],
   "source": [
    "#### Percentage of mitochondrial reads per cell"
   ]
  },
  {
   "cell_type": "code",
   "execution_count": 4,
   "id": "13f5aca9",
   "metadata": {},
   "outputs": [
    {
     "ename": "NameError",
     "evalue": "name 'adata' is not defined",
     "output_type": "error",
     "traceback": [
      "\u001b[0;31m---------------------------------------------------------------------------\u001b[0m",
      "\u001b[0;31mNameError\u001b[0m                                 Traceback (most recent call last)",
      "Input \u001b[0;32mIn [4]\u001b[0m, in \u001b[0;36m<cell line: 3>\u001b[0;34m()\u001b[0m\n\u001b[1;32m      1\u001b[0m fig, (ax1, ax2, ax3) \u001b[38;5;241m=\u001b[39m plt\u001b[38;5;241m.\u001b[39msubplots(\u001b[38;5;241m1\u001b[39m, \u001b[38;5;241m3\u001b[39m, figsize\u001b[38;5;241m=\u001b[39m(\u001b[38;5;241m12\u001b[39m, \u001b[38;5;241m4\u001b[39m), dpi\u001b[38;5;241m=\u001b[39m\u001b[38;5;241m150\u001b[39m, sharey\u001b[38;5;241m=\u001b[39m\u001b[38;5;28;01mTrue\u001b[39;00m)\n\u001b[0;32m----> 3\u001b[0m x \u001b[38;5;241m=\u001b[39m \u001b[43madata\u001b[49m\u001b[38;5;241m.\u001b[39mobs[\u001b[38;5;124m'\u001b[39m\u001b[38;5;124mpercent_mito\u001b[39m\u001b[38;5;124m'\u001b[39m]\n\u001b[1;32m      4\u001b[0m x_lowerbound \u001b[38;5;241m=\u001b[39m [\u001b[38;5;241m0.0\u001b[39m, \u001b[38;5;241m0.07\u001b[39m ]\n\u001b[1;32m      5\u001b[0m x_upperbound \u001b[38;5;241m=\u001b[39m [ \u001b[38;5;241m0.10\u001b[39m, \u001b[38;5;241m0.3\u001b[39m ]\n",
      "\u001b[0;31mNameError\u001b[0m: name 'adata' is not defined"
     ]
    },
    {
     "data": {
      "image/png": "[encoded data removed]",
      "text/plain": [
       "<Figure size 1800x600 with 3 Axes>"
      ]
     },
     "metadata": {
      "needs_background": "light"
     },
     "output_type": "display_data"
    }
   ],
   "source": [
    "fig, (ax1, ax2, ax3) = plt.subplots(1, 3, figsize=(12, 4), dpi=150, sharey=True)\n",
    "\n",
    "x = adata.obs['percent_mito']\n",
    "x_lowerbound = [0.0, 0.07 ]\n",
    "x_upperbound = [ 0.10, 0.3 ]\n",
    "nbins=100\n",
    "\n",
    "sns.distplot(x, ax=ax1, norm_hist=True, bins=nbins)\n",
    "sns.distplot(x, ax=ax2, norm_hist=True, bins=int(nbins/(x_lowerbound[1]-x_lowerbound[0])) )\n",
    "sns.distplot(x, ax=ax3, norm_hist=True, bins=int(nbins/(x_upperbound[1]-x_upperbound[0])) )\n",
    "\n",
    "ax2.set_xlim(x_lowerbound[0], x_lowerbound[1])\n",
    "ax3.set_xlim(x_upperbound[0], x_upperbound[1] )\n",
    "for ax in (ax1,ax2,ax3): \n",
    "  ax.set_xlabel('')\n",
    "\n",
    "ax1.title.set_text('percent_mito')\n",
    "ax2.title.set_text('percent_mito, lower bound')\n",
    "ax3.title.set_text('percent_mito, upper bound')\n",
    "\n",
    "fig.text(-0.01, 0.5, 'Frequency', ha='center', va='center', rotation='vertical', size='x-large')\n",
    "fig.text(0.5, 0.0, 'Mitochondrial read fraction per cell', ha='center', va='center', size='x-large')\n",
    "\n",
    "fig.tight_layout()"
   ]
  },
  {
   "cell_type": "markdown",
   "id": "a72b78d6",
   "metadata": {},
   "source": [
    "#### Three-panel summary plots"
   ]
  },
  {
   "cell_type": "code",
   "execution_count": 5,
   "id": "b695de73",
   "metadata": {},
   "outputs": [
    {
     "ename": "NameError",
     "evalue": "name 'adata' is not defined",
     "output_type": "error",
     "traceback": [
      "\u001b[0;31m---------------------------------------------------------------------------\u001b[0m",
      "\u001b[0;31mNameError\u001b[0m                                 Traceback (most recent call last)",
      "Input \u001b[0;32mIn [5]\u001b[0m, in \u001b[0;36m<cell line: 3>\u001b[0;34m()\u001b[0m\n\u001b[1;32m      1\u001b[0m fig, (ax1, ax2, ax3) \u001b[38;5;241m=\u001b[39m plt\u001b[38;5;241m.\u001b[39msubplots(\u001b[38;5;241m1\u001b[39m, \u001b[38;5;241m3\u001b[39m, figsize\u001b[38;5;241m=\u001b[39m(\u001b[38;5;241m12\u001b[39m, \u001b[38;5;241m4\u001b[39m), dpi\u001b[38;5;241m=\u001b[39m\u001b[38;5;241m150\u001b[39m, sharey\u001b[38;5;241m=\u001b[39m\u001b[38;5;28;01mFalse\u001b[39;00m)\n\u001b[0;32m----> 3\u001b[0m sns\u001b[38;5;241m.\u001b[39mdistplot( \u001b[43madata\u001b[49m\u001b[38;5;241m.\u001b[39mobs[\u001b[38;5;124m'\u001b[39m\u001b[38;5;124mn_genes\u001b[39m\u001b[38;5;124m'\u001b[39m], ax\u001b[38;5;241m=\u001b[39max1, norm_hist\u001b[38;5;241m=\u001b[39m\u001b[38;5;28;01mTrue\u001b[39;00m, bins\u001b[38;5;241m=\u001b[39m\u001b[38;5;241m100\u001b[39m)\n\u001b[1;32m      4\u001b[0m sns\u001b[38;5;241m.\u001b[39mdistplot( adata\u001b[38;5;241m.\u001b[39mobs[\u001b[38;5;124m'\u001b[39m\u001b[38;5;124mn_counts\u001b[39m\u001b[38;5;124m'\u001b[39m], ax\u001b[38;5;241m=\u001b[39max2, norm_hist\u001b[38;5;241m=\u001b[39m\u001b[38;5;28;01mTrue\u001b[39;00m, bins\u001b[38;5;241m=\u001b[39m\u001b[38;5;241m100\u001b[39m)\n\u001b[1;32m      5\u001b[0m sns\u001b[38;5;241m.\u001b[39mdistplot( adata\u001b[38;5;241m.\u001b[39mobs[\u001b[38;5;124m'\u001b[39m\u001b[38;5;124mpercent_mito\u001b[39m\u001b[38;5;124m'\u001b[39m], ax\u001b[38;5;241m=\u001b[39max3, norm_hist\u001b[38;5;241m=\u001b[39m\u001b[38;5;28;01mTrue\u001b[39;00m, bins\u001b[38;5;241m=\u001b[39m\u001b[38;5;241m100\u001b[39m)\n",
      "\u001b[0;31mNameError\u001b[0m: name 'adata' is not defined"
     ]
    },
    {
     "data": {
      "image/png": "[encoded data removed]",
      "text/plain": [
       "<Figure size 1800x600 with 3 Axes>"
      ]
     },
     "metadata": {
      "needs_background": "light"
     },
     "output_type": "display_data"
    }
   ],
   "source": [
    "fig, (ax1, ax2, ax3) = plt.subplots(1, 3, figsize=(12, 4), dpi=150, sharey=False)\n",
    "\n",
    "sns.distplot( adata.obs['n_genes'], ax=ax1, norm_hist=True, bins=100)\n",
    "sns.distplot( adata.obs['n_counts'], ax=ax2, norm_hist=True, bins=100)\n",
    "sns.distplot( adata.obs['percent_mito'], ax=ax3, norm_hist=True, bins=100)\n",
    "\n",
    "ax1.title.set_text('Number of genes expressed per cell')\n",
    "ax2.title.set_text('Counts per cell')\n",
    "ax3.title.set_text('Mitochondrial read fraction per cell')\n",
    "\n",
    "fig.text(-0.01, 0.5, 'Frequency', ha='center', va='center', rotation='vertical', size='x-large')\n",
    "\n",
    "fig.tight_layout()\n",
    "\n",
    "fig.savefig('filtering_panel_prefilter.pdf', dpi=600, bbox_inches='tight')"
   ]
  },
  {
   "cell_type": "code",
   "execution_count": null,
   "id": "25b1b25e",
   "metadata": {},
   "outputs": [],
   "source": [
    "sc.pl.violin(adata, ['n_genes', 'n_counts', 'percent_mito'],\n",
    "    jitter=0.4, multi_panel=True )"
   ]
  },
  {
   "cell_type": "code",
   "execution_count": 6,
   "id": "5f9a7fc4",
   "metadata": {},
   "outputs": [
    {
     "ename": "NameError",
     "evalue": "name 'adata' is not defined",
     "output_type": "error",
     "traceback": [
      "\u001b[0;31m---------------------------------------------------------------------------\u001b[0m",
      "\u001b[0;31mNameError\u001b[0m                                 Traceback (most recent call last)",
      "Input \u001b[0;32mIn [6]\u001b[0m, in \u001b[0;36m<cell line: 1>\u001b[0;34m()\u001b[0m\n\u001b[0;32m----> 1\u001b[0m sc\u001b[38;5;241m.\u001b[39mpl\u001b[38;5;241m.\u001b[39mscatter(\u001b[43madata\u001b[49m, x\u001b[38;5;241m=\u001b[39m\u001b[38;5;124m'\u001b[39m\u001b[38;5;124mn_counts\u001b[39m\u001b[38;5;124m'\u001b[39m, y\u001b[38;5;241m=\u001b[39m\u001b[38;5;124m'\u001b[39m\u001b[38;5;124mn_genes\u001b[39m\u001b[38;5;124m'\u001b[39m, color\u001b[38;5;241m=\u001b[39m\u001b[38;5;124m'\u001b[39m\u001b[38;5;124mpercent_mito\u001b[39m\u001b[38;5;124m'\u001b[39m)\n",
      "\u001b[0;31mNameError\u001b[0m: name 'adata' is not defined"
     ]
    }
   ],
   "source": [
    "sc.pl.scatter(adata, x='n_counts', y='n_genes', color='percent_mito')"
   ]
  },
  {
   "cell_type": "markdown",
   "id": "ab28121f",
   "metadata": {},
   "source": [
    "### Carry out the filtering steps:"
   ]
  },
  {
   "cell_type": "code",
   "execution_count": 22,
   "id": "6ca0fb4c",
   "metadata": {},
   "outputs": [],
   "source": [
    "# initial cuts\n",
    "sc.pp.filter_cells(adata, min_genes=200 )\n",
    "#sc.pp.filter_genes(adata, min_cells=3 )"
   ]
  },
  {
   "cell_type": "code",
   "execution_count": 23,
   "id": "c3beacdc",
   "metadata": {},
   "outputs": [],
   "source": [
    "#adata = adata[adata.obs['n_genes'] < 4000, :]\n",
    "adata = adata[adata.obs['percent_mito'] <=0.025, :]"
   ]
  },
  {
   "cell_type": "code",
   "execution_count": 39,
   "id": "2e844f3d",
   "metadata": {},
   "outputs": [
    {
     "data": {
      "text/plain": [
       "CellID\n",
       "AAACCCAAGACTCCGC-1    0.000000\n",
       "AAACGAAGTCGCATTA-1    0.009554\n",
       "AAACGAATCGACACCG-1    0.001529\n",
       "AAACGCTAGGCTTTCA-1    0.007856\n",
       "AAAGGATAGTAATTGG-1    0.002217\n",
       "                        ...   \n",
       "TTTGACTTCACCTGTC-1    0.001963\n",
       "TTTGACTTCTATCGCC-1    0.005607\n",
       "TTTGGAGTCAAAGACA-1    0.001499\n",
       "TTTGGAGTCTTCCACG-1    0.000000\n",
       "TTTGGTTTCTCATAGG-1    0.000310\n",
       "Name: percent_mito, Length: 735, dtype: float32"
      ]
     },
     "execution_count": 39,
     "metadata": {},
     "output_type": "execute_result"
    }
   ],
   "source": []
  },
  {
   "cell_type": "markdown",
   "id": "9d75c24d",
   "metadata": {},
   "source": [
    "### Diagnostic plots, post filtering"
   ]
  },
  {
   "cell_type": "code",
   "execution_count": 24,
   "id": "e0ab0da0",
   "metadata": {},
   "outputs": [],
   "source": [
    "#### Three-panel summary plots"
   ]
  },
  {
   "cell_type": "code",
   "execution_count": 25,
   "id": "3913390a",
   "metadata": {},
   "outputs": [
    {
     "name": "stderr",
     "output_type": "stream",
     "text": [
      "/Users/lidiayung/miniconda3/lib/python3.9/site-packages/seaborn/distributions.py:2619: FutureWarning: `distplot` is a deprecated function and will be removed in a future version. Please adapt your code to use either `displot` (a figure-level function with similar flexibility) or `histplot` (an axes-level function for histograms).\n",
      "  warnings.warn(msg, FutureWarning)\n",
      "/Users/lidiayung/miniconda3/lib/python3.9/site-packages/seaborn/distributions.py:2619: FutureWarning: `distplot` is a deprecated function and will be removed in a future version. Please adapt your code to use either `displot` (a figure-level function with similar flexibility) or `histplot` (an axes-level function for histograms).\n",
      "  warnings.warn(msg, FutureWarning)\n",
      "/Users/lidiayung/miniconda3/lib/python3.9/site-packages/seaborn/distributions.py:2619: FutureWarning: `distplot` is a deprecated function and will be removed in a future version. Please adapt your code to use either `displot` (a figure-level function with similar flexibility) or `histplot` (an axes-level function for histograms).\n",
      "  warnings.warn(msg, FutureWarning)\n"
     ]
    },
    {
     "data": {
      "image/png": "[encoded data removed]",
      "text/plain": [
       "<Figure size 1800x600 with 3 Axes>"
      ]
     },
     "metadata": {
      "needs_background": "light"
     },
     "output_type": "display_data"
    }
   ],
   "source": [
    "fig, (ax1, ax2, ax3) = plt.subplots(1, 3, figsize=(12, 4), dpi=150, sharey=False)\n",
    "\n",
    "adata.obs['n_genes']\n",
    "\n",
    "sns.distplot( adata.obs['n_genes'], ax=ax1, norm_hist=True, bins=100)\n",
    "sns.distplot( adata.obs['n_counts'], ax=ax2, norm_hist=True, bins=100)\n",
    "sns.distplot( adata.obs['percent_mito'], ax=ax3, norm_hist=True, bins=100)\n",
    "\n",
    "ax1.title.set_text('Number of genes expressed per cell')\n",
    "ax2.title.set_text('Counts per cell')\n",
    "ax3.title.set_text('Mitochondrial read fraction per cell')\n",
    "\n",
    "fig.text(-0.01, 0.5, 'Frequency', ha='center', va='center', rotation='vertical', size='x-large')\n",
    "\n",
    "fig.tight_layout()\n",
    "\n",
    "fig.savefig('filtering_panel_postfilter.pdf', dpi=600, bbox_inches='tight')"
   ]
  },
  {
   "cell_type": "code",
   "execution_count": 26,
   "id": "4180ebde",
   "metadata": {},
   "outputs": [
    {
     "data": {
      "image/png": "[encoded data removed]",
      "text/plain": [
       "<Figure size 1080x360 with 3 Axes>"
      ]
     },
     "metadata": {
      "needs_background": "light"
     },
     "output_type": "display_data"
    }
   ],
   "source": [
    "sc.pl.violin(adata, ['n_genes', 'n_counts', 'percent_mito'],\n",
    "    jitter=0.4, multi_panel=True )"
   ]
  },
  {
   "cell_type": "markdown",
   "id": "76b6c227",
   "metadata": {},
   "source": [
    "#### Scatter plot, n_genes by n_counts"
   ]
  },
  {
   "cell_type": "code",
   "execution_count": 27,
   "id": "69abcd30",
   "metadata": {},
   "outputs": [
    {
     "data": {
      "image/png": "[encoded data removed]",
      "text/plain": [
       "<Figure size 541.714x288 with 2 Axes>"
      ]
     },
     "metadata": {
      "needs_background": "light"
     },
     "output_type": "display_data"
    }
   ],
   "source": [
    "sc.pl.scatter(adata, x='n_counts', y='n_genes', color='percent_mito')"
   ]
  },
  {
   "cell_type": "markdown",
   "id": "309b553e",
   "metadata": {},
   "source": [
    "### Finalize the selected filters\n",
    "\n",
    "Update the anndata file, to be used for further processing, clustering, visualization, etc.."
   ]
  },
  {
   "cell_type": "code",
   "execution_count": 28,
   "id": "67e37f5f",
   "metadata": {},
   "outputs": [],
   "source": [
    "adata.write( f_anndata_path )"
   ]
  },
  {
   "cell_type": "markdown",
   "id": "0c23c13c",
   "metadata": {},
   "source": [
    "Output the basic filtered expression matrix to a loom file.\n",
    "This can also be used in the command-line pySCENIC steps, for example, or as an input to the Nextflow pipeline."
   ]
  },
  {
   "cell_type": "code",
   "execution_count": 29,
   "id": "ee611e8b",
   "metadata": {},
   "outputs": [],
   "source": [
    "# create basic row and column attributes for the loom file:\n",
    "row_attrs = {\n",
    "    \"Gene\": np.array(adata.var_names) ,\n",
    "}\n",
    "col_attrs = {\n",
    "    \"CellID\": np.array(adata.obs_names) ,\n",
    "    \"nGene\": np.array( np.sum(adata.X.transpose()>0 , axis=0)).flatten() ,\n",
    "    \"nUMI\": np.array( np.sum(adata.X.transpose() , axis=0)).flatten() ,\n",
    "}\n",
    "lp.create( f_loom_path_scenic, adata.X.transpose(), row_attrs, col_attrs)"
   ]
  },
  {
   "cell_type": "code",
   "execution_count": 30,
   "id": "f7cc4838",
   "metadata": {},
   "outputs": [
    {
     "name": "stdout",
     "output_type": "stream",
     "text": [
      "(33694, 735)\n",
      "storing for SCENIC an expression matrix of 735 cells by 33694 genes\n",
      "number of genes: 33694\n",
      "number of cells: 735\n"
     ]
    }
   ],
   "source": [
    "info = adata.X.transpose()\n",
    "print(info.shape)\n",
    "print('storing for SCENIC an expression matrix of {} cells by {} genes'.format(info.shape[1], info.shape[0]))\n",
    "print('number of genes: {}'.format(len(adata.var_names)))\n",
    "print('number of cells: {}'.format(len(adata.obs_names)))"
   ]
  },
  {
   "cell_type": "code",
   "execution_count": 31,
   "id": "d2528969",
   "metadata": {},
   "outputs": [
    {
     "data": {
      "text/plain": [
       "CellID\n",
       "AAACCCAAGACTCCGC-1     802.0\n",
       "AAACGAAGTCGCATTA-1     628.0\n",
       "AAACGAATCGACACCG-1     654.0\n",
       "AAACGCTAGGCTTTCA-1    2164.0\n",
       "AAAGGATAGTAATTGG-1     451.0\n",
       "                       ...  \n",
       "TTTGACTTCACCTGTC-1    7133.0\n",
       "TTTGACTTCTATCGCC-1     535.0\n",
       "TTTGGAGTCAAAGACA-1     667.0\n",
       "TTTGGAGTCTTCCACG-1     432.0\n",
       "TTTGGTTTCTCATAGG-1    3229.0\n",
       "Name: nUMI, Length: 735, dtype: float32"
      ]
     },
     "execution_count": 31,
     "metadata": {},
     "output_type": "execute_result"
    }
   ],
   "source": [
    "adata.obs.nUMI"
   ]
  },
  {
   "cell_type": "code",
   "execution_count": 32,
   "id": "efc8d602",
   "metadata": {},
   "outputs": [
    {
     "data": {
      "text/html": [
       "<div>\n",
       "<style scoped>\n",
       "    .dataframe tbody tr th:only-of-type {\n",
       "        vertical-align: middle;\n",
       "    }\n",
       "\n",
       "    .dataframe tbody tr th {\n",
       "        vertical-align: top;\n",
       "    }\n",
       "\n",
       "    .dataframe thead th {\n",
       "        text-align: right;\n",
       "    }\n",
       "</style>\n",
       "<table border=\"1\" class=\"dataframe\">\n",
       "  <thead>\n",
       "    <tr style=\"text-align: right;\">\n",
       "      <th></th>\n",
       "      <th>Sample#</th>\n",
       "      <th>Barcode</th>\n",
       "      <th>Tumor_Normal_annotation</th>\n",
       "    </tr>\n",
       "  </thead>\n",
       "  <tbody>\n",
       "    <tr>\n",
       "      <th>0</th>\n",
       "      <td>SF10022</td>\n",
       "      <td>CTATCTAAGCAAGCCA</td>\n",
       "      <td>Tumor</td>\n",
       "    </tr>\n",
       "    <tr>\n",
       "      <th>1</th>\n",
       "      <td>SF10022</td>\n",
       "      <td>AAACCCAGTCTACGAT</td>\n",
       "      <td>Normal</td>\n",
       "    </tr>\n",
       "    <tr>\n",
       "      <th>2</th>\n",
       "      <td>SF10022</td>\n",
       "      <td>AAAGGGCTCACCCTGT</td>\n",
       "      <td>Normal</td>\n",
       "    </tr>\n",
       "    <tr>\n",
       "      <th>3</th>\n",
       "      <td>SF10022</td>\n",
       "      <td>AACAACCAGACCCGCT</td>\n",
       "      <td>Normal</td>\n",
       "    </tr>\n",
       "    <tr>\n",
       "      <th>4</th>\n",
       "      <td>SF10022</td>\n",
       "      <td>AACAAGAGTGTAAACA</td>\n",
       "      <td>Normal</td>\n",
       "    </tr>\n",
       "  </tbody>\n",
       "</table>\n",
       "</div>"
      ],
      "text/plain": [
       "   Sample#           Barcode Tumor_Normal_annotation\n",
       "0  SF10022  CTATCTAAGCAAGCCA                   Tumor\n",
       "1  SF10022  AAACCCAGTCTACGAT                  Normal\n",
       "2  SF10022  AAAGGGCTCACCCTGT                  Normal\n",
       "3  SF10022  AACAACCAGACCCGCT                  Normal\n",
       "4  SF10022  AACAAGAGTGTAAACA                  Normal"
      ]
     },
     "execution_count": 32,
     "metadata": {},
     "output_type": "execute_result"
    }
   ],
   "source": [
    "file = \"/Users/lidiayung/project/resource/GSM5319572_SF4324/GSE174554_Tumor_normal_metadata.txt\"\n",
    "metadata= pd.read_csv(file,sep=' ')\n",
    "metadata.head()"
   ]
  },
  {
   "cell_type": "code",
   "execution_count": 33,
   "id": "b30ecbe2",
   "metadata": {},
   "outputs": [],
   "source": [
    "SF4209 = metadata[metadata[\"Sample#\"]==\"SF4209\"]"
   ]
  },
  {
   "cell_type": "code",
   "execution_count": 34,
   "id": "ff168736",
   "metadata": {},
   "outputs": [
    {
     "data": {
      "text/html": [
       "<div>\n",
       "<style scoped>\n",
       "    .dataframe tbody tr th:only-of-type {\n",
       "        vertical-align: middle;\n",
       "    }\n",
       "\n",
       "    .dataframe tbody tr th {\n",
       "        vertical-align: top;\n",
       "    }\n",
       "\n",
       "    .dataframe thead th {\n",
       "        text-align: right;\n",
       "    }\n",
       "</style>\n",
       "<table border=\"1\" class=\"dataframe\">\n",
       "  <thead>\n",
       "    <tr style=\"text-align: right;\">\n",
       "      <th></th>\n",
       "      <th>Sample#</th>\n",
       "      <th>Barcode</th>\n",
       "      <th>Tumor_Normal_annotation</th>\n",
       "    </tr>\n",
       "  </thead>\n",
       "  <tbody>\n",
       "    <tr>\n",
       "      <th>72193</th>\n",
       "      <td>SF4209</td>\n",
       "      <td>TAAGCACTCCATCTCG</td>\n",
       "      <td>Tumor</td>\n",
       "    </tr>\n",
       "    <tr>\n",
       "      <th>72213</th>\n",
       "      <td>SF4209</td>\n",
       "      <td>AAACGAATCGACACCG</td>\n",
       "      <td>Tumor</td>\n",
       "    </tr>\n",
       "    <tr>\n",
       "      <th>72214</th>\n",
       "      <td>SF4209</td>\n",
       "      <td>AAAGTCCTCTGCCTGT</td>\n",
       "      <td>Tumor</td>\n",
       "    </tr>\n",
       "    <tr>\n",
       "      <th>72215</th>\n",
       "      <td>SF4209</td>\n",
       "      <td>AAATGGAGTGGGAGAG</td>\n",
       "      <td>Tumor</td>\n",
       "    </tr>\n",
       "    <tr>\n",
       "      <th>72216</th>\n",
       "      <td>SF4209</td>\n",
       "      <td>AAATGGAGTTAATGAG</td>\n",
       "      <td>Tumor</td>\n",
       "    </tr>\n",
       "    <tr>\n",
       "      <th>...</th>\n",
       "      <td>...</td>\n",
       "      <td>...</td>\n",
       "      <td>...</td>\n",
       "    </tr>\n",
       "    <tr>\n",
       "      <th>73092</th>\n",
       "      <td>SF4209</td>\n",
       "      <td>ACGTTCCGTCGCCACA</td>\n",
       "      <td>Tumor</td>\n",
       "    </tr>\n",
       "    <tr>\n",
       "      <th>73093</th>\n",
       "      <td>SF4209</td>\n",
       "      <td>AGAGAGCCAGTAACAA</td>\n",
       "      <td>Tumor</td>\n",
       "    </tr>\n",
       "    <tr>\n",
       "      <th>73094</th>\n",
       "      <td>SF4209</td>\n",
       "      <td>GATAGAACAAGAGCTG</td>\n",
       "      <td>Tumor</td>\n",
       "    </tr>\n",
       "    <tr>\n",
       "      <th>73095</th>\n",
       "      <td>SF4209</td>\n",
       "      <td>TCAAGACCAGTTGCGC</td>\n",
       "      <td>Tumor</td>\n",
       "    </tr>\n",
       "    <tr>\n",
       "      <th>73096</th>\n",
       "      <td>SF4209</td>\n",
       "      <td>TTCCTCTGTACATTGC</td>\n",
       "      <td>Tumor</td>\n",
       "    </tr>\n",
       "  </tbody>\n",
       "</table>\n",
       "<p>670 rows × 3 columns</p>\n",
       "</div>"
      ],
      "text/plain": [
       "      Sample#           Barcode Tumor_Normal_annotation\n",
       "72193  SF4209  TAAGCACTCCATCTCG                   Tumor\n",
       "72213  SF4209  AAACGAATCGACACCG                   Tumor\n",
       "72214  SF4209  AAAGTCCTCTGCCTGT                   Tumor\n",
       "72215  SF4209  AAATGGAGTGGGAGAG                   Tumor\n",
       "72216  SF4209  AAATGGAGTTAATGAG                   Tumor\n",
       "...       ...               ...                     ...\n",
       "73092  SF4209  ACGTTCCGTCGCCACA                   Tumor\n",
       "73093  SF4209  AGAGAGCCAGTAACAA                   Tumor\n",
       "73094  SF4209  GATAGAACAAGAGCTG                   Tumor\n",
       "73095  SF4209  TCAAGACCAGTTGCGC                   Tumor\n",
       "73096  SF4209  TTCCTCTGTACATTGC                   Tumor\n",
       "\n",
       "[670 rows x 3 columns]"
      ]
     },
     "execution_count": 34,
     "metadata": {},
     "output_type": "execute_result"
    }
   ],
   "source": [
    "SF4209[SF4209['Tumor_Normal_annotation']=='Tumor']"
   ]
  },
  {
   "cell_type": "code",
   "execution_count": 35,
   "id": "ecdf59fc",
   "metadata": {},
   "outputs": [
    {
     "name": "stderr",
     "output_type": "stream",
     "text": [
      "/var/folders/qq/n8l4bgxs53j_s3twq5jzc7g00000gn/T/ipykernel_3999/2008951624.py:1: SettingWithCopyWarning: \n",
      "A value is trying to be set on a copy of a slice from a DataFrame.\n",
      "Try using .loc[row_indexer,col_indexer] = value instead\n",
      "\n",
      "See the caveats in the documentation: https://pandas.pydata.org/pandas-docs/stable/user_guide/indexing.html#returning-a-view-versus-a-copy\n",
      "  SF4209['Barcode'] = SF4209['Barcode'].apply(lambda x: str(x) + '-1')\n"
     ]
    }
   ],
   "source": [
    "SF4209['Barcode'] = SF4209['Barcode'].apply(lambda x: str(x) + '-1')\n"
   ]
  },
  {
   "cell_type": "code",
   "execution_count": 36,
   "id": "f1c4c0d3",
   "metadata": {},
   "outputs": [
    {
     "name": "stdout",
     "output_type": "stream",
     "text": [
      "      Sample#             Barcode Tumor_Normal_annotation\n",
      "72190  SF4209  AACAACCCAAACCATC-1                  Normal\n",
      "72191  SF4209  AGACTCAAGCCTTGAT-1                  Normal\n",
      "72192  SF4209  CTCTCAGCAGATTTCG-1                  Normal\n",
      "72193  SF4209  TAAGCACTCCATCTCG-1                   Tumor\n",
      "72194  SF4209  TCACTCGGTTACCTGA-1                  Normal\n",
      "...       ...                 ...                     ...\n",
      "73092  SF4209  ACGTTCCGTCGCCACA-1                   Tumor\n",
      "73093  SF4209  AGAGAGCCAGTAACAA-1                   Tumor\n",
      "73094  SF4209  GATAGAACAAGAGCTG-1                   Tumor\n",
      "73096  SF4209  TTCCTCTGTACATTGC-1                   Tumor\n",
      "73103  SF4209  CATGGATTCCAAGCTA-1                  Normal\n",
      "\n",
      "[735 rows x 3 columns]\n"
     ]
    }
   ],
   "source": [
    "df_barcodes = set(SF4209['Barcode'])\n",
    "intersection_barcodes = df_barcodes.intersection(set(list(adata.obs.index)))\n",
    "new_df = SF4209[SF4209['Barcode'].isin(intersection_barcodes)]\n",
    "print(new_df)"
   ]
  },
  {
   "cell_type": "code",
   "execution_count": 37,
   "id": "4d7168d2",
   "metadata": {},
   "outputs": [
    {
     "name": "stdout",
     "output_type": "stream",
     "text": [
      "      Sample#             Barcode Tumor_Normal_annotation\n",
      "72193  SF4209  TAAGCACTCCATCTCG-1                   Tumor\n",
      "72213  SF4209  AAACGAATCGACACCG-1                   Tumor\n",
      "72214  SF4209  AAAGTCCTCTGCCTGT-1                   Tumor\n",
      "72215  SF4209  AAATGGAGTGGGAGAG-1                   Tumor\n",
      "72216  SF4209  AAATGGAGTTAATGAG-1                   Tumor\n",
      "...       ...                 ...                     ...\n",
      "73089  SF4209  CATGGTACATCCGAAT-1                   Tumor\n",
      "73092  SF4209  ACGTTCCGTCGCCACA-1                   Tumor\n",
      "73093  SF4209  AGAGAGCCAGTAACAA-1                   Tumor\n",
      "73094  SF4209  GATAGAACAAGAGCTG-1                   Tumor\n",
      "73096  SF4209  TTCCTCTGTACATTGC-1                   Tumor\n",
      "\n",
      "[633 rows x 3 columns]\n"
     ]
    }
   ],
   "source": [
    "print(new_df[new_df['Tumor_Normal_annotation']=='Tumor'])"
   ]
  },
  {
   "cell_type": "markdown",
   "id": "0517c13c",
   "metadata": {},
   "source": [
    "## Further pre-processing of expression data"
   ]
  },
  {
   "cell_type": "code",
   "execution_count": null,
   "id": "3f571159",
   "metadata": {},
   "outputs": [],
   "source": [
    "# save a copy of the raw data\n",
    "adata.raw = adata\n",
    "\n",
    "# Total-count normalize (library-size correct) to 10,000 reads/cell\n",
    "sc.pp.normalize_per_cell(adata, counts_per_cell_after=1e4)\n",
    "\n",
    "# log transform the data.\n",
    "sc.pp.log1p(adata)\n",
    "\n",
    "# identify highly variable genes.\n",
    "sc.pp.highly_variable_genes(adata, min_mean=0.0125, max_mean=3, min_disp=0.5)\n",
    "sc.pl.highly_variable_genes(adata)\n",
    "\n",
    "# keep only highly variable genes:\n",
    "adata = adata[:, adata.var['highly_variable']]\n",
    "\n",
    "# regress out total counts per cell and the percentage of mitochondrial genes expressed\n",
    "sc.pp.regress_out(adata, ['n_counts', 'percent_mito'] ) #, n_jobs=args.threads)\n",
    "\n",
    "# scale each gene to unit variance, clip values exceeding SD 10.\n",
    "sc.pp.scale(adata, max_value=10)\n",
    "\n",
    "# update the anndata file:\n",
    "adata.write( f_anndata_path )"
   ]
  },
  {
   "cell_type": "markdown",
   "id": "b3f93742",
   "metadata": {},
   "source": [
    "### 1 PCA"
   ]
  },
  {
   "cell_type": "code",
   "execution_count": null,
   "id": "a8ade91a",
   "metadata": {},
   "outputs": [],
   "source": [
    "# adata = sc.read_h5ad( f_anndata_path )\n",
    "# principal component analysis\n",
    "sc.tl.pca(adata, svd_solver='arpack')\n",
    "sc.pl.pca_variance_ratio(adata, log=True)\n",
    "adata.write( f_anndata_path )"
   ]
  },
  {
   "cell_type": "markdown",
   "id": "1fd5a902",
   "metadata": {},
   "source": [
    "### 2 Visualization of highly variable genes"
   ]
  },
  {
   "cell_type": "code",
   "execution_count": null,
   "id": "fce1327c",
   "metadata": {},
   "outputs": [],
   "source": [
    "# neighborhood graph of cells (determine optimal number of PCs here)\n",
    "sc.pp.neighbors(adata, n_neighbors=15, n_pcs=30)\n",
    "# compute UMAP\n",
    "sc.tl.umap(adata)\n",
    "# tSNE\n",
    "tsne = TSNE( n_jobs=2 )\n",
    "adata.obsm['X_tsne'] = tsne.fit_transform( adata.X )\n",
    "adata.write( f_anndata_path )"
   ]
  },
  {
   "cell_type": "markdown",
   "id": "f69f3e90",
   "metadata": {},
   "source": [
    "### 3 Clustering"
   ]
  },
  {
   "cell_type": "code",
   "execution_count": null,
   "id": "0bc2b774",
   "metadata": {},
   "outputs": [],
   "source": [
    "# cluster the neighbourhood graph\n",
    "sc.tl.louvain(adata, resolution=0.4)\n",
    "\n",
    "sc.pl.umap(adata, color=['louvain'] )"
   ]
  },
  {
   "cell_type": "code",
   "execution_count": null,
   "id": "f14a2cc0",
   "metadata": {},
   "outputs": [],
   "source": [
    "# find marker genes\n",
    "sc.tl.rank_genes_groups(adata, 'louvain', method='t-test')\n",
    "sc.pl.rank_genes_groups(adata, n_genes=25, sharey=False)\n",
    "\n",
    "# sc.tl.rank_genes_groups(adata, 'louvain', method='logreg')\n",
    "# sc.pl.rank_genes_groups(adata, n_genes=25, sharey=False)\n",
    "pd.DataFrame(adata.uns['rank_genes_groups']['names']).head(10)\n",
    "adata.write( f_anndata_path )"
   ]
  },
  {
   "cell_type": "code",
   "execution_count": null,
   "id": "f816d234",
   "metadata": {},
   "outputs": [],
   "source": [
    "### 4 distribution of genes per cell"
   ]
  },
  {
   "cell_type": "code",
   "execution_count": null,
   "id": "265cc898",
   "metadata": {},
   "outputs": [],
   "source": [
    "nGenesDetectedPerCell = np.sum(adata.X>0, axis=1)\n",
    "nGenesDetectedPerCell = pd.Series(nGenesDetectedPerCell)\n",
    "percentiles = nGenesDetectedPerCell.quantile([0.01, 0.05, 0.10, 0.50, 1])\n",
    "print(percentiles)"
   ]
  },
  {
   "cell_type": "code",
   "execution_count": null,
   "id": "4aec2266",
   "metadata": {},
   "outputs": [],
   "source": [
    "fig, ax = plt.subplots(1, 1, figsize=(8, 5), dpi=150)\n",
    "sns.distplot(nGenesDetectedPerCell, norm_hist=False, kde=False, bins='fd')\n",
    "for i,x in enumerate(percentiles):\n",
    "    fig.gca().axvline(x=x, ymin=0,ymax=1, color='red')\n",
    "    ax.text(x=x, y=ax.get_ylim()[1], s=f'{int(x)} ({percentiles.index.values[i]*100}%)', color='red', rotation=30, size='x-small',rotation_mode='anchor' )\n",
    "ax.set_xlabel('# of genes')\n",
    "ax.set_ylabel('# of cells')\n",
    "fig.tight_layout()"
   ]
  },
  {
   "cell_type": "markdown",
   "id": "6bdc9cbd",
   "metadata": {},
   "source": [
    "## SCENIC"
   ]
  },
  {
   "cell_type": "code",
   "execution_count": null,
   "id": "c1d3d502",
   "metadata": {},
   "outputs": [],
   "source": [
    "f_tfs = \"/home/jing/scratch/resource/allTFs_hg38.txt\""
   ]
  },
  {
   "cell_type": "code",
   "execution_count": null,
   "id": "e217b7ed",
   "metadata": {},
   "outputs": [],
   "source": [
    "!pyscenic grn {f_loom_path_scenic} {f_tfs} -o adj.csv --num_workers 8"
   ]
  },
  {
   "cell_type": "code",
   "execution_count": null,
   "id": "e5e0c620",
   "metadata": {},
   "outputs": [],
   "source": [
    "adjacencies = pd.read_csv(\"adj.csv\", index_col=False, sep='\\t')"
   ]
  },
  {
   "cell_type": "code",
   "execution_count": null,
   "id": "4d0d7674",
   "metadata": {},
   "outputs": [],
   "source": [
    "adjacencies.head()"
   ]
  },
  {
   "cell_type": "code",
   "execution_count": null,
   "id": "09e7224b",
   "metadata": {},
   "outputs": [],
   "source": [
    "adjacencies.head()"
   ]
  },
  {
   "cell_type": "code",
   "execution_count": null,
   "id": "bbcc63bb",
   "metadata": {},
   "outputs": [],
   "source": [
    "import glob\n",
    "# ranking databases\n",
    "f_db_glob = \"/home/jing/scratch/resource/*feather\"\n",
    "f_db_names = ' '.join( glob.glob(f_db_glob) )\n",
    "\n",
    "# motif databases\n",
    "f_motif_path = \"/home/jing/scratch/resource/motifs-v9-nr.hgnc-m0.001-o0.0.tbl\""
   ]
  },
  {
   "cell_type": "code",
   "execution_count": null,
   "id": "8abd3187",
   "metadata": {},
   "outputs": [],
   "source": [
    "!pyscenic ctx adj.csv \\\n",
    "    {f_db_names} \\\n",
    "    --annotations_fname {f_motif_path} \\\n",
    "    --expression_mtx_fname {f_loom_path_scenic} \\\n",
    "    --output reg.csv \\\n",
    "    --mask_dropouts \\\n",
    "    --num_workers 8"
   ]
  },
  {
   "cell_type": "code",
   "execution_count": null,
   "id": "b39e27f6",
   "metadata": {},
   "outputs": [],
   "source": [
    "nGenesDetectedPerCell = np.sum(adata.X>0, axis=1)\n",
    "nGenesDetectedPerCell = pd.Series(nGenesDetectedPerCell)\n",
    "percentiles = nGenesDetectedPerCell.quantile([0.01, 0.05, 0.10, 0.50, 1])\n",
    "print(percentiles)"
   ]
  },
  {
   "cell_type": "code",
   "execution_count": null,
   "id": "e89f2b38",
   "metadata": {},
   "outputs": [],
   "source": [
    "fig, ax = plt.subplots(1, 1, figsize=(8, 5), dpi=150)\n",
    "sns.distplot(nGenesDetectedPerCell, norm_hist=False, kde=False, bins='fd')\n",
    "for i,x in enumerate(percentiles):\n",
    "    fig.gca().axvline(x=x, ymin=0,ymax=1, color='red')\n",
    "    ax.text(x=x, y=ax.get_ylim()[1], s=f'{int(x)} ({percentiles.index.values[i]*100}%)', color='red', rotation=30, size='x-small',rotation_mode='anchor' )\n",
    "ax.set_xlabel('# of genes')\n",
    "ax.set_ylabel('# of cells')\n",
    "fig.tight_layout()"
   ]
  },
  {
   "cell_type": "code",
   "execution_count": null,
   "id": "423e6dfc",
   "metadata": {},
   "outputs": [],
   "source": [
    "!pyscenic aucell \\\n",
    "    {f_loom_path_scenic} \\\n",
    "    reg.csv \\\n",
    "    --output {f_pyscenic_output} \\\n",
    "    --num_workers 8"
   ]
  },
  {
   "cell_type": "code",
   "execution_count": null,
   "id": "9b721e3c",
   "metadata": {},
   "outputs": [],
   "source": [
    "import json\n",
    "import zlib\n",
    "import base64\n",
    "import loompy as lp\n",
    "import pandas as pd\n",
    "\n",
    "# collect SCENIC AUCell output\n",
    "lf = lp.connect(f_pyscenic_output, mode='r+', validate=False)\n",
    "auc_mtx = pd.DataFrame( lf.ca.RegulonsAUC, index=lf.ca.CellID)\n",
    "lf.close()"
   ]
  },
  {
   "cell_type": "code",
   "execution_count": null,
   "id": "f3bcfd2b",
   "metadata": {},
   "outputs": [],
   "source": [
    "auc_mtx.shape"
   ]
  },
  {
   "cell_type": "code",
   "execution_count": null,
   "id": "956c925e",
   "metadata": {},
   "outputs": [],
   "source": [
    "sns.clustermap(auc_mtx, figsize=(12,12))"
   ]
  },
  {
   "cell_type": "code",
   "execution_count": null,
   "id": "6eb805b9",
   "metadata": {},
   "outputs": [],
   "source": [
    "import umap\n",
    "\n",
    "# UMAP\n",
    "runUmap = umap.UMAP(n_neighbors=10, min_dist=0.4, metric='correlation').fit_transform\n",
    "dr_umap = runUmap( auc_mtx )\n",
    "pd.DataFrame(dr_umap, columns=['X', 'Y'], index=auc_mtx.index).to_csv( \"scenic_umap.txt\", sep='\\t')\n",
    "# tSNE\n",
    "tsne = TSNE( n_jobs=8 )\n",
    "dr_tsne = tsne.fit_transform( auc_mtx )\n",
    "pd.DataFrame(dr_tsne, columns=['X', 'Y'], index=auc_mtx.index).to_csv( \"scenic_tsne.txt\", sep='\\t')"
   ]
  },
  {
   "cell_type": "code",
   "execution_count": null,
   "id": "54e41a91",
   "metadata": {},
   "outputs": [],
   "source": [
    "pdf = pd.DataFrame(dr_umap, columns=['X', 'Y'], index=auc_mtx.index)\n",
    "pdf.head()"
   ]
  },
  {
   "cell_type": "code",
   "execution_count": null,
   "id": "fcf0b597",
   "metadata": {},
   "outputs": [],
   "source": [
    "plt.plot(pdf['X'], pdf['Y'], 'o', alpha=1/13)\n",
    "plt.show()"
   ]
  },
  {
   "cell_type": "code",
   "execution_count": null,
   "id": "bdb6d0e2",
   "metadata": {},
   "outputs": [],
   "source": [
    "pdf = pd.DataFrame(dr_tsne, columns=['X', 'Y'], index=auc_mtx.index)\n",
    "plt.plot(pdf['X'], pdf['Y'], 'o', alpha=1/13)\n",
    "plt.show()"
   ]
  },
  {
   "cell_type": "code",
   "execution_count": null,
   "id": "3dfaa100",
   "metadata": {},
   "outputs": [],
   "source": [
    "# scenic output\n",
    "lf = lp.connect( f_pyscenic_output, mode='r+', validate=False )\n",
    "meta = json.loads(zlib.decompress(base64.b64decode( lf.attrs.MetaData )))\n",
    "#exprMat = pd.DataFrame( lf[:,:], index=lf.ra.Gene, columns=lf.ca.CellID)\n",
    "auc_mtx = pd.DataFrame( lf.ca.RegulonsAUC, index=lf.ca.CellID)\n",
    "regulons = lf.ra.Regulons\n",
    "dr_umap = pd.read_csv( 'scenic_umap.txt', sep='\\t', header=0, index_col=0 )\n",
    "dr_tsne = pd.read_csv( 'scenic_tsne.txt', sep='\\t', header=0, index_col=0 )\n",
    "###"
   ]
  },
  {
   "cell_type": "code",
   "execution_count": null,
   "id": "ff37a7a3",
   "metadata": {},
   "outputs": [],
   "source": [
    "auc_mtx.columns = auc_mtx.columns.str.replace('\\(','_(')\n",
    "regulons.dtype.names = tuple( [ x.replace(\"(\",\"_(\") for x in regulons.dtype.names ] )\n",
    "# regulon thresholds\n",
    "rt = meta['regulonThresholds']\n",
    "for i,x in enumerate(rt):\n",
    "    tmp = x.get('regulon').replace(\"(\",\"_(\")\n",
    "    x.update( {'regulon': tmp} )"
   ]
  },
  {
   "cell_type": "code",
   "execution_count": null,
   "id": "f83f3fcd",
   "metadata": {},
   "outputs": [],
   "source": [
    "tsneDF = pd.DataFrame(adata.obsm['X_tsne'], columns=['_X', '_Y'])\n",
    "\n",
    "Embeddings_X = pd.DataFrame( index=lf.ca.CellID )\n",
    "Embeddings_X = pd.concat( [\n",
    "        pd.DataFrame(adata.obsm['X_umap'],index=adata.obs.index)[0] ,\n",
    "        pd.DataFrame(adata.obsm['X_pca'],index=adata.obs.index)[0] ,\n",
    "        dr_tsne['X'] ,\n",
    "        dr_umap['X']\n",
    "    ], sort=False, axis=1, join='outer' )\n",
    "Embeddings_X.columns = ['1','2','3','4']\n",
    "\n",
    "Embeddings_Y = pd.DataFrame( index=lf.ca.CellID )\n",
    "Embeddings_Y = pd.concat( [\n",
    "        pd.DataFrame(adata.obsm['X_umap'],index=adata.obs.index)[1] ,\n",
    "        pd.DataFrame(adata.obsm['X_pca'],index=adata.obs.index)[1] ,\n",
    "        dr_tsne['Y'] ,\n",
    "        dr_umap['Y']\n",
    "    ], sort=False, axis=1, join='outer' )\n",
    "Embeddings_Y.columns = ['1','2','3','4']"
   ]
  },
  {
   "cell_type": "code",
   "execution_count": null,
   "id": "9eb8e5ee",
   "metadata": {},
   "outputs": [],
   "source": [
    "metaJson = {}\n",
    "\n",
    "metaJson['embeddings'] = [\n",
    "    {\n",
    "        \"id\": -1,\n",
    "        \"name\": f\"Scanpy t-SNE (highly variable genes)\"\n",
    "    },\n",
    "    {\n",
    "        \"id\": 1,\n",
    "        \"name\": f\"Scanpy UMAP  (highly variable genes)\"\n",
    "    },\n",
    "    {\n",
    "        \"id\": 2,\n",
    "        \"name\": \"Scanpy PC1/PC2\"\n",
    "    },\n",
    "    {\n",
    "        \"id\": 3,\n",
    "        \"name\": \"SCENIC AUC t-SNE\"\n",
    "    },\n",
    "    {\n",
    "        \"id\": 4,\n",
    "        \"name\": \"SCENIC AUC UMAP\"\n",
    "    },\n",
    "]\n",
    "\n",
    "metaJson[\"clusterings\"] = [{\n",
    "            \"id\": 0,\n",
    "            \"group\": \"Scanpy\",\n",
    "            \"name\": \"Scanpy louvain default resolution\",\n",
    "            \"clusters\": [],\n",
    "        }]\n",
    "\n",
    "metaJson[\"metrics\"] = [\n",
    "        {\n",
    "            \"name\": \"nUMI\"\n",
    "        }, {\n",
    "            \"name\": \"nGene\"\n",
    "        }, {\n",
    "            \"name\": \"Percent_mito\"\n",
    "        }\n",
    "]\n",
    "\n",
    "metaJson[\"annotations\"] = [\n",
    "    {\n",
    "        \"name\": \"Louvain_clusters_Scanpy\",\n",
    "        \"values\": list(set( adata.obs['louvain'].astype(np.str) ))\n",
    "    },\n",
    "    #{\n",
    "    #    \"name\": \"Genotype\",\n",
    "    #    \"values\": list(set(adata.obs['Genotype'].values))\n",
    "    #},\n",
    "    #{\n",
    "    #    \"name\": \"Timepoint\",\n",
    "    #    \"values\": list(set(adata.obs['Timepoint'].values))\n",
    "    #},\n",
    "    #{\n",
    "    #    \"name\": \"Sample\",\n",
    "    #    \"values\": list(set(adata.obs['Sample'].values))\n",
    "    #}\n",
    "]\n",
    "\n",
    "# SCENIC regulon thresholds:\n",
    "metaJson[\"regulonThresholds\"] = rt\n",
    "\n",
    "for i in range(max(set([int(x) for x in adata.obs['louvain']])) + 1):\n",
    "    clustDict = {}\n",
    "    clustDict['id'] = i\n",
    "    clustDict['description'] = f'Unannotated Cluster {i + 1}'\n",
    "    metaJson['clusterings'][0]['clusters'].append(clustDict)\n",
    "    \n",
    "clusterings = pd.DataFrame()\n",
    "clusterings[\"0\"] = adata.obs['louvain'].values.astype(np.int64)"
   ]
  },
  {
   "cell_type": "code",
   "execution_count": null,
   "id": "630de697",
   "metadata": {},
   "outputs": [],
   "source": [
    "def dfToNamedMatrix(df):\n",
    "    arr_ip = [tuple(i) for i in df.values]\n",
    "    dtyp = np.dtype(list(zip(df.dtypes.index, df.dtypes)))\n",
    "    arr = np.array(arr_ip, dtype=dtyp)\n",
    "    return arr"
   ]
  },
  {
   "cell_type": "code",
   "execution_count": null,
   "id": "8efa707f",
   "metadata": {},
   "outputs": [],
   "source": [
    "col_attrs = {\n",
    "    \"CellID\": np.array(adata.obs.index),\n",
    "    \"nUMI\": np.array(adata.obs['n_counts'].values),\n",
    "    \"nGene\": np.array(adata.obs['n_genes'].values),\n",
    "    \"Louvain_clusters_Scanpy\": np.array( adata.obs['louvain'].values ),\n",
    "    #\"Genotype\": np.array(adata.obs['Genotype'].values),\n",
    "    #\"Timepoint\": np.array(adata.obs['Timepoint'].values),\n",
    "    #\"Sample\": np.array(adata.obs['Sample'].values),\n",
    "    \"Percent_mito\": np.array(adata.obs['percent_mito'].values),\n",
    "    \"Embedding\": dfToNamedMatrix(tsneDF),\n",
    "    \"Embeddings_X\": dfToNamedMatrix(Embeddings_X),\n",
    "    \"Embeddings_Y\": dfToNamedMatrix(Embeddings_Y),\n",
    "    \"RegulonsAUC\": dfToNamedMatrix(auc_mtx),\n",
    "    \"Clusterings\": dfToNamedMatrix(clusterings),\n",
    "    \"ClusterID\": np.array(adata.obs['louvain'].values)\n",
    "}\n",
    "\n",
    "row_attrs = {\n",
    "    \"Gene\": lf.ra.Gene,\n",
    "    \"Regulons\": regulons,\n",
    "}\n",
    "\n",
    "attrs = {\n",
    "    \"title\": \"sampleTitle\",\n",
    "    \"MetaData\": json.dumps(metaJson),\n",
    "    \"Genome\": 'hg38',\n",
    "    \"SCopeTreeL1\": \"\",\n",
    "    \"SCopeTreeL2\": \"\",\n",
    "    \"SCopeTreeL3\": \"\"\n",
    "}\n",
    "\n",
    "# compress the metadata field:\n",
    "attrs['MetaData'] = base64.b64encode(zlib.compress(json.dumps(metaJson).encode('ascii'))).decode('ascii')"
   ]
  },
  {
   "cell_type": "code",
   "execution_count": null,
   "id": "d83828c9",
   "metadata": {},
   "outputs": [],
   "source": [
    "lp.create(\n",
    "    filename = \"f_final_loom\" ,\n",
    "    layers=lf[:,:],\n",
    "    row_attrs=row_attrs, \n",
    "    col_attrs=col_attrs, \n",
    "    file_attrs=attrs\n",
    ")\n",
    "lf.close() # close original pyscenic loom file"
   ]
  },
  {
   "cell_type": "code",
   "execution_count": null,
   "id": "5b714081",
   "metadata": {},
   "outputs": [],
   "source": []
  }
 ],
 "metadata": {
  "kernelspec": {
   "display_name": "Python 3 (ipykernel)",
   "language": "python",
   "name": "python3"
  },
  "language_info": {
   "codemirror_mode": {
    "name": "ipython",
    "version": 3
   },
   "file_extension": ".py",
   "mimetype": "text/x-python",
   "name": "python",
   "nbconvert_exporter": "python",
   "pygments_lexer": "ipython3",
   "version": "3.9.7"
  }
 },
 "nbformat": 4,
 "nbformat_minor": 5
}
