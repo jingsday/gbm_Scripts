{
 "cells": [
  {
   "cell_type": "markdown",
   "id": "b313d735",
   "metadata": {},
   "source": [
    "# 1 PBMC10k preprocessing "
   ]
  },
  {
   "cell_type": "code",
   "execution_count": null,
   "id": "de6efa1c",
   "metadata": {},
   "outputs": [],
   "source": [
    "import os\n",
    "import numpy as np\n",
    "import pandas as pd\n",
    "import scanpy as sc\n",
    "import loompy as lp\n",
    "from MulticoreTSNE import MulticoreTSNE as TSNE\n",
    "import seaborn as sns\n",
    "import matplotlib.pyplot as plt"
   ]
  },
  {
   "cell_type": "markdown",
   "id": "719bb1f8",
   "metadata": {},
   "source": [
    "### Reading in expression data: 10x Genomics mtx files"
   ]
  },
  {
   "cell_type": "code",
   "execution_count": null,
   "id": "fc9407f8",
   "metadata": {},
   "outputs": [],
   "source": [
    "row_attrs = { \n",
    "    \"Gene\": np.array(adata.var.index) ,\n",
    "}\n",
    "col_attrs = { \n",
    "    \"CellID\":  np.array(adata.obs.index) ,\n",
    "    \"nGene\": np.array( np.sum(adata.X.transpose()>0 , axis=0)).flatten() ,\n",
    "    \"nUMI\": np.array( np.sum(adata.X.transpose() , axis=0)).flatten() ,\n",
    "}\n",
    "\n",
    "lp.create( f_loom_path_unfilt, adata.X.transpose(), row_attrs, col_attrs )"
   ]
  },
  {
   "cell_type": "code",
   "execution_count": null,
   "id": "108e9daf",
   "metadata": {},
   "outputs": [],
   "source": [
    "info = adata.X.transpose()\n",
    "print(info.shape)\n",
    "print('loaded an expression matrix of {} cells by {} genes'.format(info.shape[1], info.shape[0]))\n",
    "print('number of genes: {}'.format(len(adata.var.index)))\n",
    "print('number of cells: {}'.format(len(adata.obs.index)))"
   ]
  },
  {
   "cell_type": "markdown",
   "id": "5c49180e",
   "metadata": {},
   "source": [
    "## Initial/basic filtering"
   ]
  },
  {
   "cell_type": "code",
   "execution_count": null,
   "id": "1af58ec9",
   "metadata": {},
   "outputs": [],
   "source": [
    "# read unfiltered data from a loom file\n",
    "adata = sc.read_loom( f_loom_path_unfilt )"
   ]
  },
  {
   "cell_type": "code",
   "execution_count": null,
   "id": "c4fe01e5",
   "metadata": {},
   "outputs": [],
   "source": [
    "nCountsPerGene = np.sum(adata.X, axis=0)\n",
    "nCellsPerGene = np.sum(adata.X>0, axis=0)\n",
    "\n",
    "# Show info\n",
    "print(\"Number of counts (in the dataset units) per gene:\", nCountsPerGene.min(), \" - \" ,nCountsPerGene.max())\n",
    "print(\"Number of cells in which each gene is detected:\", nCellsPerGene.min(), \" - \" ,nCellsPerGene.max())"
   ]
  },
  {
   "cell_type": "code",
   "execution_count": null,
   "id": "b7f1c147",
   "metadata": {},
   "outputs": [],
   "source": [
    "nCells=adata.X.shape[0]\n",
    "\n",
    "# pySCENIC thresholds\n",
    "minCountsPerGene=3*.01*nCells # 3 counts in 1% of cells\n",
    "print(\"minCountsPerGene: \", minCountsPerGene)\n",
    "\n",
    "minSamples=.01*nCells # 1% of cells\n",
    "print(\"minSamples: \", minSamples)"
   ]
  },
  {
   "cell_type": "code",
   "execution_count": null,
   "id": "afe4bd00",
   "metadata": {},
   "outputs": [],
   "source": [
    "# simply compute the number of genes per cell (computers 'n_genes' column)\n",
    "sc.pp.filter_cells(adata, min_genes=0)\n",
    "# mito and genes/counts cuts\n",
    "mito_genes = adata.var_names.str.startswith('MT-')\n",
    "# for each cell compute fraction of counts in mito genes vs. all genes\n",
    "adata.obs['percent_mito'] = np.sum(\n",
    "    adata[:, mito_genes].X, axis=1).A1 / np.sum(adata.X, axis=1).A1\n",
    "# add the total counts per cell as observations-annotation to adata\n",
    "adata.obs['n_counts'] = adata.X.sum(axis=1).A1"
   ]
  },
  {
   "cell_type": "markdown",
   "id": "901675c2",
   "metadata": {},
   "source": [
    "### Diagnostic plots, pre-filtering"
   ]
  },
  {
   "cell_type": "code",
   "execution_count": null,
   "id": "083fb864",
   "metadata": {},
   "outputs": [],
   "source": [
    "#### Number of genes expressed per cell"
   ]
  },
  {
   "cell_type": "code",
   "execution_count": null,
   "id": "54fa5b75",
   "metadata": {},
   "outputs": [],
   "source": [
    "fig, (ax1, ax2, ax3) = plt.subplots(1, 3, figsize=(12, 4), dpi=150, sharey=True)\n",
    "\n",
    "x = adata.obs['n_genes']\n",
    "x_lowerbound = 1500\n",
    "x_upperbound = 2000\n",
    "nbins=100\n",
    "\n",
    "sns.distplot(x, ax=ax1, norm_hist=True, bins=nbins)\n",
    "sns.distplot(x, ax=ax2, norm_hist=True, bins=nbins)\n",
    "sns.distplot(x, ax=ax3, norm_hist=True, bins=nbins)\n",
    "\n",
    "ax2.set_xlim(0,x_lowerbound)\n",
    "ax3.set_xlim(x_upperbound, adata.obs['n_genes'].max() )\n",
    "\n",
    "for ax in (ax1,ax2,ax3): \n",
    "  ax.set_xlabel('')\n",
    "\n",
    "ax1.title.set_text('n_genes')\n",
    "ax2.title.set_text('n_genes, lower bound')\n",
    "ax3.title.set_text('n_genes, upper bound')\n",
    "\n",
    "fig.text(-0.01, 0.5, 'Frequency', ha='center', va='center', rotation='vertical', size='x-large')\n",
    "fig.text(0.5, 0.0, 'Genes expressed per cell', ha='center', va='center', size='x-large')\n",
    "\n",
    "fig.tight_layout()"
   ]
  },
  {
   "cell_type": "code",
   "execution_count": null,
   "id": "e0307588",
   "metadata": {},
   "outputs": [],
   "source": [
    "#### Percentage of mitochondrial reads per cell"
   ]
  },
  {
   "cell_type": "code",
   "execution_count": null,
   "id": "13f5aca9",
   "metadata": {},
   "outputs": [],
   "source": [
    "fig, (ax1, ax2, ax3) = plt.subplots(1, 3, figsize=(12, 4), dpi=150, sharey=True)\n",
    "\n",
    "x = adata.obs['percent_mito']\n",
    "x_lowerbound = [0.0, 0.07 ]\n",
    "x_upperbound = [ 0.10, 0.3 ]\n",
    "nbins=100\n",
    "\n",
    "sns.distplot(x, ax=ax1, norm_hist=True, bins=nbins)\n",
    "sns.distplot(x, ax=ax2, norm_hist=True, bins=int(nbins/(x_lowerbound[1]-x_lowerbound[0])) )\n",
    "sns.distplot(x, ax=ax3, norm_hist=True, bins=int(nbins/(x_upperbound[1]-x_upperbound[0])) )\n",
    "\n",
    "ax2.set_xlim(x_lowerbound[0], x_lowerbound[1])\n",
    "ax3.set_xlim(x_upperbound[0], x_upperbound[1] )\n",
    "for ax in (ax1,ax2,ax3): \n",
    "  ax.set_xlabel('')\n",
    "\n",
    "ax1.title.set_text('percent_mito')\n",
    "ax2.title.set_text('percent_mito, lower bound')\n",
    "ax3.title.set_text('percent_mito, upper bound')\n",
    "\n",
    "fig.text(-0.01, 0.5, 'Frequency', ha='center', va='center', rotation='vertical', size='x-large')\n",
    "fig.text(0.5, 0.0, 'Mitochondrial read fraction per cell', ha='center', va='center', size='x-large')\n",
    "\n",
    "fig.tight_layout()"
   ]
  },
  {
   "cell_type": "markdown",
   "id": "a72b78d6",
   "metadata": {},
   "source": [
    "#### Three-panel summary plots"
   ]
  },
  {
   "cell_type": "code",
   "execution_count": null,
   "id": "b695de73",
   "metadata": {},
   "outputs": [],
   "source": [
    "fig, (ax1, ax2, ax3) = plt.subplots(1, 3, figsize=(12, 4), dpi=150, sharey=False)\n",
    "\n",
    "sns.distplot( adata.obs['n_genes'], ax=ax1, norm_hist=True, bins=100)\n",
    "sns.distplot( adata.obs['n_counts'], ax=ax2, norm_hist=True, bins=100)\n",
    "sns.distplot( adata.obs['percent_mito'], ax=ax3, norm_hist=True, bins=100)\n",
    "\n",
    "ax1.title.set_text('Number of genes expressed per cell')\n",
    "ax2.title.set_text('Counts per cell')\n",
    "ax3.title.set_text('Mitochondrial read fraction per cell')\n",
    "\n",
    "fig.text(-0.01, 0.5, 'Frequency', ha='center', va='center', rotation='vertical', size='x-large')\n",
    "\n",
    "fig.tight_layout()\n",
    "\n",
    "fig.savefig('filtering_panel_prefilter.pdf', dpi=600, bbox_inches='tight')"
   ]
  },
  {
   "cell_type": "code",
   "execution_count": null,
   "id": "25b1b25e",
   "metadata": {},
   "outputs": [],
   "source": [
    "sc.pl.violin(adata, ['n_genes', 'n_counts', 'percent_mito'],\n",
    "    jitter=0.4, multi_panel=True )"
   ]
  },
  {
   "cell_type": "code",
   "execution_count": null,
   "id": "5f9a7fc4",
   "metadata": {},
   "outputs": [],
   "source": [
    "sc.pl.scatter(adata, x='n_counts', y='n_genes', color='percent_mito')"
   ]
  },
  {
   "cell_type": "markdown",
   "id": "ab28121f",
   "metadata": {},
   "source": [
    "### Carry out the filtering steps:"
   ]
  },
  {
   "cell_type": "code",
   "execution_count": null,
   "id": "6ca0fb4c",
   "metadata": {},
   "outputs": [],
   "source": [
    "# initial cuts\n",
    "sc.pp.filter_cells(adata, min_genes=200 )\n",
    "sc.pp.filter_genes(adata, min_cells=3 )"
   ]
  },
  {
   "cell_type": "code",
   "execution_count": null,
   "id": "c3beacdc",
   "metadata": {},
   "outputs": [],
   "source": [
    "adata = adata[adata.obs['n_genes'] < 4000, :]\n",
    "adata = adata[adata.obs['percent_mito'] < 0.15, :]"
   ]
  },
  {
   "cell_type": "markdown",
   "id": "9d75c24d",
   "metadata": {},
   "source": [
    "### Diagnostic plots, post filtering"
   ]
  },
  {
   "cell_type": "code",
   "execution_count": null,
   "id": "e0ab0da0",
   "metadata": {},
   "outputs": [],
   "source": [
    "#### Three-panel summary plots"
   ]
  },
  {
   "cell_type": "code",
   "execution_count": null,
   "id": "3913390a",
   "metadata": {},
   "outputs": [],
   "source": [
    "fig, (ax1, ax2, ax3) = plt.subplots(1, 3, figsize=(12, 4), dpi=150, sharey=False)\n",
    "\n",
    "adata.obs['n_genes']\n",
    "\n",
    "sns.distplot( adata.obs['n_genes'], ax=ax1, norm_hist=True, bins=100)\n",
    "sns.distplot( adata.obs['n_counts'], ax=ax2, norm_hist=True, bins=100)\n",
    "sns.distplot( adata.obs['percent_mito'], ax=ax3, norm_hist=True, bins=100)\n",
    "\n",
    "ax1.title.set_text('Number of genes expressed per cell')\n",
    "ax2.title.set_text('Counts per cell')\n",
    "ax3.title.set_text('Mitochondrial read fraction per cell')\n",
    "\n",
    "fig.text(-0.01, 0.5, 'Frequency', ha='center', va='center', rotation='vertical', size='x-large')\n",
    "\n",
    "fig.tight_layout()\n",
    "\n",
    "fig.savefig('filtering_panel_postfilter.pdf', dpi=600, bbox_inches='tight')"
   ]
  },
  {
   "cell_type": "code",
   "execution_count": null,
   "id": "4180ebde",
   "metadata": {},
   "outputs": [],
   "source": [
    "sc.pl.violin(adata, ['n_genes', 'n_counts', 'percent_mito'],\n",
    "    jitter=0.4, multi_panel=True )"
   ]
  },
  {
   "cell_type": "markdown",
   "id": "76b6c227",
   "metadata": {},
   "source": [
    "#### Scatter plot, n_genes by n_counts"
   ]
  },
  {
   "cell_type": "code",
   "execution_count": null,
   "id": "69abcd30",
   "metadata": {},
   "outputs": [],
   "source": [
    "sc.pl.scatter(adata, x='n_counts', y='n_genes', color='percent_mito')"
   ]
  },
  {
   "cell_type": "markdown",
   "id": "309b553e",
   "metadata": {},
   "source": [
    "### Finalize the selected filters\n",
    "\n",
    "Update the anndata file, to be used for further processing, clustering, visualization, etc.."
   ]
  },
  {
   "cell_type": "code",
   "execution_count": null,
   "id": "67e37f5f",
   "metadata": {},
   "outputs": [],
   "source": [
    "adata.write( f_anndata_path )"
   ]
  },
  {
   "cell_type": "markdown",
   "id": "0c23c13c",
   "metadata": {},
   "source": [
    "Output the basic filtered expression matrix to a loom file.\n",
    "This can also be used in the command-line pySCENIC steps, for example, or as an input to the Nextflow pipeline."
   ]
  },
  {
   "cell_type": "code",
   "execution_count": null,
   "id": "ee611e8b",
   "metadata": {},
   "outputs": [],
   "source": [
    "# create basic row and column attributes for the loom file:\n",
    "row_attrs = {\n",
    "    \"Gene\": np.array(adata.var_names) ,\n",
    "}\n",
    "col_attrs = {\n",
    "    \"CellID\": np.array(adata.obs_names) ,\n",
    "    \"nGene\": np.array( np.sum(adata.X.transpose()>0 , axis=0)).flatten() ,\n",
    "    \"nUMI\": np.array( np.sum(adata.X.transpose() , axis=0)).flatten() ,\n",
    "}\n",
    "lp.create( f_loom_path_scenic, adata.X.transpose(), row_attrs, col_attrs)"
   ]
  },
  {
   "cell_type": "code",
   "execution_count": null,
   "id": "f7cc4838",
   "metadata": {},
   "outputs": [],
   "source": [
    "info = adata.X.transpose()\n",
    "print(info.shape)\n",
    "print('storing for SCENIC an expression matrix of {} cells by {} genes'.format(info.shape[1], info.shape[0]))\n",
    "print('number of genes: {}'.format(len(adata.var_names)))\n",
    "print('number of cells: {}'.format(len(adata.obs_names)))"
   ]
  },
  {
   "cell_type": "markdown",
   "id": "0517c13c",
   "metadata": {},
   "source": [
    "## Further pre-processing of expression data"
   ]
  },
  {
   "cell_type": "code",
   "execution_count": null,
   "id": "3f571159",
   "metadata": {},
   "outputs": [],
   "source": [
    "# save a copy of the raw data\n",
    "adata.raw = adata\n",
    "\n",
    "# Total-count normalize (library-size correct) to 10,000 reads/cell\n",
    "sc.pp.normalize_per_cell(adata, counts_per_cell_after=1e4)\n",
    "\n",
    "# log transform the data.\n",
    "sc.pp.log1p(adata)\n",
    "\n",
    "# identify highly variable genes.\n",
    "sc.pp.highly_variable_genes(adata, min_mean=0.0125, max_mean=3, min_disp=0.5)\n",
    "sc.pl.highly_variable_genes(adata)\n",
    "\n",
    "# keep only highly variable genes:\n",
    "adata = adata[:, adata.var['highly_variable']]\n",
    "\n",
    "# regress out total counts per cell and the percentage of mitochondrial genes expressed\n",
    "sc.pp.regress_out(adata, ['n_counts', 'percent_mito'] ) #, n_jobs=args.threads)\n",
    "\n",
    "# scale each gene to unit variance, clip values exceeding SD 10.\n",
    "sc.pp.scale(adata, max_value=10)\n",
    "\n",
    "# update the anndata file:\n",
    "adata.write( f_anndata_path )"
   ]
  },
  {
   "cell_type": "markdown",
   "id": "b3f93742",
   "metadata": {},
   "source": [
    "### 1 PCA"
   ]
  },
  {
   "cell_type": "code",
   "execution_count": null,
   "id": "a8ade91a",
   "metadata": {},
   "outputs": [],
   "source": [
    "# adata = sc.read_h5ad( f_anndata_path )\n",
    "# principal component analysis\n",
    "sc.tl.pca(adata, svd_solver='arpack')\n",
    "sc.pl.pca_variance_ratio(adata, log=True)\n",
    "adata.write( f_anndata_path )"
   ]
  },
  {
   "cell_type": "markdown",
   "id": "1fd5a902",
   "metadata": {},
   "source": [
    "### 2 Visualization of highly variable genes"
   ]
  },
  {
   "cell_type": "code",
   "execution_count": null,
   "id": "fce1327c",
   "metadata": {},
   "outputs": [],
   "source": [
    "# neighborhood graph of cells (determine optimal number of PCs here)\n",
    "sc.pp.neighbors(adata, n_neighbors=15, n_pcs=30)\n",
    "# compute UMAP\n",
    "sc.tl.umap(adata)\n",
    "# tSNE\n",
    "tsne = TSNE( n_jobs=2 )\n",
    "adata.obsm['X_tsne'] = tsne.fit_transform( adata.X )\n",
    "adata.write( f_anndata_path )"
   ]
  },
  {
   "cell_type": "markdown",
   "id": "f69f3e90",
   "metadata": {},
   "source": [
    "### 3 Clustering"
   ]
  },
  {
   "cell_type": "code",
   "execution_count": null,
   "id": "0bc2b774",
   "metadata": {},
   "outputs": [],
   "source": [
    "# cluster the neighbourhood graph\n",
    "sc.tl.louvain(adata, resolution=0.4)\n",
    "\n",
    "sc.pl.umap(adata, color=['louvain'] )"
   ]
  },
  {
   "cell_type": "code",
   "execution_count": null,
   "id": "f14a2cc0",
   "metadata": {},
   "outputs": [],
   "source": [
    "# find marker genes\n",
    "sc.tl.rank_genes_groups(adata, 'louvain', method='t-test')\n",
    "sc.pl.rank_genes_groups(adata, n_genes=25, sharey=False)\n",
    "\n",
    "# sc.tl.rank_genes_groups(adata, 'louvain', method='logreg')\n",
    "# sc.pl.rank_genes_groups(adata, n_genes=25, sharey=False)\n",
    "pd.DataFrame(adata.uns['rank_genes_groups']['names']).head(10)\n",
    "adata.write( f_anndata_path )"
   ]
  },
  {
   "cell_type": "code",
   "execution_count": null,
   "id": "f816d234",
   "metadata": {},
   "outputs": [],
   "source": [
    "### 4 distribution of genes per cell"
   ]
  },
  {
   "cell_type": "code",
   "execution_count": null,
   "id": "265cc898",
   "metadata": {},
   "outputs": [],
   "source": [
    "nGenesDetectedPerCell = np.sum(adata.X>0, axis=1)\n",
    "nGenesDetectedPerCell = pd.Series(nGenesDetectedPerCell)\n",
    "percentiles = nGenesDetectedPerCell.quantile([0.01, 0.05, 0.10, 0.50, 1])\n",
    "print(percentiles)"
   ]
  },
  {
   "cell_type": "code",
   "execution_count": null,
   "id": "4aec2266",
   "metadata": {},
   "outputs": [],
   "source": [
    "fig, ax = plt.subplots(1, 1, figsize=(8, 5), dpi=150)\n",
    "sns.distplot(nGenesDetectedPerCell, norm_hist=False, kde=False, bins='fd')\n",
    "for i,x in enumerate(percentiles):\n",
    "    fig.gca().axvline(x=x, ymin=0,ymax=1, color='red')\n",
    "    ax.text(x=x, y=ax.get_ylim()[1], s=f'{int(x)} ({percentiles.index.values[i]*100}%)', color='red', rotation=30, size='x-small',rotation_mode='anchor' )\n",
    "ax.set_xlabel('# of genes')\n",
    "ax.set_ylabel('# of cells')\n",
    "fig.tight_layout()"
   ]
  },
  {
   "cell_type": "markdown",
   "id": "6bdc9cbd",
   "metadata": {},
   "source": [
    "## SCENIC"
   ]
  },
  {
   "cell_type": "code",
   "execution_count": null,
   "id": "c1d3d502",
   "metadata": {},
   "outputs": [],
   "source": [
    "f_tfs = \"/home/jing/scratch/resource/allTFs_hg38.txt\""
   ]
  },
  {
   "cell_type": "code",
   "execution_count": null,
   "id": "e217b7ed",
   "metadata": {},
   "outputs": [],
   "source": [
    "!pyscenic grn {f_loom_path_scenic} {f_tfs} -o adj.csv --num_workers 8"
   ]
  },
  {
   "cell_type": "code",
   "execution_count": null,
   "id": "e5e0c620",
   "metadata": {},
   "outputs": [],
   "source": [
    "adjacencies = pd.read_csv(\"adj.csv\", index_col=False, sep='\\t')"
   ]
  },
  {
   "cell_type": "code",
   "execution_count": null,
   "id": "4d0d7674",
   "metadata": {},
   "outputs": [],
   "source": [
    "adjacencies.head()"
   ]
  },
  {
   "cell_type": "code",
   "execution_count": null,
   "id": "09e7224b",
   "metadata": {},
   "outputs": [],
   "source": [
    "adjacencies.head()"
   ]
  },
  {
   "cell_type": "code",
   "execution_count": null,
   "id": "bbcc63bb",
   "metadata": {},
   "outputs": [],
   "source": [
    "import glob\n",
    "# ranking databases\n",
    "f_db_glob = \"/home/jing/scratch/resource/*feather\"\n",
    "f_db_names = ' '.join( glob.glob(f_db_glob) )\n",
    "\n",
    "# motif databases\n",
    "f_motif_path = \"/home/jing/scratch/resource/motifs-v9-nr.hgnc-m0.001-o0.0.tbl\""
   ]
  },
  {
   "cell_type": "code",
   "execution_count": null,
   "id": "8abd3187",
   "metadata": {},
   "outputs": [],
   "source": [
    "!pyscenic ctx adj.csv \\\n",
    "    {f_db_names} \\\n",
    "    --annotations_fname {f_motif_path} \\\n",
    "    --expression_mtx_fname {f_loom_path_scenic} \\\n",
    "    --output reg.csv \\\n",
    "    --mask_dropouts \\\n",
    "    --num_workers 8"
   ]
  },
  {
   "cell_type": "code",
   "execution_count": null,
   "id": "b39e27f6",
   "metadata": {},
   "outputs": [],
   "source": [
    "nGenesDetectedPerCell = np.sum(adata.X>0, axis=1)\n",
    "nGenesDetectedPerCell = pd.Series(nGenesDetectedPerCell)\n",
    "percentiles = nGenesDetectedPerCell.quantile([0.01, 0.05, 0.10, 0.50, 1])\n",
    "print(percentiles)"
   ]
  },
  {
   "cell_type": "code",
   "execution_count": null,
   "id": "e89f2b38",
   "metadata": {},
   "outputs": [],
   "source": [
    "fig, ax = plt.subplots(1, 1, figsize=(8, 5), dpi=150)\n",
    "sns.distplot(nGenesDetectedPerCell, norm_hist=False, kde=False, bins='fd')\n",
    "for i,x in enumerate(percentiles):\n",
    "    fig.gca().axvline(x=x, ymin=0,ymax=1, color='red')\n",
    "    ax.text(x=x, y=ax.get_ylim()[1], s=f'{int(x)} ({percentiles.index.values[i]*100}%)', color='red', rotation=30, size='x-small',rotation_mode='anchor' )\n",
    "ax.set_xlabel('# of genes')\n",
    "ax.set_ylabel('# of cells')\n",
    "fig.tight_layout()"
   ]
  },
  {
   "cell_type": "code",
   "execution_count": null,
   "id": "423e6dfc",
   "metadata": {},
   "outputs": [],
   "source": [
    "!pyscenic aucell \\\n",
    "    {f_loom_path_scenic} \\\n",
    "    reg.csv \\\n",
    "    --output {f_pyscenic_output} \\\n",
    "    --num_workers 8"
   ]
  },
  {
   "cell_type": "code",
   "execution_count": null,
   "id": "9b721e3c",
   "metadata": {},
   "outputs": [],
   "source": [
    "import json\n",
    "import zlib\n",
    "import base64\n",
    "import loompy as lp\n",
    "import pandas as pd\n",
    "\n",
    "# collect SCENIC AUCell output\n",
    "lf = lp.connect(f_pyscenic_output, mode='r+', validate=False)\n",
    "auc_mtx = pd.DataFrame( lf.ca.RegulonsAUC, index=lf.ca.CellID)\n",
    "lf.close()"
   ]
  },
  {
   "cell_type": "code",
   "execution_count": null,
   "id": "f3bcfd2b",
   "metadata": {},
   "outputs": [],
   "source": [
    "auc_mtx.shape"
   ]
  },
  {
   "cell_type": "code",
   "execution_count": null,
   "id": "956c925e",
   "metadata": {},
   "outputs": [],
   "source": [
    "sns.clustermap(auc_mtx, figsize=(12,12))"
   ]
  },
  {
   "cell_type": "code",
   "execution_count": null,
   "id": "6eb805b9",
   "metadata": {},
   "outputs": [],
   "source": [
    "import umap\n",
    "\n",
    "# UMAP\n",
    "runUmap = umap.UMAP(n_neighbors=10, min_dist=0.4, metric='correlation').fit_transform\n",
    "dr_umap = runUmap( auc_mtx )\n",
    "pd.DataFrame(dr_umap, columns=['X', 'Y'], index=auc_mtx.index).to_csv( \"scenic_umap.txt\", sep='\\t')\n",
    "# tSNE\n",
    "tsne = TSNE( n_jobs=8 )\n",
    "dr_tsne = tsne.fit_transform( auc_mtx )\n",
    "pd.DataFrame(dr_tsne, columns=['X', 'Y'], index=auc_mtx.index).to_csv( \"scenic_tsne.txt\", sep='\\t')"
   ]
  },
  {
   "cell_type": "code",
   "execution_count": null,
   "id": "54e41a91",
   "metadata": {},
   "outputs": [],
   "source": [
    "pdf = pd.DataFrame(dr_umap, columns=['X', 'Y'], index=auc_mtx.index)\n",
    "pdf.head()"
   ]
  },
  {
   "cell_type": "code",
   "execution_count": null,
   "id": "fcf0b597",
   "metadata": {},
   "outputs": [],
   "source": [
    "plt.plot(pdf['X'], pdf['Y'], 'o', alpha=1/13)\n",
    "plt.show()"
   ]
  },
  {
   "cell_type": "code",
   "execution_count": null,
   "id": "bdb6d0e2",
   "metadata": {},
   "outputs": [],
   "source": [
    "pdf = pd.DataFrame(dr_tsne, columns=['X', 'Y'], index=auc_mtx.index)\n",
    "plt.plot(pdf['X'], pdf['Y'], 'o', alpha=1/13)\n",
    "plt.show()"
   ]
  },
  {
   "cell_type": "code",
   "execution_count": null,
   "id": "3dfaa100",
   "metadata": {},
   "outputs": [],
   "source": [
    "# scenic output\n",
    "lf = lp.connect( f_pyscenic_output, mode='r+', validate=False )\n",
    "meta = json.loads(zlib.decompress(base64.b64decode( lf.attrs.MetaData )))\n",
    "#exprMat = pd.DataFrame( lf[:,:], index=lf.ra.Gene, columns=lf.ca.CellID)\n",
    "auc_mtx = pd.DataFrame( lf.ca.RegulonsAUC, index=lf.ca.CellID)\n",
    "regulons = lf.ra.Regulons\n",
    "dr_umap = pd.read_csv( 'scenic_umap.txt', sep='\\t', header=0, index_col=0 )\n",
    "dr_tsne = pd.read_csv( 'scenic_tsne.txt', sep='\\t', header=0, index_col=0 )\n",
    "###"
   ]
  },
  {
   "cell_type": "code",
   "execution_count": null,
   "id": "ff37a7a3",
   "metadata": {},
   "outputs": [],
   "source": [
    "auc_mtx.columns = auc_mtx.columns.str.replace('\\(','_(')\n",
    "regulons.dtype.names = tuple( [ x.replace(\"(\",\"_(\") for x in regulons.dtype.names ] )\n",
    "# regulon thresholds\n",
    "rt = meta['regulonThresholds']\n",
    "for i,x in enumerate(rt):\n",
    "    tmp = x.get('regulon').replace(\"(\",\"_(\")\n",
    "    x.update( {'regulon': tmp} )"
   ]
  },
  {
   "cell_type": "code",
   "execution_count": null,
   "id": "f83f3fcd",
   "metadata": {},
   "outputs": [],
   "source": [
    "tsneDF = pd.DataFrame(adata.obsm['X_tsne'], columns=['_X', '_Y'])\n",
    "\n",
    "Embeddings_X = pd.DataFrame( index=lf.ca.CellID )\n",
    "Embeddings_X = pd.concat( [\n",
    "        pd.DataFrame(adata.obsm['X_umap'],index=adata.obs.index)[0] ,\n",
    "        pd.DataFrame(adata.obsm['X_pca'],index=adata.obs.index)[0] ,\n",
    "        dr_tsne['X'] ,\n",
    "        dr_umap['X']\n",
    "    ], sort=False, axis=1, join='outer' )\n",
    "Embeddings_X.columns = ['1','2','3','4']\n",
    "\n",
    "Embeddings_Y = pd.DataFrame( index=lf.ca.CellID )\n",
    "Embeddings_Y = pd.concat( [\n",
    "        pd.DataFrame(adata.obsm['X_umap'],index=adata.obs.index)[1] ,\n",
    "        pd.DataFrame(adata.obsm['X_pca'],index=adata.obs.index)[1] ,\n",
    "        dr_tsne['Y'] ,\n",
    "        dr_umap['Y']\n",
    "    ], sort=False, axis=1, join='outer' )\n",
    "Embeddings_Y.columns = ['1','2','3','4']"
   ]
  },
  {
   "cell_type": "code",
   "execution_count": null,
   "id": "9eb8e5ee",
   "metadata": {},
   "outputs": [],
   "source": [
    "metaJson = {}\n",
    "\n",
    "metaJson['embeddings'] = [\n",
    "    {\n",
    "        \"id\": -1,\n",
    "        \"name\": f\"Scanpy t-SNE (highly variable genes)\"\n",
    "    },\n",
    "    {\n",
    "        \"id\": 1,\n",
    "        \"name\": f\"Scanpy UMAP  (highly variable genes)\"\n",
    "    },\n",
    "    {\n",
    "        \"id\": 2,\n",
    "        \"name\": \"Scanpy PC1/PC2\"\n",
    "    },\n",
    "    {\n",
    "        \"id\": 3,\n",
    "        \"name\": \"SCENIC AUC t-SNE\"\n",
    "    },\n",
    "    {\n",
    "        \"id\": 4,\n",
    "        \"name\": \"SCENIC AUC UMAP\"\n",
    "    },\n",
    "]\n",
    "\n",
    "metaJson[\"clusterings\"] = [{\n",
    "            \"id\": 0,\n",
    "            \"group\": \"Scanpy\",\n",
    "            \"name\": \"Scanpy louvain default resolution\",\n",
    "            \"clusters\": [],\n",
    "        }]\n",
    "\n",
    "metaJson[\"metrics\"] = [\n",
    "        {\n",
    "            \"name\": \"nUMI\"\n",
    "        }, {\n",
    "            \"name\": \"nGene\"\n",
    "        }, {\n",
    "            \"name\": \"Percent_mito\"\n",
    "        }\n",
    "]\n",
    "\n",
    "metaJson[\"annotations\"] = [\n",
    "    {\n",
    "        \"name\": \"Louvain_clusters_Scanpy\",\n",
    "        \"values\": list(set( adata.obs['louvain'].astype(np.str) ))\n",
    "    },\n",
    "    #{\n",
    "    #    \"name\": \"Genotype\",\n",
    "    #    \"values\": list(set(adata.obs['Genotype'].values))\n",
    "    #},\n",
    "    #{\n",
    "    #    \"name\": \"Timepoint\",\n",
    "    #    \"values\": list(set(adata.obs['Timepoint'].values))\n",
    "    #},\n",
    "    #{\n",
    "    #    \"name\": \"Sample\",\n",
    "    #    \"values\": list(set(adata.obs['Sample'].values))\n",
    "    #}\n",
    "]\n",
    "\n",
    "# SCENIC regulon thresholds:\n",
    "metaJson[\"regulonThresholds\"] = rt\n",
    "\n",
    "for i in range(max(set([int(x) for x in adata.obs['louvain']])) + 1):\n",
    "    clustDict = {}\n",
    "    clustDict['id'] = i\n",
    "    clustDict['description'] = f'Unannotated Cluster {i + 1}'\n",
    "    metaJson['clusterings'][0]['clusters'].append(clustDict)\n",
    "    \n",
    "clusterings = pd.DataFrame()\n",
    "clusterings[\"0\"] = adata.obs['louvain'].values.astype(np.int64)"
   ]
  },
  {
   "cell_type": "code",
   "execution_count": null,
   "id": "630de697",
   "metadata": {},
   "outputs": [],
   "source": [
    "def dfToNamedMatrix(df):\n",
    "    arr_ip = [tuple(i) for i in df.values]\n",
    "    dtyp = np.dtype(list(zip(df.dtypes.index, df.dtypes)))\n",
    "    arr = np.array(arr_ip, dtype=dtyp)\n",
    "    return arr"
   ]
  },
  {
   "cell_type": "code",
   "execution_count": null,
   "id": "8efa707f",
   "metadata": {},
   "outputs": [],
   "source": [
    "col_attrs = {\n",
    "    \"CellID\": np.array(adata.obs.index),\n",
    "    \"nUMI\": np.array(adata.obs['n_counts'].values),\n",
    "    \"nGene\": np.array(adata.obs['n_genes'].values),\n",
    "    \"Louvain_clusters_Scanpy\": np.array( adata.obs['louvain'].values ),\n",
    "    #\"Genotype\": np.array(adata.obs['Genotype'].values),\n",
    "    #\"Timepoint\": np.array(adata.obs['Timepoint'].values),\n",
    "    #\"Sample\": np.array(adata.obs['Sample'].values),\n",
    "    \"Percent_mito\": np.array(adata.obs['percent_mito'].values),\n",
    "    \"Embedding\": dfToNamedMatrix(tsneDF),\n",
    "    \"Embeddings_X\": dfToNamedMatrix(Embeddings_X),\n",
    "    \"Embeddings_Y\": dfToNamedMatrix(Embeddings_Y),\n",
    "    \"RegulonsAUC\": dfToNamedMatrix(auc_mtx),\n",
    "    \"Clusterings\": dfToNamedMatrix(clusterings),\n",
    "    \"ClusterID\": np.array(adata.obs['louvain'].values)\n",
    "}\n",
    "\n",
    "row_attrs = {\n",
    "    \"Gene\": lf.ra.Gene,\n",
    "    \"Regulons\": regulons,\n",
    "}\n",
    "\n",
    "attrs = {\n",
    "    \"title\": \"sampleTitle\",\n",
    "    \"MetaData\": json.dumps(metaJson),\n",
    "    \"Genome\": 'hg38',\n",
    "    \"SCopeTreeL1\": \"\",\n",
    "    \"SCopeTreeL2\": \"\",\n",
    "    \"SCopeTreeL3\": \"\"\n",
    "}\n",
    "\n",
    "# compress the metadata field:\n",
    "attrs['MetaData'] = base64.b64encode(zlib.compress(json.dumps(metaJson).encode('ascii'))).decode('ascii')"
   ]
  },
  {
   "cell_type": "code",
   "execution_count": null,
   "id": "d83828c9",
   "metadata": {},
   "outputs": [],
   "source": [
    "lp.create(\n",
    "    filename = \"f_final_loom\" ,\n",
    "    layers=lf[:,:],\n",
    "    row_attrs=row_attrs, \n",
    "    col_attrs=col_attrs, \n",
    "    file_attrs=attrs\n",
    ")\n",
    "lf.close() # close original pyscenic loom file"
   ]
  },
  {
   "cell_type": "code",
   "execution_count": null,
   "id": "5b714081",
   "metadata": {},
   "outputs": [],
   "source": []
  }
 ],
 "metadata": {
  "kernelspec": {
   "display_name": "Python 3 (ipykernel)",
   "language": "python",
   "name": "python3"
  },
  "language_info": {
   "codemirror_mode": {
    "name": "ipython",
    "version": 3
   },
   "file_extension": ".py",
   "mimetype": "text/x-python",
   "name": "python",
   "nbconvert_exporter": "python",
   "pygments_lexer": "ipython3",
   "version": "3.9.7"
  }
 },
 "nbformat": 4,
 "nbformat_minor": 5
}
