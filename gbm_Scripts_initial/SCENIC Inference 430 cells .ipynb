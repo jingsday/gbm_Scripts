{
 "cells": [
  {
   "cell_type": "code",
   "execution_count": 1,
   "id": "3757bc36",
   "metadata": {
    "scrolled": true
   },
   "outputs": [],
   "source": [
    "pip install pyscenic"
   ]
  },
  {
   "cell_type": "code",
   "execution_count": null,
   "id": "08a5bdec",
   "metadata": {
    "scrolled": true
   },
   "outputs": [],
   "source": [
    "import os\n",
    "import glob\n",
    "import pickle\n",
    "import pandas \n",
    "import numpy \n",
    "\n",
    "from dask.diagnostics import ProgressBar\n",
    "\n",
    "from arboreto.utils import load_tf_names\n",
    "from arboreto.algo import grnboost2\n",
    "\n",
    "from ctxcore.rnkdb import FeatherRankingDatabase \n",
    "from pyscenic.utils import modules_from_adjacencies, load_motifs\n",
    "from pyscenic.prune import prune2df, df2regulons\n",
    "from pyscenic.aucell import aucell\n",
    "\n",
    "import seaborn"
   ]
  },
  {
   "cell_type": "code",
   "execution_count": 31,
   "id": "82ac8b9e",
   "metadata": {
    "scrolled": true
   },
   "outputs": [
    {
     "data": {
      "text/plain": [
       "('hg38_10kbp_up_10kbp_down_full_tx_v10_clust.genes_vs_motifs.rankings.feather',\n",
       " <http.client.HTTPMessage at 0x7f910776ff10>)"
      ]
     },
     "execution_count": 31,
     "metadata": {},
     "output_type": "execute_result"
    }
   ],
   "source": [
    "from urllib.request import urlretrieve\n",
    "url = 'https://resources.aertslab.org/cistarget/databases/homo_sapiens/hg38/refseq_r80/mc_v10_clust/gene_based/hg38_10kbp_up_10kbp_down_full_tx_v10_clust.genes_vs_motifs.rankings.feather'\n",
    "urlretrieve(url,'hg38_10kbp_up_10kbp_down_full_tx_v10_clust.genes_vs_motifs.rankings.feather' )"
   ]
  },
  {
   "cell_type": "code",
   "execution_count": null,
   "id": "2e9900e1",
   "metadata": {
    "scrolled": true
   },
   "outputs": [],
   "source": [
    "url = 'https://resources.aertslab.org/cistarget/motif2tf/motifs-v9-nr.hgnc-m0.001-o0.0.tbl'\n",
    "urlretrieve(url,'motifs-v9-nr.hgnc-m0.001-o0.0.tbl' )"
   ]
  },
  {
   "cell_type": "code",
   "execution_count": null,
   "id": "d1567895",
   "metadata": {
    "scrolled": true
   },
   "outputs": [],
   "source": [
    "url_='https://raw.githubusercontent.com/aertslab/pySCENIC/master/resources/hs_hgnc_tfs.txt'\n",
    "urlretrieve(url_l,'hs_hgnc_tfs.txt')"
   ]
  },
  {
   "cell_type": "code",
   "execution_count": 32,
   "id": "59063618",
   "metadata": {
    "scrolled": true
   },
   "outputs": [],
   "source": [
    "DATABASES_GLOB = os.path.join(\"hg38_10kbp_up_10kbp_down_full_tx_v10_clust.genes_vs_motifs.rankings.feather\")\n",
    "MOTIFS_HGNC_FNAME = os.path.join('motifs-v9-nr.hgnc-m0.001-o0.0.tbl')\n",
    "CURATED_TFS_HGNC_FNAME = os.path.join('lambert2018.txt')\n",
    "\n",
    "OUT_TFS_HGNC_FNAME = os.path.join('hs_hgnc_tfs.txt')\n",
    "OUT_TFS_HGNC_FNAME = os.path.join('hs_hgnc_curated_tfs.txt')"
   ]
  },
  {
   "cell_type": "code",
   "execution_count": 62,
   "id": "b21024c9",
   "metadata": {
    "scrolled": true
   },
   "outputs": [],
   "source": [
    "ADJACENCIES_FNAME = os.path.join(\"adjacencies.tsv\")"
   ]
  },
  {
   "cell_type": "code",
   "execution_count": 78,
   "id": "8933c380",
   "metadata": {
    "scrolled": true
   },
   "outputs": [],
   "source": [
    "MODULES_FNAME = os.path.join(\"modules.p\")"
   ]
  },
  {
   "cell_type": "code",
   "execution_count": 81,
   "id": "ba3f109d",
   "metadata": {
    "scrolled": true
   },
   "outputs": [],
   "source": [
    "MOTIFS_FNAME = os.path.join(\"motifs.csv\")"
   ]
  },
  {
   "cell_type": "code",
   "execution_count": 79,
   "id": "bdaf00e7",
   "metadata": {
    "scrolled": true
   },
   "outputs": [],
   "source": [
    "REGULONS_FNAME = os.path.join(\"regulons.p\")"
   ]
  },
  {
   "cell_type": "code",
   "execution_count": 3,
   "id": "7d050cb7",
   "metadata": {
    "scrolled": true
   },
   "outputs": [
    {
     "name": "stderr",
     "output_type": "stream",
     "text": [
      "/var/folders/qq/n8l4bgxs53j_s3twq5jzc7g00000gn/T/ipykernel_7742/406204144.py:1: DtypeWarning: Columns (4) have mixed types. Specify dtype option on import or set low_memory=False.\n",
      "  df_motifs_hgnc = pandas.read_csv(MOTIFS_HGNC_FNAME, sep='\\t')\n"
     ]
    },
    {
     "data": {
      "text/plain": [
       "1839"
      ]
     },
     "execution_count": 3,
     "metadata": {},
     "output_type": "execute_result"
    }
   ],
   "source": [
    "df_motifs_hgnc = pandas.read_csv(MOTIFS_HGNC_FNAME, sep='\\t')\n",
    "hs_tfs = df_motifs_hgnc.gene_name.unique()\n",
    "with open(OUT_TFS_HGNC_FNAME, 'wt') as f:\n",
    "    f.write('\\n'.join(hs_tfs) + '\\n')\n",
    "len(hs_tfs)"
   ]
  },
  {
   "cell_type": "code",
   "execution_count": 4,
   "id": "4a6f8542",
   "metadata": {
    "scrolled": true
   },
   "outputs": [
    {
     "data": {
      "text/plain": [
       "1639"
      ]
     },
     "execution_count": 4,
     "metadata": {},
     "output_type": "execute_result"
    }
   ],
   "source": [
    "with open(CURATED_TFS_HGNC_FNAME, 'rt') as f:\n",
    "    hs_curated_tfs = list(map(lambda s: s.strip(), f.readlines()))\n",
    "len(hs_curated_tfs)"
   ]
  },
  {
   "cell_type": "code",
   "execution_count": 5,
   "id": "23b5a7dd",
   "metadata": {
    "scrolled": true
   },
   "outputs": [
    {
     "data": {
      "text/plain": [
       "1390"
      ]
     },
     "execution_count": 5,
     "metadata": {},
     "output_type": "execute_result"
    }
   ],
   "source": [
    "hs_curated_tfs_with_motif = list(set(hs_tfs).intersection(hs_curated_tfs))\n",
    "len(hs_curated_tfs_with_motif)"
   ]
  },
  {
   "cell_type": "code",
   "execution_count": 6,
   "id": "449dea9a",
   "metadata": {
    "scrolled": true
   },
   "outputs": [],
   "source": [
    "with open(OUT_TFS_HGNC_FNAME, 'wt') as f:\n",
    "    f.write('\\n'.join(hs_curated_tfs_with_motif) + '\\n')"
   ]
  },
  {
   "cell_type": "code",
   "execution_count": 11,
   "id": "78d26589",
   "metadata": {
    "scrolled": true
   },
   "outputs": [
    {
     "data": {
      "text/html": [
       "<div>\n",
       "<style scoped>\n",
       "    .dataframe tbody tr th:only-of-type {\n",
       "        vertical-align: middle;\n",
       "    }\n",
       "\n",
       "    .dataframe tbody tr th {\n",
       "        vertical-align: top;\n",
       "    }\n",
       "\n",
       "    .dataframe thead th {\n",
       "        text-align: right;\n",
       "    }\n",
       "</style>\n",
       "<table border=\"1\" class=\"dataframe\">\n",
       "  <thead>\n",
       "    <tr style=\"text-align: right;\">\n",
       "      <th>GENE</th>\n",
       "      <th>A2M</th>\n",
       "      <th>AAAS</th>\n",
       "      <th>AAK1</th>\n",
       "      <th>AAMP</th>\n",
       "      <th>AARS</th>\n",
       "      <th>AARSD1</th>\n",
       "      <th>AASDH</th>\n",
       "      <th>AASDHPPT</th>\n",
       "      <th>AASS</th>\n",
       "      <th>AATF</th>\n",
       "      <th>...</th>\n",
       "      <th>ZSCAN30</th>\n",
       "      <th>ZSWIM6</th>\n",
       "      <th>ZSWIM7</th>\n",
       "      <th>ZUFSP</th>\n",
       "      <th>ZW10</th>\n",
       "      <th>ZWILCH</th>\n",
       "      <th>ZXDC</th>\n",
       "      <th>ZYG11B</th>\n",
       "      <th>ZYX</th>\n",
       "      <th>ZZZ3</th>\n",
       "    </tr>\n",
       "  </thead>\n",
       "  <tbody>\n",
       "    <tr>\n",
       "      <th>MGH264_A01</th>\n",
       "      <td>0.0</td>\n",
       "      <td>0.000000</td>\n",
       "      <td>0.000000</td>\n",
       "      <td>8.471800</td>\n",
       "      <td>8.212539</td>\n",
       "      <td>1.148348</td>\n",
       "      <td>7.280847</td>\n",
       "      <td>8.315297</td>\n",
       "      <td>6.301266</td>\n",
       "      <td>6.185458</td>\n",
       "      <td>...</td>\n",
       "      <td>8.855828</td>\n",
       "      <td>4.730564</td>\n",
       "      <td>0.000000</td>\n",
       "      <td>0.0</td>\n",
       "      <td>0.000000</td>\n",
       "      <td>0.0</td>\n",
       "      <td>1.148348</td>\n",
       "      <td>6.428980</td>\n",
       "      <td>0.000000</td>\n",
       "      <td>0.0</td>\n",
       "    </tr>\n",
       "    <tr>\n",
       "      <th>MGH264_A02</th>\n",
       "      <td>0.0</td>\n",
       "      <td>0.000000</td>\n",
       "      <td>0.826908</td>\n",
       "      <td>8.179233</td>\n",
       "      <td>0.000000</td>\n",
       "      <td>3.643079</td>\n",
       "      <td>6.080252</td>\n",
       "      <td>1.721877</td>\n",
       "      <td>8.743318</td>\n",
       "      <td>9.428493</td>\n",
       "      <td>...</td>\n",
       "      <td>5.505911</td>\n",
       "      <td>0.000000</td>\n",
       "      <td>0.000000</td>\n",
       "      <td>0.0</td>\n",
       "      <td>0.000000</td>\n",
       "      <td>0.0</td>\n",
       "      <td>0.000000</td>\n",
       "      <td>5.961101</td>\n",
       "      <td>4.673498</td>\n",
       "      <td>0.0</td>\n",
       "    </tr>\n",
       "    <tr>\n",
       "      <th>MGH264_A03</th>\n",
       "      <td>0.0</td>\n",
       "      <td>0.000000</td>\n",
       "      <td>5.718741</td>\n",
       "      <td>0.000000</td>\n",
       "      <td>0.000000</td>\n",
       "      <td>3.122213</td>\n",
       "      <td>0.000000</td>\n",
       "      <td>0.000000</td>\n",
       "      <td>6.557108</td>\n",
       "      <td>0.000000</td>\n",
       "      <td>...</td>\n",
       "      <td>0.000000</td>\n",
       "      <td>0.000000</td>\n",
       "      <td>8.640176</td>\n",
       "      <td>0.0</td>\n",
       "      <td>0.000000</td>\n",
       "      <td>0.0</td>\n",
       "      <td>3.243285</td>\n",
       "      <td>3.256131</td>\n",
       "      <td>3.243285</td>\n",
       "      <td>0.0</td>\n",
       "    </tr>\n",
       "    <tr>\n",
       "      <th>MGH264_A04</th>\n",
       "      <td>0.0</td>\n",
       "      <td>0.000000</td>\n",
       "      <td>2.319947</td>\n",
       "      <td>9.334512</td>\n",
       "      <td>0.000000</td>\n",
       "      <td>0.000000</td>\n",
       "      <td>6.982978</td>\n",
       "      <td>0.000000</td>\n",
       "      <td>9.479903</td>\n",
       "      <td>0.000000</td>\n",
       "      <td>...</td>\n",
       "      <td>7.046613</td>\n",
       "      <td>6.773274</td>\n",
       "      <td>2.263933</td>\n",
       "      <td>0.0</td>\n",
       "      <td>0.000000</td>\n",
       "      <td>0.0</td>\n",
       "      <td>0.000000</td>\n",
       "      <td>1.536796</td>\n",
       "      <td>0.000000</td>\n",
       "      <td>0.0</td>\n",
       "    </tr>\n",
       "    <tr>\n",
       "      <th>MGH264_A05</th>\n",
       "      <td>0.0</td>\n",
       "      <td>7.632395</td>\n",
       "      <td>1.818624</td>\n",
       "      <td>0.000000</td>\n",
       "      <td>8.136521</td>\n",
       "      <td>7.721043</td>\n",
       "      <td>8.008524</td>\n",
       "      <td>8.373760</td>\n",
       "      <td>9.054301</td>\n",
       "      <td>0.000000</td>\n",
       "      <td>...</td>\n",
       "      <td>0.000000</td>\n",
       "      <td>0.000000</td>\n",
       "      <td>7.447092</td>\n",
       "      <td>0.0</td>\n",
       "      <td>8.572684</td>\n",
       "      <td>0.0</td>\n",
       "      <td>7.659566</td>\n",
       "      <td>3.293084</td>\n",
       "      <td>0.000000</td>\n",
       "      <td>0.0</td>\n",
       "    </tr>\n",
       "  </tbody>\n",
       "</table>\n",
       "<p>5 rows × 5948 columns</p>\n",
       "</div>"
      ],
      "text/plain": [
       "GENE        A2M      AAAS      AAK1      AAMP      AARS    AARSD1     AASDH  \\\n",
       "MGH264_A01  0.0  0.000000  0.000000  8.471800  8.212539  1.148348  7.280847   \n",
       "MGH264_A02  0.0  0.000000  0.826908  8.179233  0.000000  3.643079  6.080252   \n",
       "MGH264_A03  0.0  0.000000  5.718741  0.000000  0.000000  3.122213  0.000000   \n",
       "MGH264_A04  0.0  0.000000  2.319947  9.334512  0.000000  0.000000  6.982978   \n",
       "MGH264_A05  0.0  7.632395  1.818624  0.000000  8.136521  7.721043  8.008524   \n",
       "\n",
       "GENE        AASDHPPT      AASS      AATF  ...   ZSCAN30    ZSWIM6    ZSWIM7  \\\n",
       "MGH264_A01  8.315297  6.301266  6.185458  ...  8.855828  4.730564  0.000000   \n",
       "MGH264_A02  1.721877  8.743318  9.428493  ...  5.505911  0.000000  0.000000   \n",
       "MGH264_A03  0.000000  6.557108  0.000000  ...  0.000000  0.000000  8.640176   \n",
       "MGH264_A04  0.000000  9.479903  0.000000  ...  7.046613  6.773274  2.263933   \n",
       "MGH264_A05  8.373760  9.054301  0.000000  ...  0.000000  0.000000  7.447092   \n",
       "\n",
       "GENE        ZUFSP      ZW10  ZWILCH      ZXDC    ZYG11B       ZYX  ZZZ3  \n",
       "MGH264_A01    0.0  0.000000     0.0  1.148348  6.428980  0.000000   0.0  \n",
       "MGH264_A02    0.0  0.000000     0.0  0.000000  5.961101  4.673498   0.0  \n",
       "MGH264_A03    0.0  0.000000     0.0  3.243285  3.256131  3.243285   0.0  \n",
       "MGH264_A04    0.0  0.000000     0.0  0.000000  1.536796  0.000000   0.0  \n",
       "MGH264_A05    0.0  8.572684     0.0  7.659566  3.293084  0.000000   0.0  \n",
       "\n",
       "[5 rows x 5948 columns]"
      ]
     },
     "execution_count": 11,
     "metadata": {},
     "output_type": "execute_result"
    }
   ],
   "source": [
    "#Glioblastoma source: https://singlecell.broadinstitute.org/single_cell/study/SCP10/glioblastoma-intra-tumor-heterogeneity\n",
    "filename = 'Glioblastoma_expressed_genes.txt'\n",
    "data1= pandas.read_table(filename, delimiter='\\t', header=0,index_col=0)\n",
    "data=data1.transpose()\n",
    "data.head()"
   ]
  },
  {
   "cell_type": "code",
   "execution_count": 42,
   "id": "65b61b89",
   "metadata": {
    "scrolled": true
   },
   "outputs": [
    {
     "data": {
      "text/plain": [
       "'AAAS'"
      ]
     },
     "execution_count": 42,
     "metadata": {},
     "output_type": "execute_result"
    }
   ],
   "source": [
    "gene_names= list(data.columns)"
   ]
  },
  {
   "cell_type": "code",
   "execution_count": 54,
   "id": "ccef0d9e",
   "metadata": {
    "scrolled": true
   },
   "outputs": [],
   "source": [
    "tf_names = load_tf_names(MOTIFS_HGNC_FNAME)"
   ]
  },
  {
   "cell_type": "code",
   "execution_count": 45,
   "id": "133cdaf5",
   "metadata": {
    "scrolled": true
   },
   "outputs": [
    {
     "data": {
      "text/plain": [
       "list"
      ]
     },
     "execution_count": 45,
     "metadata": {},
     "output_type": "execute_result"
    }
   ],
   "source": [
    "type(tf_names)"
   ]
  },
  {
   "cell_type": "code",
   "execution_count": 37,
   "id": "10d7c106",
   "metadata": {
    "scrolled": true
   },
   "outputs": [
    {
     "data": {
      "text/plain": [
       "[FeatherRankingDatabase(name=\"hg38_10kbp_up_10kbp_down_full_tx_v10_clust.genes_vs_motifs.rankings\")]"
      ]
     },
     "execution_count": 37,
     "metadata": {},
     "output_type": "execute_result"
    }
   ],
   "source": [
    "#db_fnames = glob.glob(DATABASES_GLOB)\n",
    "#def name(fname):\n",
    "    return os.path.splitext(os.path.basename(fname))[0]\n",
    "#dbs = [FeatherRankingDatabase(fname=fname, name=name(fname)) for fname in db_fnames]\n",
    "#dbs"
   ]
  },
  {
   "cell_type": "code",
   "execution_count": 38,
   "id": "12cee99a",
   "metadata": {
    "scrolled": true
   },
   "outputs": [
    {
     "data": {
      "text/plain": [
       "[FeatherRankingDatabase(name=\"hg38_10kbp_up_10kbp_down_full_tx_v10_clust.genes_vs_motifs.rankings\")]"
      ]
     },
     "execution_count": 38,
     "metadata": {},
     "output_type": "execute_result"
    }
   ],
   "source": [
    "#dbs"
   ]
  },
  {
   "cell_type": "markdown",
   "id": "4c4f1728",
   "metadata": {},
   "source": [
    "Phase I: Inference of co-expression modules"
   ]
  },
  {
   "cell_type": "code",
   "execution_count": 57,
   "id": "d80f180f",
   "metadata": {
    "scrolled": true
   },
   "outputs": [
    {
     "name": "stdout",
     "output_type": "stream",
     "text": [
      "preparing dask client\n"
     ]
    },
    {
     "name": "stderr",
     "output_type": "stream",
     "text": [
      "Numba: Attempted to fork from a non-main thread, the TBB library may be in an invalid state in the child process.\n",
      "Numba: Attempted to fork from a non-main thread, the TBB library may be in an invalid state in the child process.\n",
      "Numba: Attempted to fork from a non-main thread, the TBB library may be in an invalid state in the child process.\n",
      "Numba: Attempted to fork from a non-main thread, the TBB library may be in an invalid state in the child process.\n"
     ]
    },
    {
     "name": "stdout",
     "output_type": "stream",
     "text": [
      "parsing input\n",
      "creating dask graph\n",
      "4 partitions\n",
      "computing dask graph\n",
      "shutting down client and local cluster\n",
      "finished\n"
     ]
    }
   ],
   "source": [
    "adjancencies = grnboost2(expression_data=data,gene_names=gene_names ,tf_names=hs_curated_tfs, verbose=True)"
   ]
  },
  {
   "cell_type": "code",
   "execution_count": 66,
   "id": "79cb7674",
   "metadata": {
    "scrolled": true
   },
   "outputs": [
    {
     "data": {
      "text/html": [
       "<div>\n",
       "<style scoped>\n",
       "    .dataframe tbody tr th:only-of-type {\n",
       "        vertical-align: middle;\n",
       "    }\n",
       "\n",
       "    .dataframe tbody tr th {\n",
       "        vertical-align: top;\n",
       "    }\n",
       "\n",
       "    .dataframe thead th {\n",
       "        text-align: right;\n",
       "    }\n",
       "</style>\n",
       "<table border=\"1\" class=\"dataframe\">\n",
       "  <thead>\n",
       "    <tr style=\"text-align: right;\">\n",
       "      <th></th>\n",
       "      <th>TF</th>\n",
       "      <th>target</th>\n",
       "      <th>importance</th>\n",
       "    </tr>\n",
       "  </thead>\n",
       "  <tbody>\n",
       "    <tr>\n",
       "      <th>351</th>\n",
       "      <td>ZNF471</td>\n",
       "      <td>MORC4</td>\n",
       "      <td>67.505206</td>\n",
       "    </tr>\n",
       "    <tr>\n",
       "      <th>235</th>\n",
       "      <td>ZKSCAN3</td>\n",
       "      <td>MIPOL1</td>\n",
       "      <td>66.916762</td>\n",
       "    </tr>\n",
       "    <tr>\n",
       "      <th>235</th>\n",
       "      <td>ZKSCAN3</td>\n",
       "      <td>TMEM45A</td>\n",
       "      <td>65.381838</td>\n",
       "    </tr>\n",
       "    <tr>\n",
       "      <th>351</th>\n",
       "      <td>ZNF471</td>\n",
       "      <td>TMEM212</td>\n",
       "      <td>64.594260</td>\n",
       "    </tr>\n",
       "    <tr>\n",
       "      <th>351</th>\n",
       "      <td>ZNF471</td>\n",
       "      <td>MIPOL1</td>\n",
       "      <td>64.449190</td>\n",
       "    </tr>\n",
       "  </tbody>\n",
       "</table>\n",
       "</div>"
      ],
      "text/plain": [
       "          TF   target  importance\n",
       "351   ZNF471    MORC4   67.505206\n",
       "235  ZKSCAN3   MIPOL1   66.916762\n",
       "235  ZKSCAN3  TMEM45A   65.381838\n",
       "351   ZNF471  TMEM212   64.594260\n",
       "351   ZNF471   MIPOL1   64.449190"
      ]
     },
     "execution_count": 66,
     "metadata": {},
     "output_type": "execute_result"
    }
   ],
   "source": [
    "adjancencies.head()"
   ]
  },
  {
   "cell_type": "code",
   "execution_count": 68,
   "id": "97ab1fee",
   "metadata": {
    "scrolled": true
   },
   "outputs": [],
   "source": [
    "adjancencies.to_csv(ADJACENCIES_FNAME, index=False, sep='\\t')\n",
    "#adjacencies = pd.read_csv(ADJACENCIES_FNAME, sep='\\t')"
   ]
  },
  {
   "cell_type": "markdown",
   "id": "67d40beb",
   "metadata": {},
   "source": [
    "### Derive potential regulomes from these co-expression modules"
   ]
  },
  {
   "cell_type": "code",
   "execution_count": 69,
   "id": "cc90fd9f",
   "metadata": {
    "scrolled": true
   },
   "outputs": [
    {
     "name": "stderr",
     "output_type": "stream",
     "text": [
      "\n",
      "2022-09-06 16:00:18,709 - pyscenic.utils - INFO - Calculating Pearson correlations.\n",
      "\n",
      "2022-09-06 16:00:19,043 - pyscenic.utils - WARNING - Note on correlation calculation: the default behaviour for calculating the correlations has changed after pySCENIC verion 0.9.16. Previously, the default was to calculate the correlation between a TF and target gene using only cells with non-zero expression values (mask_dropouts=True). The current default is now to use all cells to match the behavior of the R verision of SCENIC. The original settings can be retained by setting 'rho_mask_dropouts=True' in the modules_from_adjacencies function, or '--mask_dropouts' from the CLI.\n",
      "\tDropout masking is currently set to [False].\n",
      "\n",
      "2022-09-06 16:00:33,974 - pyscenic.utils - INFO - Creating modules.\n"
     ]
    }
   ],
   "source": [
    "modules = list(modules_from_adjacencies(adjancencies, data))"
   ]
  },
  {
   "cell_type": "code",
   "execution_count": 73,
   "id": "3b9ce3a1",
   "metadata": {
    "scrolled": true
   },
   "outputs": [],
   "source": [
    "with open(MODULES_FNAME, 'wb') as f:\n",
    "    pickle.dump(modules, f)\n",
    "\n",
    "#with open(MODULES_FNAME, 'rb') as f:\n",
    "#    modules = pickle.load(f)"
   ]
  },
  {
   "cell_type": "markdown",
   "id": "6e45f9e2",
   "metadata": {},
   "source": [
    "Phase II: Prune modules for targets with cis regulatory footprints (aka RcisTarget)"
   ]
  },
  {
   "cell_type": "code",
   "execution_count": 74,
   "id": "ea6e6f54",
   "metadata": {
    "scrolled": true
   },
   "outputs": [],
   "source": [
    "df = prune2df(dbs, modules, MOTIFS_HGNC_FNAME)"
   ]
  },
  {
   "cell_type": "code",
   "execution_count": 77,
   "id": "dbd88021",
   "metadata": {
    "scrolled": true
   },
   "outputs": [
    {
     "data": {
      "text/html": [
       "<div>\n",
       "<style scoped>\n",
       "    .dataframe tbody tr th:only-of-type {\n",
       "        vertical-align: middle;\n",
       "    }\n",
       "\n",
       "    .dataframe tbody tr th {\n",
       "        vertical-align: top;\n",
       "    }\n",
       "\n",
       "    .dataframe thead tr th {\n",
       "        text-align: left;\n",
       "    }\n",
       "\n",
       "    .dataframe thead tr:last-of-type th {\n",
       "        text-align: right;\n",
       "    }\n",
       "</style>\n",
       "<table border=\"1\" class=\"dataframe\">\n",
       "  <thead>\n",
       "    <tr>\n",
       "      <th></th>\n",
       "      <th></th>\n",
       "      <th colspan=\"8\" halign=\"left\">Enrichment</th>\n",
       "    </tr>\n",
       "    <tr>\n",
       "      <th></th>\n",
       "      <th></th>\n",
       "      <th>AUC</th>\n",
       "      <th>NES</th>\n",
       "      <th>MotifSimilarityQvalue</th>\n",
       "      <th>OrthologousIdentity</th>\n",
       "      <th>Annotation</th>\n",
       "      <th>Context</th>\n",
       "      <th>TargetGenes</th>\n",
       "      <th>RankAtMax</th>\n",
       "    </tr>\n",
       "    <tr>\n",
       "      <th>TF</th>\n",
       "      <th>MotifID</th>\n",
       "      <th></th>\n",
       "      <th></th>\n",
       "      <th></th>\n",
       "      <th></th>\n",
       "      <th></th>\n",
       "      <th></th>\n",
       "      <th></th>\n",
       "      <th></th>\n",
       "    </tr>\n",
       "  </thead>\n",
       "  <tbody>\n",
       "    <tr>\n",
       "      <th>ETV5</th>\n",
       "      <th>hdpi__ETV4</th>\n",
       "      <td>0.065753</td>\n",
       "      <td>3.808073</td>\n",
       "      <td>0.000984</td>\n",
       "      <td>1.0</td>\n",
       "      <td>gene is annotated for similar motif cisbp__M54...</td>\n",
       "      <td>(weight&gt;75.0%, activating, hg38_10kbp_up_10kbp...</td>\n",
       "      <td>[(ABI2, 5.377827761301805), (FKBP1A, 0.7148755...</td>\n",
       "      <td>1132</td>\n",
       "    </tr>\n",
       "    <tr>\n",
       "      <th rowspan=\"2\" valign=\"top\">KLF12</th>\n",
       "      <th>transfac_pro__M07277</th>\n",
       "      <td>0.111382</td>\n",
       "      <td>3.160480</td>\n",
       "      <td>0.000203</td>\n",
       "      <td>1.0</td>\n",
       "      <td>motif similar to hocomoco__KLF12_HUMAN.H11MO.0...</td>\n",
       "      <td>(weight&gt;75.0%, activating, hg38_10kbp_up_10kbp...</td>\n",
       "      <td>[(KLF12, 1.0), (CHL1, 0.7830765936430791), (CD...</td>\n",
       "      <td>827</td>\n",
       "    </tr>\n",
       "    <tr>\n",
       "      <th>transfac_pro__M07461</th>\n",
       "      <td>0.109791</td>\n",
       "      <td>3.089804</td>\n",
       "      <td>0.000000</td>\n",
       "      <td>1.0</td>\n",
       "      <td>gene is directly annotated</td>\n",
       "      <td>(weight&gt;75.0%, activating, hg38_10kbp_up_10kbp...</td>\n",
       "      <td>[(KLF12, 1.0), (CHL1, 0.7830765936430791), (CD...</td>\n",
       "      <td>672</td>\n",
       "    </tr>\n",
       "    <tr>\n",
       "      <th>KLF9</th>\n",
       "      <th>transfac_pro__M07461</th>\n",
       "      <td>0.077096</td>\n",
       "      <td>3.185689</td>\n",
       "      <td>0.000000</td>\n",
       "      <td>1.0</td>\n",
       "      <td>gene is directly annotated</td>\n",
       "      <td>(weight&gt;75.0%, activating, hg38_10kbp_up_10kbp...</td>\n",
       "      <td>[(FNDC3B, 1.0446615309477214), (UBE2G1, 0.4089...</td>\n",
       "      <td>1024</td>\n",
       "    </tr>\n",
       "    <tr>\n",
       "      <th>ZNF274</th>\n",
       "      <th>transfac_pro__M04916</th>\n",
       "      <td>0.061384</td>\n",
       "      <td>3.085305</td>\n",
       "      <td>0.000001</td>\n",
       "      <td>1.0</td>\n",
       "      <td>gene is annotated for similar motif dbcorrdb__...</td>\n",
       "      <td>(weight&gt;75.0%, activating, hg38_10kbp_up_10kbp...</td>\n",
       "      <td>[(FOXO3, 1.3205672314612875), (ZNF235, 0.54781...</td>\n",
       "      <td>1495</td>\n",
       "    </tr>\n",
       "  </tbody>\n",
       "</table>\n",
       "</div>"
      ],
      "text/plain": [
       "                            Enrichment                                  \\\n",
       "                                   AUC       NES MotifSimilarityQvalue   \n",
       "TF     MotifID                                                           \n",
       "ETV5   hdpi__ETV4             0.065753  3.808073              0.000984   \n",
       "KLF12  transfac_pro__M07277   0.111382  3.160480              0.000203   \n",
       "       transfac_pro__M07461   0.109791  3.089804              0.000000   \n",
       "KLF9   transfac_pro__M07461   0.077096  3.185689              0.000000   \n",
       "ZNF274 transfac_pro__M04916   0.061384  3.085305              0.000001   \n",
       "\n",
       "                                                 \\\n",
       "                            OrthologousIdentity   \n",
       "TF     MotifID                                    \n",
       "ETV5   hdpi__ETV4                           1.0   \n",
       "KLF12  transfac_pro__M07277                 1.0   \n",
       "       transfac_pro__M07461                 1.0   \n",
       "KLF9   transfac_pro__M07461                 1.0   \n",
       "ZNF274 transfac_pro__M04916                 1.0   \n",
       "\n",
       "                                                                                \\\n",
       "                                                                    Annotation   \n",
       "TF     MotifID                                                                   \n",
       "ETV5   hdpi__ETV4            gene is annotated for similar motif cisbp__M54...   \n",
       "KLF12  transfac_pro__M07277  motif similar to hocomoco__KLF12_HUMAN.H11MO.0...   \n",
       "       transfac_pro__M07461                         gene is directly annotated   \n",
       "KLF9   transfac_pro__M07461                         gene is directly annotated   \n",
       "ZNF274 transfac_pro__M04916  gene is annotated for similar motif dbcorrdb__...   \n",
       "\n",
       "                                                                                \\\n",
       "                                                                       Context   \n",
       "TF     MotifID                                                                   \n",
       "ETV5   hdpi__ETV4            (weight>75.0%, activating, hg38_10kbp_up_10kbp...   \n",
       "KLF12  transfac_pro__M07277  (weight>75.0%, activating, hg38_10kbp_up_10kbp...   \n",
       "       transfac_pro__M07461  (weight>75.0%, activating, hg38_10kbp_up_10kbp...   \n",
       "KLF9   transfac_pro__M07461  (weight>75.0%, activating, hg38_10kbp_up_10kbp...   \n",
       "ZNF274 transfac_pro__M04916  (weight>75.0%, activating, hg38_10kbp_up_10kbp...   \n",
       "\n",
       "                                                                                \\\n",
       "                                                                   TargetGenes   \n",
       "TF     MotifID                                                                   \n",
       "ETV5   hdpi__ETV4            [(ABI2, 5.377827761301805), (FKBP1A, 0.7148755...   \n",
       "KLF12  transfac_pro__M07277  [(KLF12, 1.0), (CHL1, 0.7830765936430791), (CD...   \n",
       "       transfac_pro__M07461  [(KLF12, 1.0), (CHL1, 0.7830765936430791), (CD...   \n",
       "KLF9   transfac_pro__M07461  [(FNDC3B, 1.0446615309477214), (UBE2G1, 0.4089...   \n",
       "ZNF274 transfac_pro__M04916  [(FOXO3, 1.3205672314612875), (ZNF235, 0.54781...   \n",
       "\n",
       "                                       \n",
       "                            RankAtMax  \n",
       "TF     MotifID                         \n",
       "ETV5   hdpi__ETV4                1132  \n",
       "KLF12  transfac_pro__M07277       827  \n",
       "       transfac_pro__M07461       672  \n",
       "KLF9   transfac_pro__M07461      1024  \n",
       "ZNF274 transfac_pro__M04916      1495  "
      ]
     },
     "execution_count": 77,
     "metadata": {},
     "output_type": "execute_result"
    }
   ],
   "source": [
    "df.head()"
   ]
  },
  {
   "cell_type": "code",
   "execution_count": 82,
   "id": "83739964",
   "metadata": {
    "scrolled": true
   },
   "outputs": [],
   "source": [
    "df.to_csv(MOTIFS_FNAME)"
   ]
  },
  {
   "cell_type": "code",
   "execution_count": 83,
   "id": "c8174d44",
   "metadata": {
    "scrolled": true
   },
   "outputs": [
    {
     "name": "stdout",
     "output_type": "stream",
     "text": [
      "Create regulons from a dataframe of enriched features.\n",
      "Additional columns saved: []\n"
     ]
    }
   ],
   "source": [
    "regulons = df2regulons(df)"
   ]
  },
  {
   "cell_type": "code",
   "execution_count": 84,
   "id": "f6f0f3a8",
   "metadata": {
    "scrolled": true
   },
   "outputs": [],
   "source": [
    "with open(REGULONS_FNAME, 'wb') as f:\n",
    "    pickle.dump(regulons, f)\n",
    "\n",
    "#with open(REGULONS_FNAME, 'rb') as f:\n",
    "#    regulons = pickle.load(f)"
   ]
  },
  {
   "cell_type": "markdown",
   "id": "afcc1b66",
   "metadata": {},
   "source": [
    "Phase III: Cellular regulon enrichment matrix (aka AUCell)"
   ]
  },
  {
   "cell_type": "code",
   "execution_count": 85,
   "id": "2f29ec1d",
   "metadata": {
    "scrolled": true
   },
   "outputs": [
    {
     "name": "stderr",
     "output_type": "stream",
     "text": [
      "100%|███████████████████████████████████████████| 30/30 [00:05<00:00,  5.98it/s]\n"
     ]
    }
   ],
   "source": [
    "auc_mtx = aucell(data, regulons, num_workers=1)"
   ]
  },
  {
   "cell_type": "code",
   "execution_count": 86,
   "id": "3ce491c2",
   "metadata": {},
   "outputs": [
    {
     "name": "stderr",
     "output_type": "stream",
     "text": [
      "/Users/lidiayung/miniconda3/lib/python3.9/site-packages/seaborn/matrix.py:654: UserWarning: Clustering large matrix with scipy. Installing `fastcluster` may give better performance.\n",
      "  warnings.warn(msg)\n"
     ]
    },
    {
     "data": {
      "text/plain": [
       "<seaborn.matrix.ClusterGrid at 0x7f90f20685b0>"
      ]
     },
     "execution_count": 86,
     "metadata": {},
     "output_type": "execute_result"
    },
    {
     "data": {
      "image/png": "[encoded data removed]",
      "text/plain": [
       "<Figure size 864x864 with 4 Axes>"
      ]
     },
     "metadata": {
      "needs_background": "light"
     },
     "output_type": "display_data"
    }
   ],
   "source": [
    "seaborn.clustermap(auc_mtx, figsize=(12,12))"
   ]
  }
 ],
 "metadata": {
  "kernelspec": {
   "display_name": "Python 3 (ipykernel)",
   "language": "python",
   "name": "python3"
  },
  "language_info": {
   "codemirror_mode": {
    "name": "ipython",
    "version": 3
   },
   "file_extension": ".py",
   "mimetype": "text/x-python",
   "name": "python",
   "nbconvert_exporter": "python",
   "pygments_lexer": "ipython3",
   "version": "3.9.7"
  }
 },
 "nbformat": 4,
 "nbformat_minor": 5
}
