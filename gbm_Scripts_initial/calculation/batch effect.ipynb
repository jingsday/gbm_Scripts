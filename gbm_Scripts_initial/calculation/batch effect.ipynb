{
 "cells": [
  {
   "cell_type": "code",
   "execution_count": 1,
   "id": "21590386",
   "metadata": {},
   "outputs": [],
   "source": [
    "import os\n",
    "import numpy as np\n",
    "import pandas as pd\n",
    "import scanpy as sc\n",
    "import loompy as lp\n",
    "from MulticoreTSNE import MulticoreTSNE as TSNE\n",
    "import seaborn as sns\n",
    "import matplotlib.pyplot as plt\n",
    "import scipy\n",
    "import csv\n",
    "import gzip\n",
    "import anndata as ad\n",
    "from pathlib import Path\n",
    "import glob\n",
    "import seaborn as sns"
   ]
  },
  {
   "cell_type": "markdown",
   "id": "883641c6",
   "metadata": {},
   "source": [
    "def table(sample):\n",
    "    file = \"/Users/lidiayung/project/resource/GSE174554_Tumor_normal_metadata.txt\"\n",
    "    metadata= pd.read_csv(file,sep=' ')\n",
    "    metadata.head()\n",
    "    #End of Step 6\n",
    "\n",
    "    #Step 7 -> Calculate percentage and return the value from both pre and post data\n",
    "    new_df = metadata[metadata[\"Sample#\"] == sample].copy()\n",
    "    new_df['Barcode'] = new_df['Barcode'].astype(str) + '-1'\n",
    "    intersection_barcodes = set(new_df['Barcode']).intersection(adata.obs.index)\n",
    "    tumor = new_df[new_df['Barcode'].isin(intersection_barcodes) & (new_df['Tumor_Normal_annotation'] == 'Tumor')]\n",
    "    percentage = \"{:.2%}\".format(len(tumor)/len(adata.obs.nUMI))\n",
    "    #print(\"Percentage: {:.2%}\".format(len(tumor)/len(adata.obs.nUMI)))\n",
    "    post_filtering = f\"{len(tumor)}/{len(adata.obs.nUMI) - len(tumor)}\"\n"
   ]
  },
  {
   "cell_type": "code",
   "execution_count": 2,
   "id": "828d77ec",
   "metadata": {},
   "outputs": [
    {
     "data": {
      "text/html": [
       "<div>\n",
       "<style scoped>\n",
       "    .dataframe tbody tr th:only-of-type {\n",
       "        vertical-align: middle;\n",
       "    }\n",
       "\n",
       "    .dataframe tbody tr th {\n",
       "        vertical-align: top;\n",
       "    }\n",
       "\n",
       "    .dataframe thead th {\n",
       "        text-align: right;\n",
       "    }\n",
       "</style>\n",
       "<table border=\"1\" class=\"dataframe\">\n",
       "  <thead>\n",
       "    <tr style=\"text-align: right;\">\n",
       "      <th></th>\n",
       "      <th>Sample#</th>\n",
       "      <th>Barcode</th>\n",
       "      <th>Tumor_Normal_annotation</th>\n",
       "    </tr>\n",
       "  </thead>\n",
       "  <tbody>\n",
       "    <tr>\n",
       "      <th>0</th>\n",
       "      <td>SF10022</td>\n",
       "      <td>CTATCTAAGCAAGCCA</td>\n",
       "      <td>Tumor</td>\n",
       "    </tr>\n",
       "    <tr>\n",
       "      <th>1</th>\n",
       "      <td>SF10022</td>\n",
       "      <td>AAACCCAGTCTACGAT</td>\n",
       "      <td>Normal</td>\n",
       "    </tr>\n",
       "    <tr>\n",
       "      <th>2</th>\n",
       "      <td>SF10022</td>\n",
       "      <td>AAAGGGCTCACCCTGT</td>\n",
       "      <td>Normal</td>\n",
       "    </tr>\n",
       "    <tr>\n",
       "      <th>3</th>\n",
       "      <td>SF10022</td>\n",
       "      <td>AACAACCAGACCCGCT</td>\n",
       "      <td>Normal</td>\n",
       "    </tr>\n",
       "    <tr>\n",
       "      <th>4</th>\n",
       "      <td>SF10022</td>\n",
       "      <td>AACAAGAGTGTAAACA</td>\n",
       "      <td>Normal</td>\n",
       "    </tr>\n",
       "  </tbody>\n",
       "</table>\n",
       "</div>"
      ],
      "text/plain": [
       "   Sample#           Barcode Tumor_Normal_annotation\n",
       "0  SF10022  CTATCTAAGCAAGCCA                   Tumor\n",
       "1  SF10022  AAACCCAGTCTACGAT                  Normal\n",
       "2  SF10022  AAAGGGCTCACCCTGT                  Normal\n",
       "3  SF10022  AACAACCAGACCCGCT                  Normal\n",
       "4  SF10022  AACAAGAGTGTAAACA                  Normal"
      ]
     },
     "execution_count": 2,
     "metadata": {},
     "output_type": "execute_result"
    }
   ],
   "source": [
    "file = \"/Users/lidiayung/project/resource/GSE174554_Tumor_normal_metadata.txt\"\n",
    "metadata= pd.read_csv(file,sep=' ')\n",
    "metadata.head()"
   ]
  },
  {
   "cell_type": "code",
   "execution_count": 17,
   "id": "b461857d",
   "metadata": {},
   "outputs": [],
   "source": [
    "samples = ['SF10099v2','SF4209v2','SF4810v2','SF7307v2','SF11720v2','SF10565v2','SF12165v2','SF4449v2']\n",
    "#samples='SF4209v2'\n",
    "filtered_df = metadata[metadata['Sample#'].isin(samples)]"
   ]
  },
  {
   "cell_type": "code",
   "execution_count": 18,
   "id": "0c95476f",
   "metadata": {},
   "outputs": [
    {
     "name": "stdout",
     "output_type": "stream",
     "text": [
      "          Sample#             Barcode Tumor_Normal_annotation\n",
      "30184   SF10099v2    AAACCCACAGAGTGAC                  Normal\n",
      "30185   SF10099v2    AAAGGATCAATCGCCG                  Normal\n",
      "30186   SF10099v2    AACAACCTCAGCGTCG                  Normal\n",
      "30187   SF10099v2    AAGATAGCAAGGAGTC                  Normal\n",
      "30188   SF10099v2    AATGACCGTAGCTGCC                  Normal\n",
      "...           ...                 ...                     ...\n",
      "174461  SF12165v2  GTAATCGCAGCATACT.1                  Normal\n",
      "174462  SF12165v2  GTAGCTATCCCATACC.1                  Normal\n",
      "174463  SF12165v2  GTGCGTGCAAGCACCC.1                  Normal\n",
      "174464  SF12165v2  TCAAGCACACCCGTAG.1                  Normal\n",
      "174465  SF12165v2  TCGAACACAGCTTCGG.1                  Normal\n",
      "\n",
      "[17182 rows x 3 columns]\n"
     ]
    }
   ],
   "source": [
    "print(filtered_df)"
   ]
  },
  {
   "cell_type": "code",
   "execution_count": null,
   "id": "1e695d03",
   "metadata": {},
   "outputs": [],
   "source": []
  }
 ],
 "metadata": {
  "kernelspec": {
   "display_name": "Python 3 (ipykernel)",
   "language": "python",
   "name": "python3"
  },
  "language_info": {
   "codemirror_mode": {
    "name": "ipython",
    "version": 3
   },
   "file_extension": ".py",
   "mimetype": "text/x-python",
   "name": "python",
   "nbconvert_exporter": "python",
   "pygments_lexer": "ipython3",
   "version": "3.9.7"
  }
 },
 "nbformat": 4,
 "nbformat_minor": 5
}
