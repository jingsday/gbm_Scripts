{
 "cells": [
  {
   "cell_type": "code",
   "execution_count": 22,
   "id": "45fbf4d1",
   "metadata": {},
   "outputs": [
    {
     "data": {
      "text/plain": [
       "'/Users/lidiayung/github/notebooks/GBM/calculation'"
      ]
     },
     "execution_count": 22,
     "metadata": {},
     "output_type": "execute_result"
    }
   ],
   "source": [
    "pwd"
   ]
  },
  {
   "cell_type": "code",
   "execution_count": 28,
   "id": "4e301436",
   "metadata": {},
   "outputs": [
    {
     "name": "stdout",
     "output_type": "stream",
     "text": [
      "['SF9871', 'SF10432', 'SF3448', 'SF9798', 'SF12333', 'SF9962', 'SF10099', 'SF3996', 'SF7388', 'SF12382', 'SF11344', 'SF12704', 'SF2990', 'SF4849', 'SF12751', 'SF6118v2', 'SF11981', 'SF7388', 'SF2979', 'SF11916', 'SF9372', 'SF12460', 'SF7307', 'SF10099', 'SF1199', 'SF9358', 'SF10484', 'SF10565', 'SF11248', 'SF7062', 'SF12243', 'SF9798', 'SF11977', 'SF11720', 'SF11815', 'SF6118', 'SF12774', 'SF4449', 'SF5581', 'SF4324', 'SF9494', 'SF6996', 'SF11720', 'SF10592', 'SF7025', 'SF4810', 'SF9871', 'SF12382', 'SF2501', 'SF11331', 'SF3243', 'SF10484', 'SF4810', 'SF10565', 'SF9494', 'SF4324', 'SF11780', 'SF10592', 'SF2777', 'SF9494', 'SF4297', 'SF4297', 'SF4209', 'SF10099', 'SF2777', 'SF12754', 'SF10441', 'SF4449', 'SF10108', 'SF9494', 'SF10484', 'SF11331', 'SF10592', 'SF4810', 'SF3391', 'SF11720', 'SF10592', 'SF4449', 'SF12774', 'SF6118', 'SF11815', 'SF6118', 'SF9494', 'SF4324', 'SF6996', 'SF4297', 'SF11248', 'SF9798', 'SF10433', 'SF12243', 'SF10108', 'SF12754', 'SF10565', 'SF4209', 'SF2777', 'SF11780', 'SF11916', 'SF12115', 'SF12165', 'SF4810', 'SF10565', 'SF6621', 'SF9962', 'SF12751', 'SF4849', 'SF4810', 'SF11488', 'SF12382', 'SF12704', 'SF12427', 'SF7388', 'SF3996', 'SF12008', 'SF10099', 'SF3996', 'SF9962', 'SF11857', 'SF12333', 'SF9871', 'SF9798', 'SF12243', 'SF3448', 'SF12407', 'SF10565', 'SF7307', 'SF11720', 'SF1199', 'SF9358', 'SF10099', 'SF7062', 'SF7307', 'SF9372', 'SF12460', 'SF2979', 'SF11916', 'SF9510', 'SF11857', 'SF2628', 'SF6118v2', 'SF12616', 'SF11488', 'SF12704v2', 'SF3243', 'SF9715v2', 'SF10565', 'SF12774', 'SF12243', 'SF10514', 'SF12165', 'SF11720', 'SF4449', 'SF9510', 'SF9715v2', 'SF12008', 'SF11857', 'SF7307', 'SF10099', 'SF9798', 'SF3391', 'SF6098', 'SF10433', 'SF6118v2', 'SF12460', 'SF12751', 'SF12707', 'SF6186', 'SF12408', 'SF12333', 'SF3073', 'SF9715', 'SF11248', 'SF11587', 'SF7062', 'SF2501', 'SF6621', 'SF11815', 'SF6621', 'SF10441', 'SF11857', 'SF9372', 'SF4209', 'SF3076', 'SF10432', 'SF5581', 'SF7062', 'SF11331', 'SF10592', 'SF11082', 'SF4297', 'SF1343', 'SF11977', 'SF1199', 'SF12165', 'SF9510', 'SF10433', 'SF9494', 'SF10857', 'SF12754', 'SF4209', 'SF7025', 'SF9791', 'SF12115', 'SF12427', 'SF11780', 'SF6809', 'SF2628', 'SF6621', 'SF1343', 'SF8963', 'SF12408', 'SF9510', 'SF2990', 'SF9715', 'SF12407', 'SF12407', 'SF10514', 'SF11082', 'SF11344', 'SF4849', 'SF3448', 'SF7062', 'SF3076', 'SF12594', 'SF11873', 'SF10592', 'SF6621', 'SF11720', 'SF11857', 'SF6186', 'SF11981', 'SF10592', 'SF11331', 'SF7307', 'SF11857', 'SF10433', 'SF12243', 'SF6809', 'SF12115', 'SF6098', 'SF9791', 'SF12616', 'SF6621', 'SF12427', 'SF9358', 'SF8963', 'SF11873', 'SF4297', 'SF7025', 'SF10857', 'SF10433', 'SF9791', 'SF1343', 'SF11977', 'SF11587', 'SF12165', 'SF5581', 'SF11082', 'SF12707', 'SF6996', 'SF4810', 'SF4209', 'SF11857', 'SF10432', 'SF7307', 'SF3073', 'SF11857', 'SF11981', 'SF11873', 'SF12594', 'SF3076', 'SF4449', 'SF6809', 'SF12407', 'SF11082', 'SF11344', 'SF12408', 'SF9510', 'SF8963', 'SF2990', 'SF12754', 'SF6621', 'SF2628', 'SF12165', 'SF11720', 'SF4449', 'SF12165', 'SF12243', 'SF11720', 'SF10514', 'SF9798', 'SF3243', 'SF12704', 'SF9715v2', 'SF6621', 'SF10857', 'SF12616', 'SF11488', 'SF11331', 'SF12704v2', 'SF11873', 'SF12594', 'SF2979', 'SF10108', 'SF4209', 'SF10441', 'SF9715', 'SF11587', 'SF12704v2', 'SF3073', 'SF7062', 'SF2501', 'SF6186', 'SF9510', 'SF3391', 'SF10433', 'SF6098', 'SF12707', 'SF10592', 'SF12008']\n"
     ]
    }
   ],
   "source": [
    "import os\n",
    "import numpy\n",
    "\n",
    "# specify the directory path\n",
    "directory = \"/Users/lidiayung/project/resource/GSE174554_RAW/\"\n",
    "\n",
    "sf_parts = []\n",
    "for file_name in os.listdir(directory):\n",
    "    # check if the file is a document (not a folder) and contains 'SF'\n",
    "    if os.path.isfile(os.path.join(directory, file_name)) and 'SF' in file_name:\n",
    "        # extract the part containing 'SF' from the file name\n",
    "        sf_part = file_name.split('_')[1]\n",
    "        # print the part containing 'SF' of the document name\n",
    "        sf_parts.append(\"\" + sf_part + \"\")\n",
    "print(sf_parts)\n"
   ]
  },
  {
   "cell_type": "code",
   "execution_count": 24,
   "id": "f6a3dc4b",
   "metadata": {},
   "outputs": [
    {
     "data": {
      "text/plain": [
       "319"
      ]
     },
     "execution_count": 24,
     "metadata": {},
     "output_type": "execute_result"
    }
   ],
   "source": [
    "len(sf_parts)"
   ]
  },
  {
   "cell_type": "code",
   "execution_count": 29,
   "id": "a9862551",
   "metadata": {},
   "outputs": [
    {
     "name": "stdout",
     "output_type": "stream",
     "text": [
      "['SF10433', 'SF10592', 'SF6118v2', 'SF3996', 'SF12408', 'SF5581', 'SF3391', 'SF6186', 'SF12774', 'SF9372', 'SF11248', 'SF2501', 'SF11587', 'SF2628', 'SF9962', 'SF12115', 'SF6621', 'SF11331', 'SF1199', 'SF12704', 'SF9358', 'SF11720', 'SF12165', 'SF4297', 'SF4209', 'SF3073', 'SF9791', 'SF6118', 'SF7388', 'SF6996', 'SF6809', 'SF12460', 'SF10099', 'SF11780', 'SF7307', 'SF11082', 'SF9715v2', 'SF11916', 'SF12407', 'SF9510', 'SF4449', 'SF11488', 'SF12754', 'SF1343', 'SF11815', 'SF9494', 'SF9715', 'SF7062', 'SF2979', 'SF10514', 'SF10857', 'SF11981', 'SF12333', 'SF12704v2', 'SF6098', 'SF12008', 'SF3448', 'SF10432', 'SF3243', 'SF7025', 'SF10565', 'SF10484', 'SF11977', 'SF3076', 'SF12382', 'SF4324', 'SF2990', 'SF4849', 'SF12427', 'SF12616', 'SF12751', 'SF9798', 'SF10441', 'SF10108', 'SF12243', 'SF11344', 'SF12707', 'SF8963', 'SF12594', 'SF4810', 'SF11857', 'SF9871', 'SF2777', 'SF11873']\n"
     ]
    }
   ],
   "source": [
    "folders = list(set(sf_parts))\n",
    "print(folders)"
   ]
  },
  {
   "cell_type": "code",
   "execution_count": 30,
   "id": "0f8e1ce6",
   "metadata": {},
   "outputs": [
    {
     "data": {
      "text/plain": [
       "84"
      ]
     },
     "execution_count": 30,
     "metadata": {},
     "output_type": "execute_result"
    }
   ],
   "source": [
    "len(folders)"
   ]
  },
  {
   "cell_type": "code",
   "execution_count": 20,
   "id": "e07f194d",
   "metadata": {},
   "outputs": [],
   "source": [
    "samples = ['SF10099','SF11587','SF11720','SF11857','SF12704','SF4209','SF4810','SF6186','SF7307','SF9715','SF9962']"
   ]
  },
  {
   "cell_type": "code",
   "execution_count": 21,
   "id": "df725eb0",
   "metadata": {},
   "outputs": [
    {
     "name": "stdout",
     "output_type": "stream",
     "text": [
      "['SF10433', 'SF10592', 'SF6118v2', 'SF3996', 'SF12408', 'SF5581', 'SF3391', 'SF12774', 'SF9372', 'SF11248', 'SF2501', 'SF2628', 'SF12115', 'SF6621', 'SF11331', 'SF1199', 'SF9358', 'SF12165', 'SF4297', 'SF3073', 'SF9791', 'SF6118', 'SF7388', 'SF6996', 'SF6809', 'SF12460', 'SF11780', 'SF11082', 'SF9715v2', 'SF11916', 'SF12407', 'SF9510', 'SF4449', 'SF11488', 'SF12754', 'SF1343', 'SF11815', 'SF9494', 'SF7062', 'SF2979', 'SF10514', 'SF10857', 'SF11981', 'SF12333', 'SF12704v2', 'SF6098', 'SF12008', 'SF3448', 'SF10432', 'SF3243', 'SF7025', 'SF10565', 'SF10484', 'SF11977', 'SF3076', 'SF12382', 'SF4324', 'SF2990', 'SF4849', 'SF12427', 'SF12616', 'SF12751', 'SF9798', 'SF10441', 'SF10108', 'SF12243', 'SF11344', 'SF12707', 'SF8963', 'SF12594', 'SF9871', 'SF2777', 'SF11873']\n"
     ]
    }
   ],
   "source": [
    "result = [item for item in folders if item not in samples]\n",
    "print(result)"
   ]
  },
  {
   "cell_type": "code",
   "execution_count": 1,
   "id": "62983483",
   "metadata": {},
   "outputs": [
    {
     "data": {
      "text/plain": [
       "273"
      ]
     },
     "execution_count": 1,
     "metadata": {},
     "output_type": "execute_result"
    }
   ],
   "source": [
    "(313-40)"
   ]
  }
 ],
 "metadata": {
  "kernelspec": {
   "display_name": "Python 3 (ipykernel)",
   "language": "python",
   "name": "python3"
  },
  "language_info": {
   "codemirror_mode": {
    "name": "ipython",
    "version": 3
   },
   "file_extension": ".py",
   "mimetype": "text/x-python",
   "name": "python",
   "nbconvert_exporter": "python",
   "pygments_lexer": "ipython3",
   "version": "3.9.7"
  }
 },
 "nbformat": 4,
 "nbformat_minor": 5
}
