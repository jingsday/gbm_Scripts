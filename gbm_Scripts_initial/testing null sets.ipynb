{
 "cells": [
  {
   "cell_type": "markdown",
   "id": "b313d735",
   "metadata": {},
   "source": [
    "# 1 preprocessing "
   ]
  },
  {
   "cell_type": "code",
   "execution_count": 1,
   "id": "de6efa1c",
   "metadata": {},
   "outputs": [
    {
     "name": "stdout",
     "output_type": "stream",
     "text": [
      "-----\n",
      "anndata     0.8.0\n",
      "scanpy      1.9.3\n",
      "-----\n",
      "MulticoreTSNE               NA\n",
      "PIL                         9.1.0\n",
      "appnope                     0.1.2\n",
      "asttokens                   NA\n",
      "backcall                    0.2.0\n",
      "beta_ufunc                  NA\n",
      "binom_ufunc                 NA\n",
      "cffi                        1.15.0\n",
      "cloudpickle                 2.1.0\n",
      "cycler                      0.10.0\n",
      "cython_runtime              NA\n",
      "cytoolz                     0.11.0\n",
      "dask                        2022.9.0\n",
      "dateutil                    2.8.2\n",
      "debugpy                     1.5.1\n",
      "decorator                   5.1.1\n",
      "defusedxml                  0.7.1\n",
      "entrypoints                 0.4\n",
      "executing                   0.8.3\n",
      "fsspec                      2022.8.2\n",
      "h5py                        3.7.0\n",
      "hypergeom_ufunc             NA\n",
      "igraph                      0.10.1\n",
      "ipykernel                   6.9.1\n",
      "ipython_genutils            0.2.0\n",
      "ipywidgets                  7.6.5\n",
      "jedi                        0.18.1\n",
      "jinja2                      3.0.3\n",
      "joblib                      1.1.0\n",
      "kiwisolver                  1.4.2\n",
      "leidenalg                   0.9.0\n",
      "llvmlite                    0.38.0\n",
      "loompy                      3.0.7\n",
      "louvain                     0.8.0\n",
      "markupsafe                  2.0.1\n",
      "matplotlib                  3.5.2\n",
      "mpl_toolkits                NA\n",
      "natsort                     8.1.0\n",
      "nbinom_ufunc                NA\n",
      "numba                       0.55.1\n",
      "numexpr                     2.8.3\n",
      "numpy                       1.21.5\n",
      "numpy_groupies              0.9.19\n",
      "packaging                   21.3\n",
      "pandas                      1.4.2\n",
      "parso                       0.8.3\n",
      "pexpect                     4.8.0\n",
      "pickleshare                 0.7.5\n",
      "pkg_resources               NA\n",
      "prompt_toolkit              3.0.20\n",
      "psutil                      5.9.1\n",
      "ptyprocess                  0.7.0\n",
      "pure_eval                   0.2.2\n",
      "pyarrow                     9.0.0\n",
      "pycparser                   2.21\n",
      "pydev_ipython               NA\n",
      "pydevconsole                NA\n",
      "pydevd                      2.6.0\n",
      "pydevd_concurrency_analyser NA\n",
      "pydevd_file_utils           NA\n",
      "pydevd_plugins              NA\n",
      "pydevd_tracing              NA\n",
      "pyexpat                     NA\n",
      "pygments                    2.11.2\n",
      "pyparsing                   3.0.4\n",
      "pytz                        2022.1\n",
      "ruamel                      NA\n",
      "scipy                       1.8.0\n",
      "seaborn                     0.11.2\n",
      "session_info                1.0.0\n",
      "six                         1.16.0\n",
      "sklearn                     1.0.2\n",
      "stack_data                  0.2.0\n",
      "statsmodels                 0.13.2\n",
      "tblib                       1.7.0\n",
      "texttable                   1.6.4\n",
      "threadpoolctl               3.1.0\n",
      "tlz                         0.11.0\n",
      "toolz                       0.12.0\n",
      "tornado                     6.1\n",
      "traitlets                   5.1.1\n",
      "typing_extensions           NA\n",
      "wcwidth                     0.2.5\n",
      "yaml                        6.0\n",
      "zmq                         22.3.0\n",
      "-----\n",
      "IPython             8.2.0\n",
      "jupyter_client      7.2.2\n",
      "jupyter_core        4.9.2\n",
      "notebook            6.4.8\n",
      "-----\n",
      "Python 3.9.7 (default, Sep 16 2021, 08:50:36) [Clang 10.0.0 ]\n",
      "macOS-10.16-x86_64-i386-64bit\n",
      "-----\n",
      "Session information updated at 2023-09-11 19:57\n"
     ]
    }
   ],
   "source": [
    "import os\n",
    "import numpy as np\n",
    "import pandas as pd\n",
    "import scanpy as sc\n",
    "import loompy as lp\n",
    "from MulticoreTSNE import MulticoreTSNE as TSNE\n",
    "import seaborn as sns\n",
    "import matplotlib.pyplot as plt\n",
    "import scipy\n",
    "import csv\n",
    "import gzip\n",
    "import anndata as ad\n",
    "import glob\n",
    "\n",
    "sc.settings.verbosity = 3 # verbosity: errors (0), warnings (1), info (2), hints (3)\n",
    "sc.logging.print_versions()\n",
    "sc.set_figure_params(dpi=150, fontsize=10, dpi_save=600)"
   ]
  },
  {
   "cell_type": "code",
   "execution_count": 192,
   "id": "3f13766e",
   "metadata": {},
   "outputs": [],
   "source": [
    "sample = 'SF11815'"
   ]
  },
  {
   "cell_type": "markdown",
   "id": "719bb1f8",
   "metadata": {},
   "source": [
    "### Reading in expression data: 10x Genomics mtx files"
   ]
  },
  {
   "cell_type": "code",
   "execution_count": 6,
   "id": "fbf4eaf1",
   "metadata": {},
   "outputs": [],
   "source": [
    "def reprocess(sample): \n",
    "    output_folder = \"/Users/lidiayung/project/resource/specimens\"\n",
    "    resource_folder = \"/Users/lidiayung/project/resource/GSE174554_RAW/\"\n",
    "\n",
    "    matrix_path = glob.glob(f\"{resource_folder}/GSM*_{sample}_matrix.mtx.gz\")[0]\n",
    "\n",
    "    features_path = glob.glob(f\"{resource_folder}/GSM*_{sample}_features.tsv.gz\")[0]\n",
    "\n",
    "    barcodes_path = glob.glob(f\"{resource_folder}/GSM*_{sample}_barcodes.tsv.gz\")[0]\n",
    "\n",
    "\n",
    "\n",
    "    output_path = os.path.join(output_folder, sample)\n",
    "\n",
    "\n",
    "# path to unfiltered loom file (this will be created in the optional steps below)\n",
    "    f_loom_path_unfilt = \"unfiltered.loom\" # test dataset, n=500 cells\n",
    "\n",
    "# # path to loom file with basic filtering applied (this will be created in the \"initial filtering\" step below). Optional.\n",
    "    #f_loom_path_scenic = \"filtered_scenic.loom\"\n",
    "\n",
    "# path to anndata object, which will be updated to store Scanpy results as they are generated below\n",
    "    f_anndata_path = \"reprocessanndata.h5ad\"\n",
    "\n",
    "# path to pyscenic output\n",
    "    #f_pyscenic_output = \"output.loom\"\n",
    "#pyscenic_output.loom\n",
    "# loom output, generated from a combination of Scanpy and pySCENIC results:\n",
    "    #f_final_loom = 'scenic_integrated-output.loom'\n",
    "\n",
    "    mat = scipy.io.mmread(matrix_path)\n",
    "    feature_ids = [row[0] for row in csv.reader(gzip.open(features_path, mode=\"rt\"), delimiter=\"\\t\")]\n",
    "\n",
    "    gene_names = [row[0] for row in csv.reader(gzip.open(features_path, mode=\"rt\"), delimiter=\"\\t\")]\n",
    "\n",
    "    feature_types = [row[0] for row in csv.reader(gzip.open(features_path, mode=\"rt\"), delimiter=\"\\t\")]\n",
    "\n",
    "    barcodes = [row[0] for row in csv.reader(gzip.open(barcodes_path, mode=\"rt\"), delimiter=\"\\t\")]\n",
    "\n",
    "    matrix = pd.DataFrame.sparse.from_spmatrix(mat)\n",
    "\n",
    "    matrix.columns = barcodes\n",
    "\n",
    "    matrix=matrix.transpose() \n",
    "\n",
    "    matrix.columns = gene_names\n",
    "\n",
    "    matrix\n",
    "\n",
    "    matrix.shape\n",
    "\n",
    "# convert the index and columns to DataFrame objects\n",
    "    obs_df = matrix.index.to_frame(index=False)\n",
    "    var_df = matrix.columns.to_frame(index=False)\n",
    "\n",
    "# create an AnnData object from the DataFrame\n",
    "    adata = ad.AnnData(X=matrix.values, obs=obs_df, var=var_df)\n",
    "\n",
    "# print the resulting AnnData object\n",
    "    print(adata)\n",
    "    row_attrs = { \n",
    "        \"Gene\": np.array(var_df[0]) ,}\n",
    "    col_attrs = { \n",
    "        \"CellID\":  np.array(matrix.index) ,\n",
    "        \"nGene\": np.array( np.sum(adata.X.transpose()>0 , axis=0)).flatten() ,\n",
    "        \"nUMI\": np.array( np.sum(adata.X.transpose() , axis=0)).flatten() ,}\n",
    "    lp.create( f_loom_path_unfilt, adata.X.transpose(), row_attrs, col_attrs )\n",
    "\n",
    "\n",
    "    info = adata.X.transpose()\n",
    "\n",
    "    print(info.shape)\n",
    "\n",
    "    print('loaded an expression matrix of {} cells by {} genes'.format(info.shape[1], info.shape[0]))\n",
    "\n",
    "    print('number of genes: {}'.format(len(adata.var.index)))\n",
    "\n",
    "    print('number of cells: {}'.format(len(adata.obs.index)))\n",
    "\n",
    "# read unfiltered data from a loom file\n",
    "    adata = sc.read_loom( f_loom_path_unfilt )\n",
    "    adata\n",
    "\n",
    "    nCountsPerGene = np.sum(adata.X, axis=0)\n",
    "\n",
    "    nCellsPerGene = np.sum(adata.X>0, axis=0)\n",
    "\n",
    "# Show info\n",
    "    print(\"Number of counts (in the dataset units) per gene:\", nCountsPerGene.min(), \" - \" ,nCountsPerGene.max())\n",
    "    print(\"Number of cells in which each gene is detected:\", nCellsPerGene.min(), \" - \" ,nCellsPerGene.max())\n",
    "\n",
    "\n",
    "    nCells=adata.X.shape[0]\n",
    "\n",
    "# pySCENIC thresholds\n",
    "    minCountsPerGene=3*.01*nCells # 3 counts in 1% of cells\n",
    "    print(\"minCountsPerGene: \", minCountsPerGene)\n",
    "\n",
    "    minSamples=.01*nCells # 1% of cells\n",
    "    print(\"minSamples: \", minSamples)\n",
    "\n",
    "# simply compute the number of genes per cell (computers 'n_genes' column)\n",
    "    sc.pp.filter_cells(adata, min_genes=0)\n",
    "# mito and genes/counts cuts\n",
    "    mito_genes = adata.var_names.str.startswith('MT-')\n",
    "# for each cell compute fraction of counts in mito genes vs. all genes\n",
    "    adata.obs['percent_mito'] = np.sum(\n",
    "    adata[:, mito_genes].X, axis=1).A1 / np.sum(adata.X, axis=1).A1\n",
    "# add the total counts per cell as observations-annotation to adata\n",
    "    adata.obs['n_counts'] = adata.X.sum(axis=1).A1\n",
    "\n",
    "# initial cuts\n",
    "    sc.pp.filter_cells(adata, min_genes=200 )\n",
    "#sc.pp.filter_genes(adata, min_cells=3 )\n",
    "#adata = adata[adata.obs['n_genes'] < 4000, :]\n",
    "    adata = adata[adata.obs['percent_mito'] <=0.025, :]\n",
    "\n",
    "\n",
    "    adata.write( f_anndata_path )\n",
    "\n",
    "# create basic row and column attributes for the loom file:\n",
    "    #row_attrs = {\"Gene\": np.array(adata.var_names) ,}\n",
    "    #col_attrs = {\n",
    "    #    \"CellID\": np.array(adata.obs_names) ,\n",
    "    #    \"nGene\": np.array( np.sum(adata.X.transpose()>0 , axis=0)).flatten() ,\n",
    "    #    \"nUMI\": np.array( np.sum(adata.X.transpose() , axis=0)).flatten() ,}\n",
    "\n",
    "    #lp.create( f_loom_path_scenic, adata.X.transpose(), row_attrs, col_attrs)\n",
    "\n",
    "\n",
    "    info = adata.X.transpose()\n",
    "\n",
    "    print(info.shape)\n",
    "\n",
    "    print('storing for SCENIC an expression matrix of {} cells by {} genes'.format(info.shape[1], info.shape[0]))\n",
    "\n",
    "    print('number of genes: {}'.format(len(adata.var_names)))\n",
    "\n",
    "    print('number of cells: {}'.format(len(adata.obs_names)))\n",
    "    \n",
    "    return adata.obs.nUMI"
   ]
  },
  {
   "cell_type": "code",
   "execution_count": 7,
   "id": "b208366c",
   "metadata": {},
   "outputs": [
    {
     "name": "stderr",
     "output_type": "stream",
     "text": [
      "/var/folders/qq/n8l4bgxs53j_s3twq5jzc7g00000gn/T/ipykernel_45580/2667694658.py:57: FutureWarning: X.dtype being converted to np.float32 from int64. In the next version of anndata (0.9) conversion will not be automatic. Pass dtype explicitly to avoid this warning. Pass `AnnData(X, dtype=X.dtype, ...)` to get the future behavour.\n",
      "  adata = ad.AnnData(X=matrix.values, obs=obs_df, var=var_df)\n",
      "/Users/lidiayung/miniconda3/lib/python3.9/site-packages/anndata/_core/anndata.py:121: ImplicitModificationWarning: Transforming to str index.\n",
      "  warnings.warn(\"Transforming to str index.\", ImplicitModificationWarning)\n"
     ]
    },
    {
     "name": "stdout",
     "output_type": "stream",
     "text": [
      "AnnData object with n_obs × n_vars = 4183 × 33694\n",
      "    obs: 0\n",
      "    var: 0\n",
      "(33694, 4183)\n",
      "loaded an expression matrix of 4183 cells by 33694 genes\n",
      "number of genes: 33694\n",
      "number of cells: 4183\n",
      "Number of counts (in the dataset units) per gene: 0.0  -  605365.0\n",
      "Number of cells in which each gene is detected: 0  -  4181\n",
      "minCountsPerGene:  125.49\n",
      "minSamples:  41.83\n",
      "(33694, 3708)\n",
      "storing for SCENIC an expression matrix of 3708 cells by 33694 genes\n",
      "number of genes: 33694\n",
      "number of cells: 3708\n"
     ]
    },
    {
     "data": {
      "text/plain": [
       "CellID\n",
       "AAACCCAAGGGATCAC-1     579.0\n",
       "AAACCCAGTCGATTTG-1     402.0\n",
       "AAACCCAGTCGTCAGC-1    1518.0\n",
       "AAACCCAGTTGTAAAG-1     891.0\n",
       "AAACGAAGTAGACAAT-1    2795.0\n",
       "                       ...  \n",
       "TTTGTTGAGTACCATC-1    1559.0\n",
       "TTTGTTGCACTGGCCA-1     942.0\n",
       "TTTGTTGGTACTCAAC-1    1253.0\n",
       "TTTGTTGTCCCAAGTA-1    1574.0\n",
       "TTTGTTGTCGGATTAC-1     843.0\n",
       "Name: nUMI, Length: 3708, dtype: float32"
      ]
     },
     "execution_count": 7,
     "metadata": {},
     "output_type": "execute_result"
    }
   ],
   "source": [
    "sample='SF2777'\n",
    "reprocess(sample)"
   ]
  },
  {
   "cell_type": "code",
   "execution_count": 252,
   "id": "974102d3",
   "metadata": {},
   "outputs": [
    {
     "name": "stderr",
     "output_type": "stream",
     "text": [
      "/var/folders/qq/n8l4bgxs53j_s3twq5jzc7g00000gn/T/ipykernel_35791/2567540284.py:57: FutureWarning: X.dtype being converted to np.float32 from int64. In the next version of anndata (0.9) conversion will not be automatic. Pass dtype explicitly to avoid this warning. Pass `AnnData(X, dtype=X.dtype, ...)` to get the future behavour.\n",
      "  adata = ad.AnnData(X=matrix.values, obs=obs_df, var=var_df)\n",
      "/Users/lidiayung/miniconda3/lib/python3.9/site-packages/anndata/_core/anndata.py:121: ImplicitModificationWarning: Transforming to str index.\n",
      "  warnings.warn(\"Transforming to str index.\", ImplicitModificationWarning)\n"
     ]
    },
    {
     "name": "stdout",
     "output_type": "stream",
     "text": [
      "AnnData object with n_obs × n_vars = 3356 × 33694\n",
      "    obs: 0\n",
      "    var: 0\n",
      "(33694, 3356)\n",
      "loaded an expression matrix of 3356 cells by 33694 genes\n",
      "number of genes: 33694\n",
      "number of cells: 3356\n",
      "Number of counts (in the dataset units) per gene: 0.0  -  681102.0\n",
      "Number of cells in which each gene is detected: 0  -  3355\n",
      "minCountsPerGene:  100.67999999999999\n",
      "minSamples:  33.56\n",
      "(33694, 3355)\n",
      "storing for SCENIC an expression matrix of 3355 cells by 33694 genes\n",
      "number of genes: 33694\n",
      "number of cells: 3355\n"
     ]
    }
   ],
   "source": [
    "sample ='SF10514'\n",
    "nUMI_result = reprocess(sample)"
   ]
  },
  {
   "cell_type": "markdown",
   "id": "ab28121f",
   "metadata": {},
   "source": [
    "### Carry out the filtering steps:"
   ]
  },
  {
   "cell_type": "code",
   "execution_count": 284,
   "id": "efc8d602",
   "metadata": {},
   "outputs": [],
   "source": [
    "def percalculator(sample):\n",
    "    \n",
    "    file = \"/Users/lidiayung/project/resource/GSE174554_RAW/GSE174554_Tumor_normal_metadata.txt\"\n",
    "\n",
    "    metadata= pd.read_csv(file,sep=' ')\n",
    "\n",
    "    metadata.head()\n",
    "    new_df = metadata[metadata[\"Sample#\"] == sample].copy()\n",
    "\n",
    "    \n",
    "    new_df['Barcode'] = new_df['Barcode'].str.replace('\\.\\d', '')\n",
    "    new_df['Barcode'] = new_df['Barcode']+'-1'\n",
    "    print(new_df)\n",
    "    \n",
    "    intersection_barcodes = set(new_df['Barcode']).intersection(nUMI_result.index)\n",
    "    tumor = new_df[new_df['Barcode'].isin(intersection_barcodes) & (metadata['Tumor_Normal_annotation'] == 'Tumor')]\n",
    "\n",
    "    percentage = \"{:.2%}\".format(len(tumor)/len(nUMI_result))\n",
    "    print(\"Percentage: {:.2%}\".format(len(tumor)/len(nUMI_result)))\n",
    "    post_filtering = f\"{len(tumor)}/{len(nUMI_result) - len(tumor)}\"\n",
    "    print(post_filtering)"
   ]
  },
  {
   "cell_type": "code",
   "execution_count": 285,
   "id": "09046b66",
   "metadata": {},
   "outputs": [],
   "source": [
    "samples= ['SF11981', 'SF9372','SF10108']"
   ]
  },
  {
   "cell_type": "code",
   "execution_count": 316,
   "id": "9ef16806",
   "metadata": {},
   "outputs": [
    {
     "name": "stderr",
     "output_type": "stream",
     "text": [
      "/var/folders/qq/n8l4bgxs53j_s3twq5jzc7g00000gn/T/ipykernel_35791/2567540284.py:57: FutureWarning: X.dtype being converted to np.float32 from int64. In the next version of anndata (0.9) conversion will not be automatic. Pass dtype explicitly to avoid this warning. Pass `AnnData(X, dtype=X.dtype, ...)` to get the future behavour.\n",
      "  adata = ad.AnnData(X=matrix.values, obs=obs_df, var=var_df)\n",
      "/Users/lidiayung/miniconda3/lib/python3.9/site-packages/anndata/_core/anndata.py:121: ImplicitModificationWarning: Transforming to str index.\n",
      "  warnings.warn(\"Transforming to str index.\", ImplicitModificationWarning)\n"
     ]
    },
    {
     "name": "stdout",
     "output_type": "stream",
     "text": [
      "AnnData object with n_obs × n_vars = 4446 × 33694\n",
      "    obs: 0\n",
      "    var: 0\n",
      "(33694, 4446)\n",
      "loaded an expression matrix of 4446 cells by 33694 genes\n",
      "number of genes: 33694\n",
      "number of cells: 4446\n",
      "Number of counts (in the dataset units) per gene: 0.0  -  1481281.0\n",
      "Number of cells in which each gene is detected: 0  -  4423\n",
      "minCountsPerGene:  133.38\n",
      "minSamples:  44.46\n",
      "(33694, 4405)\n",
      "storing for SCENIC an expression matrix of 4405 cells by 33694 genes\n",
      "number of genes: 33694\n",
      "number of cells: 4405\n"
     ]
    },
    {
     "data": {
      "text/plain": [
       "CellID\n",
       "AAACCCAAGTCTGGTT-1    2036.0\n",
       "AAACCCACAGTAACGG-1    4961.0\n",
       "AAACCCAGTGTTTGCA-1    1319.0\n",
       "AAACCCATCGGCAGTC-1    2995.0\n",
       "AAACCCATCTTGGAAC-1    5099.0\n",
       "                       ...  \n",
       "TTTGTTGCATCGCCTT-1    2203.0\n",
       "TTTGTTGGTTTCACTT-1    3774.0\n",
       "TTTGTTGTCATCTATC-1    4960.0\n",
       "TTTGTTGTCCTGTACC-1    6780.0\n",
       "TTTGTTGTCTCATTAC-1    6461.0\n",
       "Name: nUMI, Length: 4405, dtype: float32"
      ]
     },
     "execution_count": 316,
     "metadata": {},
     "output_type": "execute_result"
    }
   ],
   "source": [
    "sample = 'SF10108'\n",
    "nUMI_result = reprocess(sample)\n",
    "nUMI_result"
   ]
  },
  {
   "cell_type": "code",
   "execution_count": 317,
   "id": "23ed6dc6",
   "metadata": {},
   "outputs": [
    {
     "name": "stdout",
     "output_type": "stream",
     "text": [
      "        Sample#             Barcode Tumor_Normal_annotation\n",
      "194895  SF10108  AAAGAACCAGTAGAGC-1                  Normal\n",
      "194896  SF10108  AACGAAAGTCAGGTAG-1                  Normal\n",
      "194897  SF10108  AATTTCCCAGTCCCGA-1                  Normal\n",
      "194898  SF10108  ACAACCACACAAGCTT-1                  Normal\n",
      "194899  SF10108  ACGGAAGGTAGAGACC-1                  Normal\n",
      "...         ...                 ...                     ...\n",
      "199336  SF10108  GTGGAAGTCGCCGATG-1                  Normal\n",
      "199337  SF10108  TAAGTCGGTGGTAATA-1                  Normal\n",
      "199338  SF10108  AGACAGGTCATTGTGG-1                   Tumor\n",
      "199339  SF10108  CATGGATAGACCTTTG-1                  Normal\n",
      "199340  SF10108  GGCACGTTCTGGTCAA-1                   Tumor\n",
      "\n",
      "[4446 rows x 3 columns]\n"
     ]
    },
    {
     "name": "stderr",
     "output_type": "stream",
     "text": [
      "/var/folders/qq/n8l4bgxs53j_s3twq5jzc7g00000gn/T/ipykernel_35791/4226306154.py:9: FutureWarning: The default value of regex will change from True to False in a future version.\n",
      "  new_df['Barcode'] = new_df['Barcode'].str.replace('\\.\\d', '')\n"
     ]
    }
   ],
   "source": [
    "    \n",
    "file = \"/Users/lidiayung/project/resource/GSE174554_RAW/GSE174554_Tumor_normal_metadata.txt\"\n",
    "\n",
    "metadata= pd.read_csv(file,sep=' ')\n",
    "\n",
    "metadata.head()\n",
    "\n",
    "\n",
    "new_df = metadata[metadata[\"Sample#\"] == 'SF10108'].copy()\n",
    "new_df['Barcode'] = new_df['Barcode'].str.replace('\\.\\d', '')\n",
    "new_df['Barcode'] = new_df['Barcode']+'-1'\n",
    "print(new_df)\n",
    "    "
   ]
  },
  {
   "cell_type": "code",
   "execution_count": 318,
   "id": "cc351e2d",
   "metadata": {},
   "outputs": [
    {
     "name": "stdout",
     "output_type": "stream",
     "text": [
      "Percentage: 64.04%\n",
      "2821/1584\n",
      "{'Sample': 'SF10108', 'Post-filtering': '2821/1584', 'Percentage': '64.04%'}\n"
     ]
    },
    {
     "name": "stderr",
     "output_type": "stream",
     "text": [
      "/var/folders/qq/n8l4bgxs53j_s3twq5jzc7g00000gn/T/ipykernel_35791/3546660404.py:2: UserWarning: Boolean Series key will be reindexed to match DataFrame index.\n",
      "  tumor = new_df[new_df['Barcode'].isin(intersection_barcodes) & (metadata['Tumor_Normal_annotation'] == 'Tumor')]\n"
     ]
    }
   ],
   "source": [
    "intersection_barcodes = set(new_df['Barcode']).intersection(nUMI_result.index)\n",
    "tumor = new_df[new_df['Barcode'].isin(intersection_barcodes) & (metadata['Tumor_Normal_annotation'] == 'Tumor')]\n",
    "\n",
    "percentage = \"{:.2%}\".format(len(tumor)/len(nUMI_result))\n",
    "print(\"Percentage: {:.2%}\".format(len(tumor)/len(nUMI_result)))\n",
    "post_filtering = f\"{len(tumor)}/{len(nUMI_result) - len(tumor)}\"\n",
    "print(post_filtering)\n",
    "print({'Sample': sample, 'Post-filtering': post_filtering,'Percentage':percentage})"
   ]
  },
  {
   "cell_type": "markdown",
   "id": "0517c13c",
   "metadata": {},
   "source": [
    "## Further pre-processing of expression data"
   ]
  },
  {
   "cell_type": "code",
   "execution_count": null,
   "id": "3f571159",
   "metadata": {},
   "outputs": [],
   "source": [
    "# save a copy of the raw data\n",
    "adata.raw = adata\n",
    "\n",
    "# Total-count normalize (library-size correct) to 10,000 reads/cell\n",
    "sc.pp.normalize_per_cell(adata, counts_per_cell_after=1e4)\n",
    "\n",
    "# log transform the data.\n",
    "sc.pp.log1p(adata)\n",
    "\n",
    "# identify highly variable genes.\n",
    "sc.pp.highly_variable_genes(adata, min_mean=0.0125, max_mean=3, min_disp=0.5)\n",
    "sc.pl.highly_variable_genes(adata)\n",
    "\n",
    "# keep only highly variable genes:\n",
    "adata = adata[:, adata.var['highly_variable']]\n",
    "\n",
    "# regress out total counts per cell and the percentage of mitochondrial genes expressed\n",
    "sc.pp.regress_out(adata, ['n_counts', 'percent_mito'] ) #, n_jobs=args.threads)\n",
    "\n",
    "# scale each gene to unit variance, clip values exceeding SD 10.\n",
    "sc.pp.scale(adata, max_value=10)\n",
    "\n",
    "# update the anndata file:\n",
    "adata.write( f_anndata_path )"
   ]
  },
  {
   "cell_type": "markdown",
   "id": "b3f93742",
   "metadata": {},
   "source": [
    "### 1 PCA"
   ]
  },
  {
   "cell_type": "code",
   "execution_count": null,
   "id": "a8ade91a",
   "metadata": {},
   "outputs": [],
   "source": [
    "# adata = sc.read_h5ad( f_anndata_path )\n",
    "# principal component analysis\n",
    "sc.tl.pca(adata, svd_solver='arpack')\n",
    "sc.pl.pca_variance_ratio(adata, log=True)\n",
    "adata.write( f_anndata_path )"
   ]
  },
  {
   "cell_type": "markdown",
   "id": "1fd5a902",
   "metadata": {},
   "source": [
    "### 2 Visualization of highly variable genes"
   ]
  },
  {
   "cell_type": "code",
   "execution_count": null,
   "id": "fce1327c",
   "metadata": {},
   "outputs": [],
   "source": [
    "# neighborhood graph of cells (determine optimal number of PCs here)\n",
    "sc.pp.neighbors(adata, n_neighbors=15, n_pcs=30)\n",
    "# compute UMAP\n",
    "sc.tl.umap(adata)\n",
    "# tSNE\n",
    "tsne = TSNE( n_jobs=2 )\n",
    "adata.obsm['X_tsne'] = tsne.fit_transform( adata.X )\n",
    "adata.write( f_anndata_path )"
   ]
  },
  {
   "cell_type": "markdown",
   "id": "f69f3e90",
   "metadata": {},
   "source": [
    "### 3 Clustering"
   ]
  },
  {
   "cell_type": "code",
   "execution_count": null,
   "id": "0bc2b774",
   "metadata": {},
   "outputs": [],
   "source": [
    "# cluster the neighbourhood graph\n",
    "sc.tl.louvain(adata, resolution=0.4)\n",
    "\n",
    "sc.pl.umap(adata, color=['louvain'] )"
   ]
  },
  {
   "cell_type": "code",
   "execution_count": null,
   "id": "f14a2cc0",
   "metadata": {},
   "outputs": [],
   "source": [
    "# find marker genes\n",
    "sc.tl.rank_genes_groups(adata, 'louvain', method='t-test')\n",
    "sc.pl.rank_genes_groups(adata, n_genes=25, sharey=False)\n",
    "\n",
    "# sc.tl.rank_genes_groups(adata, 'louvain', method='logreg')\n",
    "# sc.pl.rank_genes_groups(adata, n_genes=25, sharey=False)\n",
    "pd.DataFrame(adata.uns['rank_genes_groups']['names']).head(10)\n",
    "adata.write( f_anndata_path )"
   ]
  },
  {
   "cell_type": "code",
   "execution_count": null,
   "id": "f816d234",
   "metadata": {},
   "outputs": [],
   "source": [
    "### 4 distribution of genes per cell"
   ]
  },
  {
   "cell_type": "code",
   "execution_count": null,
   "id": "265cc898",
   "metadata": {},
   "outputs": [],
   "source": [
    "nGenesDetectedPerCell = np.sum(adata.X>0, axis=1)\n",
    "nGenesDetectedPerCell = pd.Series(nGenesDetectedPerCell)\n",
    "percentiles = nGenesDetectedPerCell.quantile([0.01, 0.05, 0.10, 0.50, 1])\n",
    "print(percentiles)"
   ]
  },
  {
   "cell_type": "code",
   "execution_count": null,
   "id": "4aec2266",
   "metadata": {},
   "outputs": [],
   "source": [
    "fig, ax = plt.subplots(1, 1, figsize=(8, 5), dpi=150)\n",
    "sns.distplot(nGenesDetectedPerCell, norm_hist=False, kde=False, bins='fd')\n",
    "for i,x in enumerate(percentiles):\n",
    "    fig.gca().axvline(x=x, ymin=0,ymax=1, color='red')\n",
    "    ax.text(x=x, y=ax.get_ylim()[1], s=f'{int(x)} ({percentiles.index.values[i]*100}%)', color='red', rotation=30, size='x-small',rotation_mode='anchor' )\n",
    "ax.set_xlabel('# of genes')\n",
    "ax.set_ylabel('# of cells')\n",
    "fig.tight_layout()"
   ]
  },
  {
   "cell_type": "markdown",
   "id": "6bdc9cbd",
   "metadata": {},
   "source": [
    "## SCENIC"
   ]
  },
  {
   "cell_type": "code",
   "execution_count": null,
   "id": "c1d3d502",
   "metadata": {},
   "outputs": [],
   "source": [
    "f_tfs = \"/home/jing/scratch/resource/allTFs_hg38.txt\""
   ]
  },
  {
   "cell_type": "code",
   "execution_count": null,
   "id": "e217b7ed",
   "metadata": {},
   "outputs": [],
   "source": [
    "!pyscenic grn {f_loom_path_scenic} {f_tfs} -o adj.csv --num_workers 8"
   ]
  },
  {
   "cell_type": "code",
   "execution_count": null,
   "id": "e5e0c620",
   "metadata": {},
   "outputs": [],
   "source": [
    "adjacencies = pd.read_csv(\"adj.csv\", index_col=False, sep='\\t')"
   ]
  },
  {
   "cell_type": "code",
   "execution_count": null,
   "id": "4d0d7674",
   "metadata": {},
   "outputs": [],
   "source": [
    "adjacencies.head()"
   ]
  },
  {
   "cell_type": "code",
   "execution_count": null,
   "id": "09e7224b",
   "metadata": {},
   "outputs": [],
   "source": [
    "adjacencies.head()"
   ]
  },
  {
   "cell_type": "code",
   "execution_count": null,
   "id": "bbcc63bb",
   "metadata": {},
   "outputs": [],
   "source": [
    "import glob\n",
    "# ranking databases\n",
    "f_db_glob = \"/home/jing/scratch/resource/*feather\"\n",
    "f_db_names = ' '.join( glob.glob(f_db_glob) )\n",
    "\n",
    "# motif databases\n",
    "f_motif_path = \"/home/jing/scratch/resource/motifs-v9-nr.hgnc-m0.001-o0.0.tbl\""
   ]
  },
  {
   "cell_type": "code",
   "execution_count": null,
   "id": "8abd3187",
   "metadata": {},
   "outputs": [],
   "source": [
    "!pyscenic ctx adj.csv \\\n",
    "    {f_db_names} \\\n",
    "    --annotations_fname {f_motif_path} \\\n",
    "    --expression_mtx_fname {f_loom_path_scenic} \\\n",
    "    --output reg.csv \\\n",
    "    --mask_dropouts \\\n",
    "    --num_workers 8"
   ]
  },
  {
   "cell_type": "code",
   "execution_count": null,
   "id": "b39e27f6",
   "metadata": {},
   "outputs": [],
   "source": [
    "nGenesDetectedPerCell = np.sum(adata.X>0, axis=1)\n",
    "nGenesDetectedPerCell = pd.Series(nGenesDetectedPerCell)\n",
    "percentiles = nGenesDetectedPerCell.quantile([0.01, 0.05, 0.10, 0.50, 1])\n",
    "print(percentiles)"
   ]
  },
  {
   "cell_type": "code",
   "execution_count": null,
   "id": "e89f2b38",
   "metadata": {},
   "outputs": [],
   "source": [
    "fig, ax = plt.subplots(1, 1, figsize=(8, 5), dpi=150)\n",
    "sns.distplot(nGenesDetectedPerCell, norm_hist=False, kde=False, bins='fd')\n",
    "for i,x in enumerate(percentiles):\n",
    "    fig.gca().axvline(x=x, ymin=0,ymax=1, color='red')\n",
    "    ax.text(x=x, y=ax.get_ylim()[1], s=f'{int(x)} ({percentiles.index.values[i]*100}%)', color='red', rotation=30, size='x-small',rotation_mode='anchor' )\n",
    "ax.set_xlabel('# of genes')\n",
    "ax.set_ylabel('# of cells')\n",
    "fig.tight_layout()"
   ]
  },
  {
   "cell_type": "code",
   "execution_count": null,
   "id": "423e6dfc",
   "metadata": {},
   "outputs": [],
   "source": [
    "!pyscenic aucell \\\n",
    "    {f_loom_path_scenic} \\\n",
    "    reg.csv \\\n",
    "    --output {f_pyscenic_output} \\\n",
    "    --num_workers 8"
   ]
  },
  {
   "cell_type": "code",
   "execution_count": null,
   "id": "9b721e3c",
   "metadata": {},
   "outputs": [],
   "source": [
    "import json\n",
    "import zlib\n",
    "import base64\n",
    "import loompy as lp\n",
    "import pandas as pd\n",
    "\n",
    "# collect SCENIC AUCell output\n",
    "lf = lp.connect(f_pyscenic_output, mode='r+', validate=False)\n",
    "auc_mtx = pd.DataFrame( lf.ca.RegulonsAUC, index=lf.ca.CellID)\n",
    "lf.close()"
   ]
  },
  {
   "cell_type": "code",
   "execution_count": null,
   "id": "f3bcfd2b",
   "metadata": {},
   "outputs": [],
   "source": [
    "auc_mtx.shape"
   ]
  },
  {
   "cell_type": "code",
   "execution_count": null,
   "id": "956c925e",
   "metadata": {},
   "outputs": [],
   "source": [
    "sns.clustermap(auc_mtx, figsize=(12,12))"
   ]
  },
  {
   "cell_type": "code",
   "execution_count": null,
   "id": "6eb805b9",
   "metadata": {},
   "outputs": [],
   "source": [
    "import umap\n",
    "\n",
    "# UMAP\n",
    "runUmap = umap.UMAP(n_neighbors=10, min_dist=0.4, metric='correlation').fit_transform\n",
    "dr_umap = runUmap( auc_mtx )\n",
    "pd.DataFrame(dr_umap, columns=['X', 'Y'], index=auc_mtx.index).to_csv( \"scenic_umap.txt\", sep='\\t')\n",
    "# tSNE\n",
    "tsne = TSNE( n_jobs=8 )\n",
    "dr_tsne = tsne.fit_transform( auc_mtx )\n",
    "pd.DataFrame(dr_tsne, columns=['X', 'Y'], index=auc_mtx.index).to_csv( \"scenic_tsne.txt\", sep='\\t')"
   ]
  },
  {
   "cell_type": "code",
   "execution_count": null,
   "id": "54e41a91",
   "metadata": {},
   "outputs": [],
   "source": [
    "pdf = pd.DataFrame(dr_umap, columns=['X', 'Y'], index=auc_mtx.index)\n",
    "pdf.head()"
   ]
  },
  {
   "cell_type": "code",
   "execution_count": null,
   "id": "fcf0b597",
   "metadata": {},
   "outputs": [],
   "source": [
    "plt.plot(pdf['X'], pdf['Y'], 'o', alpha=1/13)\n",
    "plt.show()"
   ]
  },
  {
   "cell_type": "code",
   "execution_count": null,
   "id": "bdb6d0e2",
   "metadata": {},
   "outputs": [],
   "source": [
    "pdf = pd.DataFrame(dr_tsne, columns=['X', 'Y'], index=auc_mtx.index)\n",
    "plt.plot(pdf['X'], pdf['Y'], 'o', alpha=1/13)\n",
    "plt.show()"
   ]
  },
  {
   "cell_type": "code",
   "execution_count": null,
   "id": "3dfaa100",
   "metadata": {},
   "outputs": [],
   "source": [
    "# scenic output\n",
    "lf = lp.connect( f_pyscenic_output, mode='r+', validate=False )\n",
    "meta = json.loads(zlib.decompress(base64.b64decode( lf.attrs.MetaData )))\n",
    "#exprMat = pd.DataFrame( lf[:,:], index=lf.ra.Gene, columns=lf.ca.CellID)\n",
    "auc_mtx = pd.DataFrame( lf.ca.RegulonsAUC, index=lf.ca.CellID)\n",
    "regulons = lf.ra.Regulons\n",
    "dr_umap = pd.read_csv( 'scenic_umap.txt', sep='\\t', header=0, index_col=0 )\n",
    "dr_tsne = pd.read_csv( 'scenic_tsne.txt', sep='\\t', header=0, index_col=0 )\n",
    "###"
   ]
  },
  {
   "cell_type": "code",
   "execution_count": null,
   "id": "ff37a7a3",
   "metadata": {},
   "outputs": [],
   "source": [
    "auc_mtx.columns = auc_mtx.columns.str.replace('\\(','_(')\n",
    "regulons.dtype.names = tuple( [ x.replace(\"(\",\"_(\") for x in regulons.dtype.names ] )\n",
    "# regulon thresholds\n",
    "rt = meta['regulonThresholds']\n",
    "for i,x in enumerate(rt):\n",
    "    tmp = x.get('regulon').replace(\"(\",\"_(\")\n",
    "    x.update( {'regulon': tmp} )"
   ]
  },
  {
   "cell_type": "code",
   "execution_count": null,
   "id": "f83f3fcd",
   "metadata": {},
   "outputs": [],
   "source": [
    "tsneDF = pd.DataFrame(adata.obsm['X_tsne'], columns=['_X', '_Y'])\n",
    "\n",
    "Embeddings_X = pd.DataFrame( index=lf.ca.CellID )\n",
    "Embeddings_X = pd.concat( [\n",
    "        pd.DataFrame(adata.obsm['X_umap'],index=adata.obs.index)[0] ,\n",
    "        pd.DataFrame(adata.obsm['X_pca'],index=adata.obs.index)[0] ,\n",
    "        dr_tsne['X'] ,\n",
    "        dr_umap['X']\n",
    "    ], sort=False, axis=1, join='outer' )\n",
    "Embeddings_X.columns = ['1','2','3','4']\n",
    "\n",
    "Embeddings_Y = pd.DataFrame( index=lf.ca.CellID )\n",
    "Embeddings_Y = pd.concat( [\n",
    "        pd.DataFrame(adata.obsm['X_umap'],index=adata.obs.index)[1] ,\n",
    "        pd.DataFrame(adata.obsm['X_pca'],index=adata.obs.index)[1] ,\n",
    "        dr_tsne['Y'] ,\n",
    "        dr_umap['Y']\n",
    "    ], sort=False, axis=1, join='outer' )\n",
    "Embeddings_Y.columns = ['1','2','3','4']"
   ]
  },
  {
   "cell_type": "code",
   "execution_count": null,
   "id": "9eb8e5ee",
   "metadata": {},
   "outputs": [],
   "source": [
    "metaJson = {}\n",
    "\n",
    "metaJson['embeddings'] = [\n",
    "    {\n",
    "        \"id\": -1,\n",
    "        \"name\": f\"Scanpy t-SNE (highly variable genes)\"\n",
    "    },\n",
    "    {\n",
    "        \"id\": 1,\n",
    "        \"name\": f\"Scanpy UMAP  (highly variable genes)\"\n",
    "    },\n",
    "    {\n",
    "        \"id\": 2,\n",
    "        \"name\": \"Scanpy PC1/PC2\"\n",
    "    },\n",
    "    {\n",
    "        \"id\": 3,\n",
    "        \"name\": \"SCENIC AUC t-SNE\"\n",
    "    },\n",
    "    {\n",
    "        \"id\": 4,\n",
    "        \"name\": \"SCENIC AUC UMAP\"\n",
    "    },\n",
    "]\n",
    "\n",
    "metaJson[\"clusterings\"] = [{\n",
    "            \"id\": 0,\n",
    "            \"group\": \"Scanpy\",\n",
    "            \"name\": \"Scanpy louvain default resolution\",\n",
    "            \"clusters\": [],\n",
    "        }]\n",
    "\n",
    "metaJson[\"metrics\"] = [\n",
    "        {\n",
    "            \"name\": \"nUMI\"\n",
    "        }, {\n",
    "            \"name\": \"nGene\"\n",
    "        }, {\n",
    "            \"name\": \"Percent_mito\"\n",
    "        }\n",
    "]\n",
    "\n",
    "metaJson[\"annotations\"] = [\n",
    "    {\n",
    "        \"name\": \"Louvain_clusters_Scanpy\",\n",
    "        \"values\": list(set( adata.obs['louvain'].astype(np.str) ))\n",
    "    },\n",
    "    #{\n",
    "    #    \"name\": \"Genotype\",\n",
    "    #    \"values\": list(set(adata.obs['Genotype'].values))\n",
    "    #},\n",
    "    #{\n",
    "    #    \"name\": \"Timepoint\",\n",
    "    #    \"values\": list(set(adata.obs['Timepoint'].values))\n",
    "    #},\n",
    "    #{\n",
    "    #    \"name\": \"Sample\",\n",
    "    #    \"values\": list(set(adata.obs['Sample'].values))\n",
    "    #}\n",
    "]\n",
    "\n",
    "# SCENIC regulon thresholds:\n",
    "metaJson[\"regulonThresholds\"] = rt\n",
    "\n",
    "for i in range(max(set([int(x) for x in adata.obs['louvain']])) + 1):\n",
    "    clustDict = {}\n",
    "    clustDict['id'] = i\n",
    "    clustDict['description'] = f'Unannotated Cluster {i + 1}'\n",
    "    metaJson['clusterings'][0]['clusters'].append(clustDict)\n",
    "    \n",
    "clusterings = pd.DataFrame()\n",
    "clusterings[\"0\"] = adata.obs['louvain'].values.astype(np.int64)"
   ]
  },
  {
   "cell_type": "code",
   "execution_count": null,
   "id": "630de697",
   "metadata": {},
   "outputs": [],
   "source": [
    "def dfToNamedMatrix(df):\n",
    "    arr_ip = [tuple(i) for i in df.values]\n",
    "    dtyp = np.dtype(list(zip(df.dtypes.index, df.dtypes)))\n",
    "    arr = np.array(arr_ip, dtype=dtyp)\n",
    "    return arr"
   ]
  },
  {
   "cell_type": "code",
   "execution_count": null,
   "id": "8efa707f",
   "metadata": {},
   "outputs": [],
   "source": [
    "col_attrs = {\n",
    "    \"CellID\": np.array(adata.obs.index),\n",
    "    \"nUMI\": np.array(adata.obs['n_counts'].values),\n",
    "    \"nGene\": np.array(adata.obs['n_genes'].values),\n",
    "    \"Louvain_clusters_Scanpy\": np.array( adata.obs['louvain'].values ),\n",
    "    #\"Genotype\": np.array(adata.obs['Genotype'].values),\n",
    "    #\"Timepoint\": np.array(adata.obs['Timepoint'].values),\n",
    "    #\"Sample\": np.array(adata.obs['Sample'].values),\n",
    "    \"Percent_mito\": np.array(adata.obs['percent_mito'].values),\n",
    "    \"Embedding\": dfToNamedMatrix(tsneDF),\n",
    "    \"Embeddings_X\": dfToNamedMatrix(Embeddings_X),\n",
    "    \"Embeddings_Y\": dfToNamedMatrix(Embeddings_Y),\n",
    "    \"RegulonsAUC\": dfToNamedMatrix(auc_mtx),\n",
    "    \"Clusterings\": dfToNamedMatrix(clusterings),\n",
    "    \"ClusterID\": np.array(adata.obs['louvain'].values)\n",
    "}\n",
    "\n",
    "row_attrs = {\n",
    "    \"Gene\": lf.ra.Gene,\n",
    "    \"Regulons\": regulons,\n",
    "}\n",
    "\n",
    "attrs = {\n",
    "    \"title\": \"sampleTitle\",\n",
    "    \"MetaData\": json.dumps(metaJson),\n",
    "    \"Genome\": 'hg38',\n",
    "    \"SCopeTreeL1\": \"\",\n",
    "    \"SCopeTreeL2\": \"\",\n",
    "    \"SCopeTreeL3\": \"\"\n",
    "}\n",
    "\n",
    "# compress the metadata field:\n",
    "attrs['MetaData'] = base64.b64encode(zlib.compress(json.dumps(metaJson).encode('ascii'))).decode('ascii')"
   ]
  },
  {
   "cell_type": "code",
   "execution_count": null,
   "id": "d83828c9",
   "metadata": {},
   "outputs": [],
   "source": [
    "lp.create(\n",
    "    filename = \"f_final_loom\" ,\n",
    "    layers=lf[:,:],\n",
    "    row_attrs=row_attrs, \n",
    "    col_attrs=col_attrs, \n",
    "    file_attrs=attrs\n",
    ")\n",
    "lf.close() # close original pyscenic loom file"
   ]
  },
  {
   "cell_type": "code",
   "execution_count": null,
   "id": "5b714081",
   "metadata": {},
   "outputs": [],
   "source": []
  }
 ],
 "metadata": {
  "kernelspec": {
   "display_name": "Python 3 (ipykernel)",
   "language": "python",
   "name": "python3"
  },
  "language_info": {
   "codemirror_mode": {
    "name": "ipython",
    "version": 3
   },
   "file_extension": ".py",
   "mimetype": "text/x-python",
   "name": "python",
   "nbconvert_exporter": "python",
   "pygments_lexer": "ipython3",
   "version": "3.9.7"
  }
 },
 "nbformat": 4,
 "nbformat_minor": 5
}
