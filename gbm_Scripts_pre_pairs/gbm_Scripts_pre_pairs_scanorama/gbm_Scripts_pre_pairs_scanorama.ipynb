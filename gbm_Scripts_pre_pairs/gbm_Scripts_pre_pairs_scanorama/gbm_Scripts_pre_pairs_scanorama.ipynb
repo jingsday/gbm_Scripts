{
 "cells": [
  {
   "cell_type": "code",
   "execution_count": 4,
   "metadata": {},
   "outputs": [
    {
     "name": "stdout",
     "output_type": "stream",
     "text": [
      "-----\n",
      "anndata     0.10.8\n",
      "scanpy      1.10.2\n",
      "-----\n",
      "PIL                 10.4.0\n",
      "annoy               NA\n",
      "asttokens           NA\n",
      "colorama            0.4.6\n",
      "comm                0.2.2\n",
      "cycler              0.12.1\n",
      "cython_runtime      NA\n",
      "dateutil            2.9.0\n",
      "debugpy             1.8.2\n",
      "decorator           5.1.1\n",
      "executing           2.0.1\n",
      "fbpca               NA\n",
      "h5py                3.11.0\n",
      "intervaltree        NA\n",
      "ipykernel           6.29.5\n",
      "jedi                0.19.1\n",
      "joblib              1.4.2\n",
      "kiwisolver          1.4.5\n",
      "legacy_api_wrap     NA\n",
      "llvmlite            0.43.0\n",
      "matplotlib          3.9.1\n",
      "mpl_toolkits        NA\n",
      "natsort             8.4.0\n",
      "numba               0.60.0\n",
      "numpy               1.26.4\n",
      "packaging           24.1\n",
      "pandas              2.2.2\n",
      "parso               0.8.4\n",
      "patsy               0.5.6\n",
      "pickleshare         0.7.5\n",
      "platformdirs        4.2.2\n",
      "prompt_toolkit      3.0.47\n",
      "psutil              6.0.0\n",
      "pure_eval           0.2.3\n",
      "pydev_ipython       NA\n",
      "pydevconsole        NA\n",
      "pydevd              2.9.5\n",
      "pydevd_file_utils   NA\n",
      "pydevd_plugins      NA\n",
      "pydevd_tracing      NA\n",
      "pygments            2.18.0\n",
      "pyparsing           3.1.2\n",
      "pytz                2024.1\n",
      "scanorama           1.7.4\n",
      "scipy               1.14.0\n",
      "seaborn             0.13.2\n",
      "session_info        1.0.0\n",
      "six                 1.16.0\n",
      "sklearn             1.5.1\n",
      "sortedcontainers    2.4.0\n",
      "stack_data          0.6.2\n",
      "statsmodels         0.14.2\n",
      "threadpoolctl       3.5.0\n",
      "tornado             6.4.1\n",
      "traitlets           5.14.3\n",
      "vscode              NA\n",
      "wcwidth             0.2.13\n",
      "zmq                 26.0.3\n",
      "-----\n",
      "IPython             8.26.0\n",
      "jupyter_client      8.6.2\n",
      "jupyter_core        5.7.2\n",
      "-----\n",
      "Python 3.12.4 | packaged by conda-forge | (main, Jun 17 2024, 10:23:07) [GCC 12.3.0]\n",
      "Linux-6.8.0-35-generic-x86_64-with-glibc2.39\n",
      "-----\n",
      "Session information updated at 2024-07-25 12:42\n"
     ]
    }
   ],
   "source": [
    "import scanpy as sc\n",
    "import anndata as an\n",
    "import pandas as pd\n",
    "import numpy as np\n",
    "import matplotlib.pyplot as plt\n",
    "import seaborn as sns\n",
    "import scanorama\n",
    "from scipy.sparse import csr_matrix\n",
    "\n",
    "from pathlib import Path\n",
    "import os\n",
    "\n",
    "sc.logging.print_versions()\n",
    "sc.set_figure_params(facecolor=\"white\", figsize=(8, 8))\n",
    "sc.settings.verbosity = 3\n",
    "\n",
    "directory = '/home/jyang/Phd_project/project_GBM/gbm_DATA/gbm_DATA_GSE174554/gbm_DATA_scRNA_atlas'\n",
    "os.chdir(directory)"
   ]
  },
  {
   "cell_type": "code",
   "execution_count": 5,
   "metadata": {},
   "outputs": [],
   "source": [
    "directory = '/home/jyang/Phd_project/project_GBM/gbm_DATA/gbm_DATA_GSE174554/gbm_DATA_scRNA_atlas'\n",
    "os.chdir(directory)"
   ]
  }
 ],
 "metadata": {
  "kernelspec": {
   "display_name": "Python 3",
   "language": "python",
   "name": "python3"
  },
  "language_info": {
   "codemirror_mode": {
    "name": "ipython",
    "version": 3
   },
   "file_extension": ".py",
   "mimetype": "text/x-python",
   "name": "python",
   "nbconvert_exporter": "python",
   "pygments_lexer": "ipython3",
   "version": "3.12.4"
  }
 },
 "nbformat": 4,
 "nbformat_minor": 2
}
