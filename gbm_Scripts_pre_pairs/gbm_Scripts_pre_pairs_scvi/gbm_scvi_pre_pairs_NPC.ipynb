{
 "cells": [
  {
   "cell_type": "code",
   "execution_count": 1,
   "metadata": {},
   "outputs": [
    {
     "name": "stdout",
     "output_type": "stream",
     "text": [
      "-----\n",
      "anndata     0.10.8\n",
      "scanpy      1.10.3\n",
      "-----\n",
      "PIL                 10.4.0\n",
      "absl                NA\n",
      "asttokens           NA\n",
      "attr                24.2.0\n",
      "bottleneck          1.4.1\n",
      "cffi                1.17.1\n",
      "chex                0.1.87\n",
      "comm                0.2.1\n",
      "contextlib2         NA\n",
      "cycler              0.12.1\n",
      "cython_runtime      NA\n",
      "dateutil            2.9.0.post0\n",
      "debugpy             1.6.7\n",
      "decorator           5.1.1\n",
      "distutils           3.12.7\n",
      "docrep              0.3.2\n",
      "etils               1.9.4\n",
      "executing           0.8.3\n",
      "filelock            3.16.1\n",
      "flax                0.9.0\n",
      "fsspec              2024.10.0\n",
      "gmpy2               2.1.5\n",
      "h5py                3.11.0\n",
      "igraph              0.11.6\n",
      "ipykernel           6.28.0\n",
      "ipywidgets          8.1.3\n",
      "jaraco              NA\n",
      "jax                 0.4.34\n",
      "jaxlib              0.4.34\n",
      "jedi                0.18.1\n",
      "joblib              1.4.2\n",
      "kiwisolver          1.4.7\n",
      "legacy_api_wrap     NA\n",
      "leidenalg           0.10.2\n",
      "lightning           2.4.0\n",
      "lightning_utilities 0.11.7\n",
      "llvmlite            0.43.0\n",
      "loompy              3.0.6\n",
      "matplotlib          3.8.4\n",
      "ml_collections      NA\n",
      "ml_dtypes           0.5.0\n",
      "more_itertools      10.5.0\n",
      "mpl_toolkits        NA\n",
      "mpmath              1.3.0\n",
      "msgpack             1.1.0\n",
      "mudata              0.3.1\n",
      "multipledispatch    0.6.0\n",
      "natsort             8.4.0\n",
      "numba               0.60.0\n",
      "numexpr             2.10.1\n",
      "numpy               1.26.4\n",
      "numpy_groupies      0.11.1\n",
      "numpyro             0.15.3\n",
      "opt_einsum          3.4.0\n",
      "optax               0.2.3\n",
      "packaging           24.1\n",
      "pandas              2.2.3\n",
      "parso               0.8.3\n",
      "patsy               0.5.6\n",
      "pkg_resources       NA\n",
      "platformdirs        4.2.2\n",
      "plotly              5.24.1\n",
      "prompt_toolkit      3.0.43\n",
      "psutil              6.0.0\n",
      "pure_eval           0.2.2\n",
      "pyarrow             11.0.0\n",
      "pycparser           2.22\n",
      "pydev_ipython       NA\n",
      "pydevconsole        NA\n",
      "pydevd              2.9.5\n",
      "pydevd_file_utils   NA\n",
      "pydevd_plugins      NA\n",
      "pydevd_tracing      NA\n",
      "pygments            2.18.0\n",
      "pyparsing           3.2.0\n",
      "pyro                1.9.1\n",
      "pytz                2024.1\n",
      "rich                NA\n",
      "scipy               1.14.1\n",
      "scvi                1.2.0\n",
      "seaborn             0.13.2\n",
      "session_info        1.0.0\n",
      "setuptools          75.6.0\n",
      "six                 1.16.0\n",
      "sklearn             1.5.2\n",
      "sparse              0.15.4\n",
      "stack_data          0.2.0\n",
      "statsmodels         0.14.4\n",
      "sympy               1.11.1\n",
      "texttable           1.7.0\n",
      "threadpoolctl       3.5.0\n",
      "toolz               1.0.0\n",
      "torch               2.4.1+cu121\n",
      "torchgen            NA\n",
      "torchmetrics        1.4.3\n",
      "tornado             6.4.1\n",
      "tqdm                4.66.5\n",
      "traitlets           5.14.3\n",
      "triton              3.0.0\n",
      "typing_extensions   NA\n",
      "vscode              NA\n",
      "wcwidth             0.2.13\n",
      "xarray              2024.9.0\n",
      "yaml                6.0.2\n",
      "zmq                 25.1.2\n",
      "-----\n",
      "IPython             8.25.0\n",
      "jupyter_client      8.6.0\n",
      "jupyter_core        5.7.2\n",
      "-----\n",
      "Python 3.12.7 | packaged by conda-forge | (main, Oct  4 2024, 16:05:46) [GCC 13.3.0]\n",
      "Linux-6.5.0-1025-oem-x86_64-with-glibc2.35\n",
      "-----\n",
      "Session information updated at 2025-02-05 17:52\n"
     ]
    }
   ],
   "source": [
    "import os\n",
    "import anndata\n",
    "import numpy as np\n",
    "import pandas as pd\n",
    "import scanpy as sc\n",
    "import loompy as lp\n",
    "import seaborn as sns \n",
    "import matplotlib.pyplot as plt\n",
    "import scipy\n",
    "import csv\n",
    "import gzip\n",
    "import anndata as ad\n",
    "from pathlib import Path\n",
    "import glob\n",
    "import scvi\n",
    "from sklearn.preprocessing import StandardScaler\n",
    "from matplotlib.colors import ListedColormap\n",
    "sc.settings.verbosity = 3 # verbosity: errors (0), warnings (1), info (2), hints (3)\n",
    "sc.logging.print_versions()"
   ]
  },
  {
   "cell_type": "code",
   "execution_count": 2,
   "metadata": {},
   "outputs": [],
   "source": [
    "outdir='/home/jing/Phd_project/project_GBM/gbm_OUTPUT/gbm_OUTPUT_publication'"
   ]
  },
  {
   "cell_type": "code",
   "execution_count": 3,
   "metadata": {},
   "outputs": [],
   "source": [
    "adata= ad.read_h5ad(os.path.join(outdir,'gbm_OUTPUT_scvi.h5ad'))"
   ]
  },
  {
   "cell_type": "code",
   "execution_count": 4,
   "metadata": {},
   "outputs": [
    {
     "data": {
      "text/plain": [
       "AnnData object with n_obs × n_vars = 56716 × 2000\n",
       "    obs: 'n_genes', 'n_genes_by_counts', 'total_counts', 'total_counts_mt', 'pct_counts_mt', 'source', '_scvi_batch', '_scvi_labels', 'leiden', 'Cellid'\n",
       "    var: 'Gene', 'mt', 'n_cells_by_counts-SF11082', 'mean_counts-SF11082', 'pct_dropout_by_counts-SF11082', 'total_counts-SF11082', 'n_cells_by_counts-SF11488', 'mean_counts-SF11488', 'pct_dropout_by_counts-SF11488', 'total_counts-SF11488', 'n_cells_by_counts-SF11916', 'mean_counts-SF11916', 'pct_dropout_by_counts-SF11916', 'total_counts-SF11916', 'n_cells_by_counts-SF12382', 'mean_counts-SF12382', 'pct_dropout_by_counts-SF12382', 'total_counts-SF12382', 'n_cells_by_counts-SF2777', 'mean_counts-SF2777', 'pct_dropout_by_counts-SF2777', 'total_counts-SF2777', 'n_cells_by_counts-SF2979', 'mean_counts-SF2979', 'pct_dropout_by_counts-SF2979', 'total_counts-SF2979', 'n_cells_by_counts-SF2990', 'mean_counts-SF2990', 'pct_dropout_by_counts-SF2990', 'total_counts-SF2990', 'n_cells_by_counts-SF3073', 'mean_counts-SF3073', 'pct_dropout_by_counts-SF3073', 'total_counts-SF3073', 'n_cells_by_counts-SF3076', 'mean_counts-SF3076', 'pct_dropout_by_counts-SF3076', 'total_counts-SF3076', 'n_cells_by_counts-SF3243', 'mean_counts-SF3243', 'pct_dropout_by_counts-SF3243', 'total_counts-SF3243', 'n_cells_by_counts-SF3391', 'mean_counts-SF3391', 'pct_dropout_by_counts-SF3391', 'total_counts-SF3391', 'n_cells_by_counts-SF3448', 'mean_counts-SF3448', 'pct_dropout_by_counts-SF3448', 'total_counts-SF3448', 'n_cells_by_counts-SF9358', 'mean_counts-SF9358', 'pct_dropout_by_counts-SF9358', 'total_counts-SF9358', 'n_cells_by_counts-SF9494', 'mean_counts-SF9494', 'pct_dropout_by_counts-SF9494', 'total_counts-SF9494', 'n_cells_by_counts-SF9798', 'mean_counts-SF9798', 'pct_dropout_by_counts-SF9798', 'total_counts-SF9798', 'n_cells_by_counts-SF9962', 'mean_counts-SF9962', 'pct_dropout_by_counts-SF9962', 'total_counts-SF9962', 'highly_variable', 'highly_variable_rank', 'means', 'variances', 'variances_norm', 'highly_variable_nbatches'\n",
       "    uns: '_scvi_manager_uuid', '_scvi_uuid', 'hvg', 'leiden', 'neighbors'\n",
       "    obsm: 'X_scVI'\n",
       "    layers: 'counts'\n",
       "    obsp: 'connectivities', 'distances'"
      ]
     },
     "execution_count": 4,
     "metadata": {},
     "output_type": "execute_result"
    }
   ],
   "source": [
    "adata"
   ]
  },
  {
   "cell_type": "code",
   "execution_count": 5,
   "metadata": {},
   "outputs": [
    {
     "data": {
      "text/html": [
       "<div>\n",
       "<style scoped>\n",
       "    .dataframe tbody tr th:only-of-type {\n",
       "        vertical-align: middle;\n",
       "    }\n",
       "\n",
       "    .dataframe tbody tr th {\n",
       "        vertical-align: top;\n",
       "    }\n",
       "\n",
       "    .dataframe thead th {\n",
       "        text-align: right;\n",
       "    }\n",
       "</style>\n",
       "<table border=\"1\" class=\"dataframe\">\n",
       "  <thead>\n",
       "    <tr style=\"text-align: right;\">\n",
       "      <th></th>\n",
       "      <th>Solo_Prediction</th>\n",
       "    </tr>\n",
       "    <tr>\n",
       "      <th>Index</th>\n",
       "      <th></th>\n",
       "    </tr>\n",
       "  </thead>\n",
       "  <tbody>\n",
       "    <tr>\n",
       "      <th>AAACCCAAGCGAACTG-1-SF9494</th>\n",
       "      <td>doublet</td>\n",
       "    </tr>\n",
       "    <tr>\n",
       "      <th>AAACCCAAGGCATTTC-1-SF9494</th>\n",
       "      <td>singlet</td>\n",
       "    </tr>\n",
       "    <tr>\n",
       "      <th>AAACCCAAGTACCGGA-1-SF9494</th>\n",
       "      <td>doublet</td>\n",
       "    </tr>\n",
       "    <tr>\n",
       "      <th>AAACCCATCATTCGGA-1-SF9494</th>\n",
       "      <td>singlet</td>\n",
       "    </tr>\n",
       "    <tr>\n",
       "      <th>AAACCCATCCTCTCGA-1-SF9494</th>\n",
       "      <td>singlet</td>\n",
       "    </tr>\n",
       "    <tr>\n",
       "      <th>...</th>\n",
       "      <td>...</td>\n",
       "    </tr>\n",
       "    <tr>\n",
       "      <th>TTTGTTGAGTACCATC-1-SF2777</th>\n",
       "      <td>singlet</td>\n",
       "    </tr>\n",
       "    <tr>\n",
       "      <th>TTTGTTGCACTGGCCA-1-SF2777</th>\n",
       "      <td>doublet</td>\n",
       "    </tr>\n",
       "    <tr>\n",
       "      <th>TTTGTTGGTACTCAAC-1-SF2777</th>\n",
       "      <td>doublet</td>\n",
       "    </tr>\n",
       "    <tr>\n",
       "      <th>TTTGTTGTCCCAAGTA-1-SF2777</th>\n",
       "      <td>doublet</td>\n",
       "    </tr>\n",
       "    <tr>\n",
       "      <th>TTTGTTGTCGGATTAC-1-SF2777</th>\n",
       "      <td>singlet</td>\n",
       "    </tr>\n",
       "  </tbody>\n",
       "</table>\n",
       "<p>56716 rows × 1 columns</p>\n",
       "</div>"
      ],
      "text/plain": [
       "                          Solo_Prediction\n",
       "Index                                    \n",
       "AAACCCAAGCGAACTG-1-SF9494         doublet\n",
       "AAACCCAAGGCATTTC-1-SF9494         singlet\n",
       "AAACCCAAGTACCGGA-1-SF9494         doublet\n",
       "AAACCCATCATTCGGA-1-SF9494         singlet\n",
       "AAACCCATCCTCTCGA-1-SF9494         singlet\n",
       "...                                   ...\n",
       "TTTGTTGAGTACCATC-1-SF2777         singlet\n",
       "TTTGTTGCACTGGCCA-1-SF2777         doublet\n",
       "TTTGTTGGTACTCAAC-1-SF2777         doublet\n",
       "TTTGTTGTCCCAAGTA-1-SF2777         doublet\n",
       "TTTGTTGTCGGATTAC-1-SF2777         singlet\n",
       "\n",
       "[56716 rows x 1 columns]"
      ]
     },
     "execution_count": 5,
     "metadata": {},
     "output_type": "execute_result"
    }
   ],
   "source": [
    "doublet_df = pd.read_csv(os.path.join(outdir,'doublet_predictions.csv'), index_col=0)\n",
    "doublet_df"
   ]
  },
  {
   "cell_type": "code",
   "execution_count": null,
   "metadata": {},
   "outputs": [],
   "source": [
    "for i in adata.obs.index:\n",
    "    adata.obs.loc[i,'solo'] = doublet_df.loc[i,'Solo_Prediction']"
   ]
  },
  {
   "cell_type": "code",
   "execution_count": 12,
   "metadata": {},
   "outputs": [
    {
     "data": {
      "text/plain": [
       "solo\n",
       "singlet    50738\n",
       "doublet     5978\n",
       "Name: count, dtype: int64"
      ]
     },
     "execution_count": 12,
     "metadata": {},
     "output_type": "execute_result"
    }
   ],
   "source": [
    "adata.obs['solo'].value_counts()"
   ]
  },
  {
   "cell_type": "code",
   "execution_count": 13,
   "metadata": {},
   "outputs": [
    {
     "data": {
      "text/plain": [
       "AnnData object with n_obs × n_vars = 56716 × 2000\n",
       "    obs: 'n_genes', 'n_genes_by_counts', 'total_counts', 'total_counts_mt', 'pct_counts_mt', 'source', '_scvi_batch', '_scvi_labels', 'leiden', 'Cellid', 'solo'\n",
       "    var: 'Gene', 'mt', 'n_cells_by_counts-SF11082', 'mean_counts-SF11082', 'pct_dropout_by_counts-SF11082', 'total_counts-SF11082', 'n_cells_by_counts-SF11488', 'mean_counts-SF11488', 'pct_dropout_by_counts-SF11488', 'total_counts-SF11488', 'n_cells_by_counts-SF11916', 'mean_counts-SF11916', 'pct_dropout_by_counts-SF11916', 'total_counts-SF11916', 'n_cells_by_counts-SF12382', 'mean_counts-SF12382', 'pct_dropout_by_counts-SF12382', 'total_counts-SF12382', 'n_cells_by_counts-SF2777', 'mean_counts-SF2777', 'pct_dropout_by_counts-SF2777', 'total_counts-SF2777', 'n_cells_by_counts-SF2979', 'mean_counts-SF2979', 'pct_dropout_by_counts-SF2979', 'total_counts-SF2979', 'n_cells_by_counts-SF2990', 'mean_counts-SF2990', 'pct_dropout_by_counts-SF2990', 'total_counts-SF2990', 'n_cells_by_counts-SF3073', 'mean_counts-SF3073', 'pct_dropout_by_counts-SF3073', 'total_counts-SF3073', 'n_cells_by_counts-SF3076', 'mean_counts-SF3076', 'pct_dropout_by_counts-SF3076', 'total_counts-SF3076', 'n_cells_by_counts-SF3243', 'mean_counts-SF3243', 'pct_dropout_by_counts-SF3243', 'total_counts-SF3243', 'n_cells_by_counts-SF3391', 'mean_counts-SF3391', 'pct_dropout_by_counts-SF3391', 'total_counts-SF3391', 'n_cells_by_counts-SF3448', 'mean_counts-SF3448', 'pct_dropout_by_counts-SF3448', 'total_counts-SF3448', 'n_cells_by_counts-SF9358', 'mean_counts-SF9358', 'pct_dropout_by_counts-SF9358', 'total_counts-SF9358', 'n_cells_by_counts-SF9494', 'mean_counts-SF9494', 'pct_dropout_by_counts-SF9494', 'total_counts-SF9494', 'n_cells_by_counts-SF9798', 'mean_counts-SF9798', 'pct_dropout_by_counts-SF9798', 'total_counts-SF9798', 'n_cells_by_counts-SF9962', 'mean_counts-SF9962', 'pct_dropout_by_counts-SF9962', 'total_counts-SF9962', 'highly_variable', 'highly_variable_rank', 'means', 'variances', 'variances_norm', 'highly_variable_nbatches'\n",
       "    uns: '_scvi_manager_uuid', '_scvi_uuid', 'hvg', 'leiden', 'neighbors'\n",
       "    obsm: 'X_scVI'\n",
       "    layers: 'counts'\n",
       "    obsp: 'connectivities', 'distances'"
      ]
     },
     "execution_count": 13,
     "metadata": {},
     "output_type": "execute_result"
    }
   ],
   "source": [
    "adata_singlet = adata[adata.obs['solo']=='singlet']\n",
    "adata_singlet"
   ]
  },
  {
   "cell_type": "code",
   "execution_count": null,
   "metadata": {},
   "outputs": [],
   "source": [
    "sc.tl.umap(adata_singlet,)\n",
    "sc.pl.umap(adata_singlet,color='leiden')"
   ]
  },
  {
   "cell_type": "code",
   "execution_count": 15,
   "metadata": {},
   "outputs": [
    {
     "name": "stderr",
     "output_type": "stream",
     "text": [
      "/home/jing/miniforge3/envs/cstar/lib/python3.12/site-packages/anndata/_core/anndata.py:1209: ImplicitModificationWarning: Trying to modify attribute `.obs` of view, initializing view as actual.\n",
      "  df[key] = c\n"
     ]
    },
    {
     "ename": "KeyError",
     "evalue": "\"Could not find 'umap' or 'X_umap' in .obsm\"",
     "output_type": "error",
     "traceback": [
      "\u001b[0;31m---------------------------------------------------------------------------\u001b[0m",
      "\u001b[0;31mKeyError\u001b[0m                                  Traceback (most recent call last)",
      "Cell \u001b[0;32mIn[15], line 1\u001b[0m\n\u001b[0;32m----> 1\u001b[0m sc\u001b[38;5;241m.\u001b[39mpl\u001b[38;5;241m.\u001b[39mumap(adata_singlet,color\u001b[38;5;241m=\u001b[39m\u001b[38;5;124m'\u001b[39m\u001b[38;5;124mleiden\u001b[39m\u001b[38;5;124m'\u001b[39m)\n",
      "File \u001b[0;32m~/miniforge3/envs/cstar/lib/python3.12/site-packages/scanpy/plotting/_tools/scatterplots.py:691\u001b[0m, in \u001b[0;36mumap\u001b[0;34m(adata, **kwargs)\u001b[0m\n\u001b[1;32m    632\u001b[0m \u001b[38;5;129m@_wraps_plot_scatter\u001b[39m\n\u001b[1;32m    633\u001b[0m \u001b[38;5;129m@_doc_params\u001b[39m(\n\u001b[1;32m    634\u001b[0m     adata_color_etc\u001b[38;5;241m=\u001b[39mdoc_adata_color_etc,\n\u001b[0;32m   (...)\u001b[0m\n\u001b[1;32m    638\u001b[0m )\n\u001b[1;32m    639\u001b[0m \u001b[38;5;28;01mdef\u001b[39;00m \u001b[38;5;21mumap\u001b[39m(adata: AnnData, \u001b[38;5;241m*\u001b[39m\u001b[38;5;241m*\u001b[39mkwargs) \u001b[38;5;241m-\u001b[39m\u001b[38;5;241m>\u001b[39m Figure \u001b[38;5;241m|\u001b[39m Axes \u001b[38;5;241m|\u001b[39m \u001b[38;5;28mlist\u001b[39m[Axes] \u001b[38;5;241m|\u001b[39m \u001b[38;5;28;01mNone\u001b[39;00m:\n\u001b[1;32m    640\u001b[0m \u001b[38;5;250m    \u001b[39m\u001b[38;5;124;03m\"\"\"\\\u001b[39;00m\n\u001b[1;32m    641\u001b[0m \u001b[38;5;124;03m    Scatter plot in UMAP basis.\u001b[39;00m\n\u001b[1;32m    642\u001b[0m \n\u001b[0;32m   (...)\u001b[0m\n\u001b[1;32m    689\u001b[0m \u001b[38;5;124;03m    tl.umap\u001b[39;00m\n\u001b[1;32m    690\u001b[0m \u001b[38;5;124;03m    \"\"\"\u001b[39;00m\n\u001b[0;32m--> 691\u001b[0m     \u001b[38;5;28;01mreturn\u001b[39;00m embedding(adata, \u001b[38;5;124m\"\u001b[39m\u001b[38;5;124mumap\u001b[39m\u001b[38;5;124m\"\u001b[39m, \u001b[38;5;241m*\u001b[39m\u001b[38;5;241m*\u001b[39mkwargs)\n",
      "File \u001b[0;32m~/miniforge3/envs/cstar/lib/python3.12/site-packages/scanpy/plotting/_tools/scatterplots.py:145\u001b[0m, in \u001b[0;36membedding\u001b[0;34m(adata, basis, color, mask_obs, gene_symbols, use_raw, sort_order, edges, edges_width, edges_color, neighbors_key, arrows, arrows_kwds, groups, components, dimensions, layer, projection, scale_factor, color_map, cmap, palette, na_color, na_in_legend, size, frameon, legend_fontsize, legend_fontweight, legend_loc, legend_fontoutline, colorbar_loc, vmax, vmin, vcenter, norm, add_outline, outline_width, outline_color, ncols, hspace, wspace, title, show, save, ax, return_fig, marker, **kwargs)\u001b[0m\n\u001b[1;32m    142\u001b[0m check_projection(projection)\n\u001b[1;32m    143\u001b[0m sanitize_anndata(adata)\n\u001b[0;32m--> 145\u001b[0m basis_values \u001b[38;5;241m=\u001b[39m _get_basis(adata, basis)\n\u001b[1;32m    146\u001b[0m dimensions \u001b[38;5;241m=\u001b[39m _components_to_dimensions(\n\u001b[1;32m    147\u001b[0m     components, dimensions, projection\u001b[38;5;241m=\u001b[39mprojection, total_dims\u001b[38;5;241m=\u001b[39mbasis_values\u001b[38;5;241m.\u001b[39mshape[\u001b[38;5;241m1\u001b[39m]\n\u001b[1;32m    148\u001b[0m )\n\u001b[1;32m    149\u001b[0m args_3d \u001b[38;5;241m=\u001b[39m \u001b[38;5;28mdict\u001b[39m(projection\u001b[38;5;241m=\u001b[39m\u001b[38;5;124m\"\u001b[39m\u001b[38;5;124m3d\u001b[39m\u001b[38;5;124m\"\u001b[39m) \u001b[38;5;28;01mif\u001b[39;00m projection \u001b[38;5;241m==\u001b[39m \u001b[38;5;124m\"\u001b[39m\u001b[38;5;124m3d\u001b[39m\u001b[38;5;124m\"\u001b[39m \u001b[38;5;28;01melse\u001b[39;00m {}\n",
      "File \u001b[0;32m~/miniforge3/envs/cstar/lib/python3.12/site-packages/scanpy/plotting/_tools/scatterplots.py:1174\u001b[0m, in \u001b[0;36m_get_basis\u001b[0;34m(adata, basis)\u001b[0m\n\u001b[1;32m   1172\u001b[0m     \u001b[38;5;28;01mreturn\u001b[39;00m adata\u001b[38;5;241m.\u001b[39mobsm[\u001b[38;5;124mf\u001b[39m\u001b[38;5;124m\"\u001b[39m\u001b[38;5;124mX_\u001b[39m\u001b[38;5;132;01m{\u001b[39;00mbasis\u001b[38;5;132;01m}\u001b[39;00m\u001b[38;5;124m\"\u001b[39m]\n\u001b[1;32m   1173\u001b[0m \u001b[38;5;28;01melse\u001b[39;00m:\n\u001b[0;32m-> 1174\u001b[0m     \u001b[38;5;28;01mraise\u001b[39;00m \u001b[38;5;167;01mKeyError\u001b[39;00m(\u001b[38;5;124mf\u001b[39m\u001b[38;5;124m\"\u001b[39m\u001b[38;5;124mCould not find \u001b[39m\u001b[38;5;124m'\u001b[39m\u001b[38;5;132;01m{\u001b[39;00mbasis\u001b[38;5;132;01m}\u001b[39;00m\u001b[38;5;124m'\u001b[39m\u001b[38;5;124m or \u001b[39m\u001b[38;5;124m'\u001b[39m\u001b[38;5;124mX_\u001b[39m\u001b[38;5;132;01m{\u001b[39;00mbasis\u001b[38;5;132;01m}\u001b[39;00m\u001b[38;5;124m'\u001b[39m\u001b[38;5;124m in .obsm\u001b[39m\u001b[38;5;124m\"\u001b[39m)\n",
      "\u001b[0;31mKeyError\u001b[0m: \"Could not find 'umap' or 'X_umap' in .obsm\""
     ]
    }
   ],
   "source": [
    "sc.pl.umap(adata_singlet,color='leiden')"
   ]
  }
 ],
 "metadata": {
  "kernelspec": {
   "display_name": "cstar",
   "language": "python",
   "name": "python3"
  },
  "language_info": {
   "codemirror_mode": {
    "name": "ipython",
    "version": 3
   },
   "file_extension": ".py",
   "mimetype": "text/x-python",
   "name": "python",
   "nbconvert_exporter": "python",
   "pygments_lexer": "ipython3",
   "version": "3.12.7"
  }
 },
 "nbformat": 4,
 "nbformat_minor": 2
}
