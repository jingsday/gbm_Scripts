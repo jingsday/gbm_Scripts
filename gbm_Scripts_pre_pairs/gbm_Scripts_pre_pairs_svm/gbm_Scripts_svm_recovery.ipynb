{
 "cells": [
  {
   "cell_type": "code",
   "execution_count": 22,
   "metadata": {},
   "outputs": [],
   "source": [
    "import anndata\n",
    "import pandas as pd\n",
    "import scanpy as sc\n",
    "import cstarpy\n",
    "import os\n",
    "import numpy as np\n",
    "from cstarpy.separation import CellStateTransition\n",
    "import seaborn as sns\n",
    "from scipy.io import mmread"
   ]
  },
  {
   "cell_type": "code",
   "execution_count": 5,
   "metadata": {},
   "outputs": [],
   "source": [
    "os.chdir('/home/jing/Phd_project/project_GBM/gbm_OUTPUT_sctransform/')"
   ]
  },
  {
   "cell_type": "code",
   "execution_count": 8,
   "metadata": {},
   "outputs": [],
   "source": [
    "def load_mtx_as_dataframe(data):\n",
    "    # Read sparse matrix\n",
    "    mtx = mmread(f\"gbm_OUTPUT_sct_tumor_{data}_corrected_UMI.mtx\").toarray()  # Convert to dense array\n",
    "    \n",
    "    # Read cell and gene names\n",
    "    cells = pd.read_csv(f\"gbm_OUTPUT_sct_tumor_{data}_corrected_UMI_cells.txt\", header=None)[0].tolist()\n",
    "    genes = pd.read_csv(f'gbm_OUTPUT_sct_tumor_{data}_corrected_UMI_genes.txt', header=None)[0].tolist()\n",
    "    \n",
    "    # Convert to DataFrame\n",
    "    df = pd.DataFrame(mtx, index=cells, columns=genes)\n",
    "    \n",
    "    return df\n"
   ]
  },
  {
   "cell_type": "code",
   "execution_count": 11,
   "metadata": {},
   "outputs": [
    {
     "name": "stdout",
     "output_type": "stream",
     "text": [
      "(19588, 26221)\n",
      "                            RP11-34P13.7  FO538757.2  AP006222.2  \\\n",
      "SF11082_AAACCCAAGCATCAAA-1           0.0         0.0         0.0   \n",
      "SF11082_AAACCCAAGGCACGAT-1           0.0         0.0         0.0   \n",
      "SF11082_AAACCCAGTAAGCGGT-1           0.0         0.0         0.0   \n",
      "SF11082_AAACCCAGTTGTGTAC-1           0.0         0.0         0.0   \n",
      "SF11082_AAACCCATCTGGAGAG-1           0.0         0.0         0.0   \n",
      "\n",
      "                            RP4-669L17.10  RP5-857K21.4  RP11-206L10.9  \\\n",
      "SF11082_AAACCCAAGCATCAAA-1            0.0      0.693147       0.000000   \n",
      "SF11082_AAACCCAAGGCACGAT-1            0.0      0.000000       0.693147   \n",
      "SF11082_AAACCCAGTAAGCGGT-1            0.0      0.000000       0.000000   \n",
      "SF11082_AAACCCAGTTGTGTAC-1            0.0      0.000000       0.000000   \n",
      "SF11082_AAACCCATCTGGAGAG-1            0.0      0.000000       0.000000   \n",
      "\n",
      "                            RP11-54O7.16  RP11-54O7.3  SAMD11     NOC2L  ...  \\\n",
      "SF11082_AAACCCAAGCATCAAA-1           0.0          0.0     0.0  0.693147  ...   \n",
      "SF11082_AAACCCAAGGCACGAT-1           0.0          0.0     0.0  0.000000  ...   \n",
      "SF11082_AAACCCAGTAAGCGGT-1           0.0          0.0     0.0  0.000000  ...   \n",
      "SF11082_AAACCCAGTTGTGTAC-1           0.0          0.0     0.0  0.000000  ...   \n",
      "SF11082_AAACCCATCTGGAGAG-1           0.0          0.0     0.0  0.000000  ...   \n",
      "\n",
      "                            CTB-60E11.9  SRY  AP000345.2  AF240627.2  \\\n",
      "SF11082_AAACCCAAGCATCAAA-1          0.0  0.0         0.0         0.0   \n",
      "SF11082_AAACCCAAGGCACGAT-1          0.0  0.0         0.0         0.0   \n",
      "SF11082_AAACCCAGTAAGCGGT-1          0.0  0.0         0.0         0.0   \n",
      "SF11082_AAACCCAGTTGTGTAC-1          0.0  0.0         0.0         0.0   \n",
      "SF11082_AAACCCATCTGGAGAG-1          0.0  0.0         0.0         0.0   \n",
      "\n",
      "                            RP11-392O17.1  ITIH3  RP11-532E4.2  CD79B  \\\n",
      "SF11082_AAACCCAAGCATCAAA-1            0.0    0.0           0.0    0.0   \n",
      "SF11082_AAACCCAAGGCACGAT-1            0.0    0.0           0.0    0.0   \n",
      "SF11082_AAACCCAGTAAGCGGT-1            0.0    0.0           0.0    0.0   \n",
      "SF11082_AAACCCAGTTGTGTAC-1            0.0    0.0           0.0    0.0   \n",
      "SF11082_AAACCCATCTGGAGAG-1            0.0    0.0           0.0    0.0   \n",
      "\n",
      "                            CH507-513H4.4  CH507-513H4.3  \n",
      "SF11082_AAACCCAAGCATCAAA-1            0.0            0.0  \n",
      "SF11082_AAACCCAAGGCACGAT-1            0.0            0.0  \n",
      "SF11082_AAACCCAGTAAGCGGT-1            0.0            0.0  \n",
      "SF11082_AAACCCAGTTGTGTAC-1            0.0            0.0  \n",
      "SF11082_AAACCCATCTGGAGAG-1            0.0            0.0  \n",
      "\n",
      "[5 rows x 26221 columns]\n"
     ]
    }
   ],
   "source": [
    "pmr_tumor_df = load_mtx_as_dataframe(\"prm\")\n",
    "print(pmr_tumor_df.shape)\n",
    "print(pmr_tumor_df.head())"
   ]
  },
  {
   "cell_type": "code",
   "execution_count": 12,
   "metadata": {},
   "outputs": [
    {
     "name": "stdout",
     "output_type": "stream",
     "text": [
      "(19435, 26221)\n",
      "                            RP11-34P13.7  FO538757.2  AP006222.2  \\\n",
      "SF11488_AAACCCAAGCGTGAGT-1           0.0    0.693147    0.000000   \n",
      "SF11488_AAACCCAAGGTCACTT-1           0.0    0.000000    0.000000   \n",
      "SF11488_AAACCCAAGTCATACC-1           0.0    0.000000    0.000000   \n",
      "SF11488_AAACCCAGTGCCGGTT-1           0.0    0.000000    0.693147   \n",
      "SF11488_AAACCCAGTTAACCTG-1           0.0    0.000000    0.000000   \n",
      "\n",
      "                            RP4-669L17.10  RP5-857K21.4  RP11-206L10.9  \\\n",
      "SF11488_AAACCCAAGCGTGAGT-1            0.0      0.000000       0.000000   \n",
      "SF11488_AAACCCAAGGTCACTT-1            0.0      0.000000       0.000000   \n",
      "SF11488_AAACCCAAGTCATACC-1            0.0      1.098612       0.000000   \n",
      "SF11488_AAACCCAGTGCCGGTT-1            0.0      0.000000       0.000000   \n",
      "SF11488_AAACCCAGTTAACCTG-1            0.0      0.000000       0.693147   \n",
      "\n",
      "                            RP11-54O7.16  RP11-54O7.3    SAMD11  NOC2L  ...  \\\n",
      "SF11488_AAACCCAAGCGTGAGT-1      0.000000     0.000000  0.000000    0.0  ...   \n",
      "SF11488_AAACCCAAGGTCACTT-1      0.000000     0.000000  0.000000    0.0  ...   \n",
      "SF11488_AAACCCAAGTCATACC-1      0.000000     0.000000  0.000000    0.0  ...   \n",
      "SF11488_AAACCCAGTGCCGGTT-1      0.693147     0.693147  1.386294    0.0  ...   \n",
      "SF11488_AAACCCAGTTAACCTG-1      0.000000     0.000000  0.693147    0.0  ...   \n",
      "\n",
      "                            CTB-60E11.9  SRY  AP000345.2  AF240627.2  \\\n",
      "SF11488_AAACCCAAGCGTGAGT-1          0.0  0.0         0.0         0.0   \n",
      "SF11488_AAACCCAAGGTCACTT-1          0.0  0.0         0.0         0.0   \n",
      "SF11488_AAACCCAAGTCATACC-1          0.0  0.0         0.0         0.0   \n",
      "SF11488_AAACCCAGTGCCGGTT-1          0.0  0.0         0.0         0.0   \n",
      "SF11488_AAACCCAGTTAACCTG-1          0.0  0.0         0.0         0.0   \n",
      "\n",
      "                            RP11-392O17.1  ITIH3  RP11-532E4.2  CD79B  \\\n",
      "SF11488_AAACCCAAGCGTGAGT-1            0.0    0.0           0.0    0.0   \n",
      "SF11488_AAACCCAAGGTCACTT-1            0.0    0.0           0.0    0.0   \n",
      "SF11488_AAACCCAAGTCATACC-1            0.0    0.0           0.0    0.0   \n",
      "SF11488_AAACCCAGTGCCGGTT-1            0.0    0.0           0.0    0.0   \n",
      "SF11488_AAACCCAGTTAACCTG-1            0.0    0.0           0.0    0.0   \n",
      "\n",
      "                            CH507-513H4.4  CH507-513H4.3  \n",
      "SF11488_AAACCCAAGCGTGAGT-1            0.0            0.0  \n",
      "SF11488_AAACCCAAGGTCACTT-1            0.0            0.0  \n",
      "SF11488_AAACCCAAGTCATACC-1            0.0            0.0  \n",
      "SF11488_AAACCCAGTGCCGGTT-1            0.0            0.0  \n",
      "SF11488_AAACCCAGTTAACCTG-1            0.0            0.0  \n",
      "\n",
      "[5 rows x 26221 columns]\n"
     ]
    }
   ],
   "source": [
    "rct_tumor_df = load_mtx_as_dataframe(\"rct\")\n",
    "print(rct_tumor_df.shape)\n",
    "print(rct_tumor_df.head())"
   ]
  },
  {
   "cell_type": "code",
   "execution_count": 81,
   "metadata": {},
   "outputs": [],
   "source": [
    "cst_full = CellStateTransition('p_r_tumor_full', rct_tumor_df, pmr_tumor_df)"
   ]
  },
  {
   "cell_type": "code",
   "execution_count": 84,
   "metadata": {},
   "outputs": [
    {
     "name": "stdout",
     "output_type": "stream",
     "text": [
      "0.09386663650536159\n"
     ]
    }
   ],
   "source": [
    "dpd_scores = cst_full.get_dpd()\n",
    "\n",
    "norm_s = pd.DataFrame(np.stack([cst_full.n, cst_full.s], axis=1), index=cst_full.svm_input.data.columns, columns=[\"n\", \"s\"])\n",
    "\n",
    "print(cst_full.h)"
   ]
  },
  {
   "cell_type": "code",
   "execution_count": 85,
   "metadata": {},
   "outputs": [],
   "source": [
    "dpd_scores['Sample'] = dpd_scores.index.str.split('_').str[0]"
   ]
  },
  {
   "cell_type": "code",
   "execution_count": 88,
   "metadata": {},
   "outputs": [],
   "source": [
    "dpd_scores['Stage'] ='Recurrent'\n",
    "for i in ['SF2770', 'SF2990', 'SF3076', 'SF3391', 'SF11916', 'SF11082', 'SF9358', 'SF9798']:\n",
    "    dpd_scores.loc[dpd_scores['Sample'].str.contains(i, na=False), 'Stage'] = 'Primary'"
   ]
  },
  {
   "cell_type": "code",
   "execution_count": 89,
   "metadata": {},
   "outputs": [
    {
     "data": {
      "text/html": [
       "<div>\n",
       "<style scoped>\n",
       "    .dataframe tbody tr th:only-of-type {\n",
       "        vertical-align: middle;\n",
       "    }\n",
       "\n",
       "    .dataframe tbody tr th {\n",
       "        vertical-align: top;\n",
       "    }\n",
       "\n",
       "    .dataframe thead th {\n",
       "        text-align: right;\n",
       "    }\n",
       "</style>\n",
       "<table border=\"1\" class=\"dataframe\">\n",
       "  <thead>\n",
       "    <tr style=\"text-align: right;\">\n",
       "      <th></th>\n",
       "      <th>DPD_p_r_tumor_full</th>\n",
       "      <th>Sample</th>\n",
       "      <th>Stage</th>\n",
       "    </tr>\n",
       "  </thead>\n",
       "  <tbody>\n",
       "    <tr>\n",
       "      <th>SF11488_AAACCCAAGCGTGAGT-1</th>\n",
       "      <td>-0.557442</td>\n",
       "      <td>SF11488</td>\n",
       "      <td>Recurrent</td>\n",
       "    </tr>\n",
       "    <tr>\n",
       "      <th>SF11488_AAACCCAAGGTCACTT-1</th>\n",
       "      <td>-1.314969</td>\n",
       "      <td>SF11488</td>\n",
       "      <td>Recurrent</td>\n",
       "    </tr>\n",
       "    <tr>\n",
       "      <th>SF11488_AAACCCAAGTCATACC-1</th>\n",
       "      <td>-1.555289</td>\n",
       "      <td>SF11488</td>\n",
       "      <td>Recurrent</td>\n",
       "    </tr>\n",
       "    <tr>\n",
       "      <th>SF11488_AAACCCAGTGCCGGTT-1</th>\n",
       "      <td>-0.931028</td>\n",
       "      <td>SF11488</td>\n",
       "      <td>Recurrent</td>\n",
       "    </tr>\n",
       "    <tr>\n",
       "      <th>SF11488_AAACCCAGTTAACCTG-1</th>\n",
       "      <td>-0.979602</td>\n",
       "      <td>SF11488</td>\n",
       "      <td>Recurrent</td>\n",
       "    </tr>\n",
       "    <tr>\n",
       "      <th>...</th>\n",
       "      <td>...</td>\n",
       "      <td>...</td>\n",
       "      <td>...</td>\n",
       "    </tr>\n",
       "    <tr>\n",
       "      <th>SF9798_TTTGGTTGTTGCCGAC-1</th>\n",
       "      <td>0.314387</td>\n",
       "      <td>SF9798</td>\n",
       "      <td>Primary</td>\n",
       "    </tr>\n",
       "    <tr>\n",
       "      <th>SF9798_TTTGGTTTCTGCATGA-1</th>\n",
       "      <td>0.572064</td>\n",
       "      <td>SF9798</td>\n",
       "      <td>Primary</td>\n",
       "    </tr>\n",
       "    <tr>\n",
       "      <th>SF9798_TTTGGTTTCTGTCCGT-1</th>\n",
       "      <td>1.446963</td>\n",
       "      <td>SF9798</td>\n",
       "      <td>Primary</td>\n",
       "    </tr>\n",
       "    <tr>\n",
       "      <th>SF9798_TTTGTTGAGATGACAT-1</th>\n",
       "      <td>0.316784</td>\n",
       "      <td>SF9798</td>\n",
       "      <td>Primary</td>\n",
       "    </tr>\n",
       "    <tr>\n",
       "      <th>SF9798_TTTGTTGTCCTACACC-1</th>\n",
       "      <td>0.785249</td>\n",
       "      <td>SF9798</td>\n",
       "      <td>Primary</td>\n",
       "    </tr>\n",
       "  </tbody>\n",
       "</table>\n",
       "<p>39023 rows × 3 columns</p>\n",
       "</div>"
      ],
      "text/plain": [
       "                            DPD_p_r_tumor_full   Sample      Stage\n",
       "SF11488_AAACCCAAGCGTGAGT-1           -0.557442  SF11488  Recurrent\n",
       "SF11488_AAACCCAAGGTCACTT-1           -1.314969  SF11488  Recurrent\n",
       "SF11488_AAACCCAAGTCATACC-1           -1.555289  SF11488  Recurrent\n",
       "SF11488_AAACCCAGTGCCGGTT-1           -0.931028  SF11488  Recurrent\n",
       "SF11488_AAACCCAGTTAACCTG-1           -0.979602  SF11488  Recurrent\n",
       "...                                        ...      ...        ...\n",
       "SF9798_TTTGGTTGTTGCCGAC-1             0.314387   SF9798    Primary\n",
       "SF9798_TTTGGTTTCTGCATGA-1             0.572064   SF9798    Primary\n",
       "SF9798_TTTGGTTTCTGTCCGT-1             1.446963   SF9798    Primary\n",
       "SF9798_TTTGTTGAGATGACAT-1             0.316784   SF9798    Primary\n",
       "SF9798_TTTGTTGTCCTACACC-1             0.785249   SF9798    Primary\n",
       "\n",
       "[39023 rows x 3 columns]"
      ]
     },
     "execution_count": 89,
     "metadata": {},
     "output_type": "execute_result"
    }
   ],
   "source": [
    "dpd_scores\n"
   ]
  },
  {
   "cell_type": "code",
   "execution_count": 90,
   "metadata": {},
   "outputs": [],
   "source": [
    "dpd_scores['zeros'] =0 "
   ]
  },
  {
   "cell_type": "code",
   "execution_count": 95,
   "metadata": {},
   "outputs": [
    {
     "data": {
      "text/plain": [
       "<Axes: xlabel='DPD_p_r_tumor_full', ylabel='zeros'>"
      ]
     },
     "execution_count": 95,
     "metadata": {},
     "output_type": "execute_result"
    },
    {
     "data": {
      "image/png": "[encoded data removed]",
      "text/plain": [
       "<Figure size 640x480 with 1 Axes>"
      ]
     },
     "metadata": {},
     "output_type": "display_data"
    }
   ],
   "source": [
    "sns.scatterplot(x='DPD_p_r_tumor_full',y='zeros',hue='Stage',data=dpd_scores)"
   ]
  },
  {
   "cell_type": "markdown",
   "metadata": {},
   "source": [
    "### full dim"
   ]
  },
  {
   "cell_type": "code",
   "execution_count": 47,
   "metadata": {},
   "outputs": [],
   "source": [
    "gbm_stv = pd.read_excel('/home/jing/Phd_project/project_GBM/gbm_OUTPUT/gbm_OUTPUT_LINCS/gbm_STVs.xlsx',\n",
    "                        sheet_name='STVs',index_col=0)"
   ]
  },
  {
   "cell_type": "code",
   "execution_count": 68,
   "metadata": {},
   "outputs": [
    {
     "data": {
      "text/plain": [
       "DFFB      0.019947\n",
       "ICMT     -0.080201\n",
       "KLHL21   -0.012436\n",
       "CLSTN1    0.010032\n",
       "DFFA      0.013415\n",
       "            ...   \n",
       "SHB       0.000000\n",
       "CCNA1     0.000000\n",
       "GRB7      0.000000\n",
       "PRR15L    0.000000\n",
       "MMP1      0.000000\n",
       "Name: GBM_onc, Length: 943, dtype: float64"
      ]
     },
     "execution_count": 68,
     "metadata": {},
     "output_type": "execute_result"
    }
   ],
   "source": [
    "gbm_stv.loc[common_genes,'GBM_onc']"
   ]
  },
  {
   "cell_type": "code",
   "execution_count": 69,
   "metadata": {},
   "outputs": [],
   "source": [
    "dot_product = np.dot(rct_tumor_df[common_genes], gbm_stv.loc[common_genes, 'GBM_onc'])"
   ]
  },
  {
   "cell_type": "code",
   "execution_count": 78,
   "metadata": {},
   "outputs": [
    {
     "name": "stdout",
     "output_type": "stream",
     "text": [
      "0.64292669742695 -2.3517412583052164\n"
     ]
    }
   ],
   "source": [
    "print(dot_product.max(),dot_product.min())"
   ]
  },
  {
   "cell_type": "code",
   "execution_count": 76,
   "metadata": {},
   "outputs": [],
   "source": [
    "p_dot_product = np.dot(pmr_tumor_df[common_genes], gbm_stv.loc[common_genes, 'GBM_onc'])"
   ]
  },
  {
   "cell_type": "code",
   "execution_count": 79,
   "metadata": {},
   "outputs": [
    {
     "name": "stdout",
     "output_type": "stream",
     "text": [
      "0.5151309793764076 -1.6806435894585885\n"
     ]
    }
   ],
   "source": [
    "print(p_dot_product.max(),p_dot_product.min())"
   ]
  },
  {
   "cell_type": "code",
   "execution_count": 51,
   "metadata": {},
   "outputs": [
    {
     "ename": "KeyError",
     "evalue": "\"None of [Index([('AARS', 'ABCF1', 'ABL1', 'ACAA1', 'ACAT2', 'ACLY', 'ADAM10', 'ADH5', 'PARP1', 'ADRB2', 'AGL', 'AKT1', 'ALAS1', 'ALDOA', 'ALDOC', 'SLC25A4', 'ANXA7', 'APBB2', 'BIRC2', 'BIRC5', 'APOE', 'APP', 'FAS', 'RHOA', 'ARHGAP1', 'ASAH1', 'ATF1', 'ATP1B1', 'ALDH7A1', 'ATP6V0B', 'BAD', 'BAX', 'CCND1', 'BCL2', 'BDH1', 'BID', 'BLMH', 'BLVRA', 'BMP4', 'BNIP3', 'BNIP3L', 'BPHL', 'BRCA1', 'BTK', 'BUB1B', 'C5', 'DDR1', 'CALM3', 'CALU', 'CAPN1', 'CAST', 'CASP2', 'CASP3', 'CASP7', 'CASP10', 'CAT', 'CBLB', 'CBR1', 'CBR3', 'CCNA2', 'CCNB1', 'CCND3', 'CCNF', 'CCNH', 'SCARB1', 'CD40', 'CD44', 'CD58', 'ADGRE5', 'CDK1', 'CDC20', 'CDC25A', 'CDC25B', 'CDC42', 'CDH3', 'CDK2', 'CDK4', 'CDK6', 'CDK7', 'CDKN1A', 'CDKN1B', 'CDKN2A', 'CEBPA', 'CEBPD', 'CENPE', 'CETN3', 'CHEK1', 'CHN1', 'CIRBP', 'CLTB', 'CLTC', 'COL1A1', 'COL4A1', 'CREB1', 'CRK', 'CRKL', 'CRYZ', 'CSK', 'CSNK1A1', 'CSNK1E', ...)], dtype='object')] are in the [columns]\"",
     "output_type": "error",
     "traceback": [
      "\u001b[0;31m---------------------------------------------------------------------------\u001b[0m",
      "\u001b[0;31mKeyError\u001b[0m                                  Traceback (most recent call last)",
      "Cell \u001b[0;32mIn[51], line 1\u001b[0m\n\u001b[0;32m----> 1\u001b[0m rct_tumor_df[[gbm_stv\u001b[38;5;241m.\u001b[39mindex]]\n",
      "File \u001b[0;32m~/miniforge3/envs/cstar/lib/python3.12/site-packages/pandas/core/frame.py:4108\u001b[0m, in \u001b[0;36mDataFrame.__getitem__\u001b[0;34m(self, key)\u001b[0m\n\u001b[1;32m   4106\u001b[0m     \u001b[38;5;28;01mif\u001b[39;00m is_iterator(key):\n\u001b[1;32m   4107\u001b[0m         key \u001b[38;5;241m=\u001b[39m \u001b[38;5;28mlist\u001b[39m(key)\n\u001b[0;32m-> 4108\u001b[0m     indexer \u001b[38;5;241m=\u001b[39m \u001b[38;5;28mself\u001b[39m\u001b[38;5;241m.\u001b[39mcolumns\u001b[38;5;241m.\u001b[39m_get_indexer_strict(key, \u001b[38;5;124m\"\u001b[39m\u001b[38;5;124mcolumns\u001b[39m\u001b[38;5;124m\"\u001b[39m)[\u001b[38;5;241m1\u001b[39m]\n\u001b[1;32m   4110\u001b[0m \u001b[38;5;66;03m# take() does not accept boolean indexers\u001b[39;00m\n\u001b[1;32m   4111\u001b[0m \u001b[38;5;28;01mif\u001b[39;00m \u001b[38;5;28mgetattr\u001b[39m(indexer, \u001b[38;5;124m\"\u001b[39m\u001b[38;5;124mdtype\u001b[39m\u001b[38;5;124m\"\u001b[39m, \u001b[38;5;28;01mNone\u001b[39;00m) \u001b[38;5;241m==\u001b[39m \u001b[38;5;28mbool\u001b[39m:\n",
      "File \u001b[0;32m~/miniforge3/envs/cstar/lib/python3.12/site-packages/pandas/core/indexes/base.py:6200\u001b[0m, in \u001b[0;36mIndex._get_indexer_strict\u001b[0;34m(self, key, axis_name)\u001b[0m\n\u001b[1;32m   6197\u001b[0m \u001b[38;5;28;01melse\u001b[39;00m:\n\u001b[1;32m   6198\u001b[0m     keyarr, indexer, new_indexer \u001b[38;5;241m=\u001b[39m \u001b[38;5;28mself\u001b[39m\u001b[38;5;241m.\u001b[39m_reindex_non_unique(keyarr)\n\u001b[0;32m-> 6200\u001b[0m \u001b[38;5;28mself\u001b[39m\u001b[38;5;241m.\u001b[39m_raise_if_missing(keyarr, indexer, axis_name)\n\u001b[1;32m   6202\u001b[0m keyarr \u001b[38;5;241m=\u001b[39m \u001b[38;5;28mself\u001b[39m\u001b[38;5;241m.\u001b[39mtake(indexer)\n\u001b[1;32m   6203\u001b[0m \u001b[38;5;28;01mif\u001b[39;00m \u001b[38;5;28misinstance\u001b[39m(key, Index):\n\u001b[1;32m   6204\u001b[0m     \u001b[38;5;66;03m# GH 42790 - Preserve name from an Index\u001b[39;00m\n",
      "File \u001b[0;32m~/miniforge3/envs/cstar/lib/python3.12/site-packages/pandas/core/indexes/base.py:6249\u001b[0m, in \u001b[0;36mIndex._raise_if_missing\u001b[0;34m(self, key, indexer, axis_name)\u001b[0m\n\u001b[1;32m   6247\u001b[0m \u001b[38;5;28;01mif\u001b[39;00m nmissing:\n\u001b[1;32m   6248\u001b[0m     \u001b[38;5;28;01mif\u001b[39;00m nmissing \u001b[38;5;241m==\u001b[39m \u001b[38;5;28mlen\u001b[39m(indexer):\n\u001b[0;32m-> 6249\u001b[0m         \u001b[38;5;28;01mraise\u001b[39;00m \u001b[38;5;167;01mKeyError\u001b[39;00m(\u001b[38;5;124mf\u001b[39m\u001b[38;5;124m\"\u001b[39m\u001b[38;5;124mNone of [\u001b[39m\u001b[38;5;132;01m{\u001b[39;00mkey\u001b[38;5;132;01m}\u001b[39;00m\u001b[38;5;124m] are in the [\u001b[39m\u001b[38;5;132;01m{\u001b[39;00maxis_name\u001b[38;5;132;01m}\u001b[39;00m\u001b[38;5;124m]\u001b[39m\u001b[38;5;124m\"\u001b[39m)\n\u001b[1;32m   6251\u001b[0m     not_found \u001b[38;5;241m=\u001b[39m \u001b[38;5;28mlist\u001b[39m(ensure_index(key)[missing_mask\u001b[38;5;241m.\u001b[39mnonzero()[\u001b[38;5;241m0\u001b[39m]]\u001b[38;5;241m.\u001b[39munique())\n\u001b[1;32m   6252\u001b[0m     \u001b[38;5;28;01mraise\u001b[39;00m \u001b[38;5;167;01mKeyError\u001b[39;00m(\u001b[38;5;124mf\u001b[39m\u001b[38;5;124m\"\u001b[39m\u001b[38;5;132;01m{\u001b[39;00mnot_found\u001b[38;5;132;01m}\u001b[39;00m\u001b[38;5;124m not in index\u001b[39m\u001b[38;5;124m\"\u001b[39m)\n",
      "\u001b[0;31mKeyError\u001b[0m: \"None of [Index([('AARS', 'ABCF1', 'ABL1', 'ACAA1', 'ACAT2', 'ACLY', 'ADAM10', 'ADH5', 'PARP1', 'ADRB2', 'AGL', 'AKT1', 'ALAS1', 'ALDOA', 'ALDOC', 'SLC25A4', 'ANXA7', 'APBB2', 'BIRC2', 'BIRC5', 'APOE', 'APP', 'FAS', 'RHOA', 'ARHGAP1', 'ASAH1', 'ATF1', 'ATP1B1', 'ALDH7A1', 'ATP6V0B', 'BAD', 'BAX', 'CCND1', 'BCL2', 'BDH1', 'BID', 'BLMH', 'BLVRA', 'BMP4', 'BNIP3', 'BNIP3L', 'BPHL', 'BRCA1', 'BTK', 'BUB1B', 'C5', 'DDR1', 'CALM3', 'CALU', 'CAPN1', 'CAST', 'CASP2', 'CASP3', 'CASP7', 'CASP10', 'CAT', 'CBLB', 'CBR1', 'CBR3', 'CCNA2', 'CCNB1', 'CCND3', 'CCNF', 'CCNH', 'SCARB1', 'CD40', 'CD44', 'CD58', 'ADGRE5', 'CDK1', 'CDC20', 'CDC25A', 'CDC25B', 'CDC42', 'CDH3', 'CDK2', 'CDK4', 'CDK6', 'CDK7', 'CDKN1A', 'CDKN1B', 'CDKN2A', 'CEBPA', 'CEBPD', 'CENPE', 'CETN3', 'CHEK1', 'CHN1', 'CIRBP', 'CLTB', 'CLTC', 'COL1A1', 'COL4A1', 'CREB1', 'CRK', 'CRKL', 'CRYZ', 'CSK', 'CSNK1A1', 'CSNK1E', ...)], dtype='object')] are in the [columns]\""
     ]
    }
   ],
   "source": [
    "rct_tumor_df[[gbm_stv.index]]"
   ]
  },
  {
   "cell_type": "code",
   "execution_count": 13,
   "metadata": {},
   "outputs": [
    {
     "data": {
      "text/html": [
       "<div>\n",
       "<style scoped>\n",
       "    .dataframe tbody tr th:only-of-type {\n",
       "        vertical-align: middle;\n",
       "    }\n",
       "\n",
       "    .dataframe tbody tr th {\n",
       "        vertical-align: top;\n",
       "    }\n",
       "\n",
       "    .dataframe thead th {\n",
       "        text-align: right;\n",
       "    }\n",
       "</style>\n",
       "<table border=\"1\" class=\"dataframe\">\n",
       "  <thead>\n",
       "    <tr style=\"text-align: right;\">\n",
       "      <th></th>\n",
       "      <th>ASG002_BC3C_24H:A10</th>\n",
       "      <th>ASG002_BC3C_24H:A11</th>\n",
       "      <th>ASG002_BC3C_24H:A19</th>\n",
       "      <th>ASG002_BC3C_24H:A20</th>\n",
       "      <th>ASG002_BC3C_24H:A21</th>\n",
       "      <th>ASG002_BC3C_24H:B10</th>\n",
       "      <th>ASG002_BC3C_24H:B11</th>\n",
       "      <th>ASG002_BC3C_24H:B12</th>\n",
       "      <th>ASG002_BC3C_24H:B14</th>\n",
       "      <th>ASG002_BC3C_24H:B15</th>\n",
       "      <th>...</th>\n",
       "      <th>MOAR010_BC3C_24H:K09</th>\n",
       "      <th>MOAR010_BC3C_24H:L19</th>\n",
       "      <th>MOAR010_BC3C_24H:L20</th>\n",
       "      <th>MOAR010_BC3C_24H:L21</th>\n",
       "      <th>MOAR011_BC3C_24H:C01</th>\n",
       "      <th>MOAR011_BC3C_24H:C02</th>\n",
       "      <th>MOAR011_BC3C_24H:C03</th>\n",
       "      <th>MOAR011_BC3C_24H:C10</th>\n",
       "      <th>MOAR011_BC3C_24H:C11</th>\n",
       "      <th>MOAR011_BC3C_24H:J10</th>\n",
       "    </tr>\n",
       "  </thead>\n",
       "  <tbody>\n",
       "    <tr>\n",
       "      <th>AARS</th>\n",
       "      <td>-0.496854</td>\n",
       "      <td>0.288446</td>\n",
       "      <td>0.189747</td>\n",
       "      <td>-0.016454</td>\n",
       "      <td>0.080746</td>\n",
       "      <td>0.282346</td>\n",
       "      <td>0.326246</td>\n",
       "      <td>0.244946</td>\n",
       "      <td>0.303046</td>\n",
       "      <td>0.387546</td>\n",
       "      <td>...</td>\n",
       "      <td>-0.217618</td>\n",
       "      <td>-0.074268</td>\n",
       "      <td>-0.012317</td>\n",
       "      <td>-0.004018</td>\n",
       "      <td>0.215100</td>\n",
       "      <td>-0.178100</td>\n",
       "      <td>-0.007000</td>\n",
       "      <td>0.024000</td>\n",
       "      <td>0.007400</td>\n",
       "      <td>0.031399</td>\n",
       "    </tr>\n",
       "    <tr>\n",
       "      <th>ABCB6</th>\n",
       "      <td>-0.658596</td>\n",
       "      <td>-0.142196</td>\n",
       "      <td>-0.075397</td>\n",
       "      <td>-0.383796</td>\n",
       "      <td>-0.199996</td>\n",
       "      <td>-0.074197</td>\n",
       "      <td>0.108804</td>\n",
       "      <td>0.055204</td>\n",
       "      <td>-0.399196</td>\n",
       "      <td>-0.227496</td>\n",
       "      <td>...</td>\n",
       "      <td>0.202852</td>\n",
       "      <td>-0.003798</td>\n",
       "      <td>-0.661323</td>\n",
       "      <td>0.326502</td>\n",
       "      <td>0.127850</td>\n",
       "      <td>0.081150</td>\n",
       "      <td>-0.026850</td>\n",
       "      <td>-0.152851</td>\n",
       "      <td>0.122550</td>\n",
       "      <td>-0.029350</td>\n",
       "    </tr>\n",
       "    <tr>\n",
       "      <th>ABCC5</th>\n",
       "      <td>-0.080204</td>\n",
       "      <td>0.231996</td>\n",
       "      <td>-0.329354</td>\n",
       "      <td>-0.225204</td>\n",
       "      <td>0.278446</td>\n",
       "      <td>0.034696</td>\n",
       "      <td>0.396596</td>\n",
       "      <td>0.288746</td>\n",
       "      <td>-0.255704</td>\n",
       "      <td>-0.254154</td>\n",
       "      <td>...</td>\n",
       "      <td>0.011493</td>\n",
       "      <td>0.187043</td>\n",
       "      <td>-0.051357</td>\n",
       "      <td>0.358943</td>\n",
       "      <td>0.197500</td>\n",
       "      <td>0.119350</td>\n",
       "      <td>0.212450</td>\n",
       "      <td>-0.177250</td>\n",
       "      <td>0.138650</td>\n",
       "      <td>0.568950</td>\n",
       "    </tr>\n",
       "    <tr>\n",
       "      <th>ABCF1</th>\n",
       "      <td>0.202535</td>\n",
       "      <td>0.602335</td>\n",
       "      <td>0.403335</td>\n",
       "      <td>0.313134</td>\n",
       "      <td>-0.083265</td>\n",
       "      <td>-0.056365</td>\n",
       "      <td>-0.387216</td>\n",
       "      <td>0.104534</td>\n",
       "      <td>0.097235</td>\n",
       "      <td>0.540634</td>\n",
       "      <td>...</td>\n",
       "      <td>-0.458439</td>\n",
       "      <td>1.132361</td>\n",
       "      <td>-0.555990</td>\n",
       "      <td>-0.556689</td>\n",
       "      <td>-0.036825</td>\n",
       "      <td>-0.080325</td>\n",
       "      <td>0.059175</td>\n",
       "      <td>0.307175</td>\n",
       "      <td>0.580075</td>\n",
       "      <td>0.322875</td>\n",
       "    </tr>\n",
       "    <tr>\n",
       "      <th>ABCF3</th>\n",
       "      <td>-0.520919</td>\n",
       "      <td>-0.192819</td>\n",
       "      <td>0.001032</td>\n",
       "      <td>-0.096419</td>\n",
       "      <td>0.210881</td>\n",
       "      <td>-0.731118</td>\n",
       "      <td>0.095381</td>\n",
       "      <td>0.049931</td>\n",
       "      <td>0.313481</td>\n",
       "      <td>-0.078018</td>\n",
       "      <td>...</td>\n",
       "      <td>0.201432</td>\n",
       "      <td>-0.028568</td>\n",
       "      <td>0.447982</td>\n",
       "      <td>0.610582</td>\n",
       "      <td>-0.378251</td>\n",
       "      <td>0.003950</td>\n",
       "      <td>0.127300</td>\n",
       "      <td>-0.197401</td>\n",
       "      <td>-0.128351</td>\n",
       "      <td>-0.012850</td>\n",
       "    </tr>\n",
       "    <tr>\n",
       "      <th>...</th>\n",
       "      <td>...</td>\n",
       "      <td>...</td>\n",
       "      <td>...</td>\n",
       "      <td>...</td>\n",
       "      <td>...</td>\n",
       "      <td>...</td>\n",
       "      <td>...</td>\n",
       "      <td>...</td>\n",
       "      <td>...</td>\n",
       "      <td>...</td>\n",
       "      <td>...</td>\n",
       "      <td>...</td>\n",
       "      <td>...</td>\n",
       "      <td>...</td>\n",
       "      <td>...</td>\n",
       "      <td>...</td>\n",
       "      <td>...</td>\n",
       "      <td>...</td>\n",
       "      <td>...</td>\n",
       "      <td>...</td>\n",
       "      <td>...</td>\n",
       "    </tr>\n",
       "    <tr>\n",
       "      <th>ZNF395</th>\n",
       "      <td>1.796254</td>\n",
       "      <td>1.773154</td>\n",
       "      <td>0.668354</td>\n",
       "      <td>0.825354</td>\n",
       "      <td>0.350654</td>\n",
       "      <td>0.205954</td>\n",
       "      <td>-0.998346</td>\n",
       "      <td>-0.458247</td>\n",
       "      <td>0.235354</td>\n",
       "      <td>0.230653</td>\n",
       "      <td>...</td>\n",
       "      <td>-0.285181</td>\n",
       "      <td>-1.188080</td>\n",
       "      <td>-0.050680</td>\n",
       "      <td>-1.175880</td>\n",
       "      <td>0.300250</td>\n",
       "      <td>-0.265350</td>\n",
       "      <td>-0.380850</td>\n",
       "      <td>-0.330950</td>\n",
       "      <td>-1.844650</td>\n",
       "      <td>-0.612350</td>\n",
       "    </tr>\n",
       "    <tr>\n",
       "      <th>ZNF451</th>\n",
       "      <td>-0.244519</td>\n",
       "      <td>0.116732</td>\n",
       "      <td>0.058081</td>\n",
       "      <td>-0.178169</td>\n",
       "      <td>-0.080619</td>\n",
       "      <td>-0.139119</td>\n",
       "      <td>0.064681</td>\n",
       "      <td>-0.237719</td>\n",
       "      <td>-0.083019</td>\n",
       "      <td>-0.272119</td>\n",
       "      <td>...</td>\n",
       "      <td>0.085807</td>\n",
       "      <td>0.107632</td>\n",
       "      <td>-0.083718</td>\n",
       "      <td>0.105732</td>\n",
       "      <td>-0.324500</td>\n",
       "      <td>0.080550</td>\n",
       "      <td>-0.114950</td>\n",
       "      <td>-0.337650</td>\n",
       "      <td>-0.024950</td>\n",
       "      <td>-0.151550</td>\n",
       "    </tr>\n",
       "    <tr>\n",
       "      <th>ZNF586</th>\n",
       "      <td>0.097627</td>\n",
       "      <td>0.061027</td>\n",
       "      <td>-0.337573</td>\n",
       "      <td>0.098427</td>\n",
       "      <td>-0.338173</td>\n",
       "      <td>0.017627</td>\n",
       "      <td>-0.197423</td>\n",
       "      <td>-0.155173</td>\n",
       "      <td>-0.078473</td>\n",
       "      <td>-0.300473</td>\n",
       "      <td>...</td>\n",
       "      <td>0.056085</td>\n",
       "      <td>-0.005365</td>\n",
       "      <td>-0.123664</td>\n",
       "      <td>-0.191564</td>\n",
       "      <td>-0.304650</td>\n",
       "      <td>-0.259400</td>\n",
       "      <td>0.163600</td>\n",
       "      <td>-0.428700</td>\n",
       "      <td>-0.069200</td>\n",
       "      <td>0.073700</td>\n",
       "    </tr>\n",
       "    <tr>\n",
       "      <th>ZNF589</th>\n",
       "      <td>0.608573</td>\n",
       "      <td>0.106123</td>\n",
       "      <td>-0.014126</td>\n",
       "      <td>-0.003677</td>\n",
       "      <td>-0.123477</td>\n",
       "      <td>-0.243377</td>\n",
       "      <td>0.044623</td>\n",
       "      <td>0.092123</td>\n",
       "      <td>-0.021477</td>\n",
       "      <td>0.201823</td>\n",
       "      <td>...</td>\n",
       "      <td>-0.200241</td>\n",
       "      <td>-0.027441</td>\n",
       "      <td>0.007359</td>\n",
       "      <td>-0.072891</td>\n",
       "      <td>-0.315500</td>\n",
       "      <td>-0.013900</td>\n",
       "      <td>-0.035050</td>\n",
       "      <td>1.836400</td>\n",
       "      <td>-0.223300</td>\n",
       "      <td>-0.343400</td>\n",
       "    </tr>\n",
       "    <tr>\n",
       "      <th>ZW10</th>\n",
       "      <td>-0.757496</td>\n",
       "      <td>-0.723196</td>\n",
       "      <td>-1.121396</td>\n",
       "      <td>-1.139496</td>\n",
       "      <td>0.077104</td>\n",
       "      <td>-1.088546</td>\n",
       "      <td>0.193104</td>\n",
       "      <td>-1.163196</td>\n",
       "      <td>0.163504</td>\n",
       "      <td>0.372704</td>\n",
       "      <td>...</td>\n",
       "      <td>0.352432</td>\n",
       "      <td>-0.014018</td>\n",
       "      <td>0.211432</td>\n",
       "      <td>-0.360368</td>\n",
       "      <td>-0.142150</td>\n",
       "      <td>0.443400</td>\n",
       "      <td>-0.145650</td>\n",
       "      <td>0.433800</td>\n",
       "      <td>0.048100</td>\n",
       "      <td>0.049950</td>\n",
       "    </tr>\n",
       "  </tbody>\n",
       "</table>\n",
       "<p>978 rows × 98 columns</p>\n",
       "</div>"
      ],
      "text/plain": [
       "        ASG002_BC3C_24H:A10  ASG002_BC3C_24H:A11  ASG002_BC3C_24H:A19  \\\n",
       "AARS              -0.496854             0.288446             0.189747   \n",
       "ABCB6             -0.658596            -0.142196            -0.075397   \n",
       "ABCC5             -0.080204             0.231996            -0.329354   \n",
       "ABCF1              0.202535             0.602335             0.403335   \n",
       "ABCF3             -0.520919            -0.192819             0.001032   \n",
       "...                     ...                  ...                  ...   \n",
       "ZNF395             1.796254             1.773154             0.668354   \n",
       "ZNF451            -0.244519             0.116732             0.058081   \n",
       "ZNF586             0.097627             0.061027            -0.337573   \n",
       "ZNF589             0.608573             0.106123            -0.014126   \n",
       "ZW10              -0.757496            -0.723196            -1.121396   \n",
       "\n",
       "        ASG002_BC3C_24H:A20  ASG002_BC3C_24H:A21  ASG002_BC3C_24H:B10  \\\n",
       "AARS              -0.016454             0.080746             0.282346   \n",
       "ABCB6             -0.383796            -0.199996            -0.074197   \n",
       "ABCC5             -0.225204             0.278446             0.034696   \n",
       "ABCF1              0.313134            -0.083265            -0.056365   \n",
       "ABCF3             -0.096419             0.210881            -0.731118   \n",
       "...                     ...                  ...                  ...   \n",
       "ZNF395             0.825354             0.350654             0.205954   \n",
       "ZNF451            -0.178169            -0.080619            -0.139119   \n",
       "ZNF586             0.098427            -0.338173             0.017627   \n",
       "ZNF589            -0.003677            -0.123477            -0.243377   \n",
       "ZW10              -1.139496             0.077104            -1.088546   \n",
       "\n",
       "        ASG002_BC3C_24H:B11  ASG002_BC3C_24H:B12  ASG002_BC3C_24H:B14  \\\n",
       "AARS               0.326246             0.244946             0.303046   \n",
       "ABCB6              0.108804             0.055204            -0.399196   \n",
       "ABCC5              0.396596             0.288746            -0.255704   \n",
       "ABCF1             -0.387216             0.104534             0.097235   \n",
       "ABCF3              0.095381             0.049931             0.313481   \n",
       "...                     ...                  ...                  ...   \n",
       "ZNF395            -0.998346            -0.458247             0.235354   \n",
       "ZNF451             0.064681            -0.237719            -0.083019   \n",
       "ZNF586            -0.197423            -0.155173            -0.078473   \n",
       "ZNF589             0.044623             0.092123            -0.021477   \n",
       "ZW10               0.193104            -1.163196             0.163504   \n",
       "\n",
       "        ASG002_BC3C_24H:B15  ...  MOAR010_BC3C_24H:K09  MOAR010_BC3C_24H:L19  \\\n",
       "AARS               0.387546  ...             -0.217618             -0.074268   \n",
       "ABCB6             -0.227496  ...              0.202852             -0.003798   \n",
       "ABCC5             -0.254154  ...              0.011493              0.187043   \n",
       "ABCF1              0.540634  ...             -0.458439              1.132361   \n",
       "ABCF3             -0.078018  ...              0.201432             -0.028568   \n",
       "...                     ...  ...                   ...                   ...   \n",
       "ZNF395             0.230653  ...             -0.285181             -1.188080   \n",
       "ZNF451            -0.272119  ...              0.085807              0.107632   \n",
       "ZNF586            -0.300473  ...              0.056085             -0.005365   \n",
       "ZNF589             0.201823  ...             -0.200241             -0.027441   \n",
       "ZW10               0.372704  ...              0.352432             -0.014018   \n",
       "\n",
       "        MOAR010_BC3C_24H:L20  MOAR010_BC3C_24H:L21  MOAR011_BC3C_24H:C01  \\\n",
       "AARS               -0.012317             -0.004018              0.215100   \n",
       "ABCB6              -0.661323              0.326502              0.127850   \n",
       "ABCC5              -0.051357              0.358943              0.197500   \n",
       "ABCF1              -0.555990             -0.556689             -0.036825   \n",
       "ABCF3               0.447982              0.610582             -0.378251   \n",
       "...                      ...                   ...                   ...   \n",
       "ZNF395             -0.050680             -1.175880              0.300250   \n",
       "ZNF451             -0.083718              0.105732             -0.324500   \n",
       "ZNF586             -0.123664             -0.191564             -0.304650   \n",
       "ZNF589              0.007359             -0.072891             -0.315500   \n",
       "ZW10                0.211432             -0.360368             -0.142150   \n",
       "\n",
       "        MOAR011_BC3C_24H:C02  MOAR011_BC3C_24H:C03  MOAR011_BC3C_24H:C10  \\\n",
       "AARS               -0.178100             -0.007000              0.024000   \n",
       "ABCB6               0.081150             -0.026850             -0.152851   \n",
       "ABCC5               0.119350              0.212450             -0.177250   \n",
       "ABCF1              -0.080325              0.059175              0.307175   \n",
       "ABCF3               0.003950              0.127300             -0.197401   \n",
       "...                      ...                   ...                   ...   \n",
       "ZNF395             -0.265350             -0.380850             -0.330950   \n",
       "ZNF451              0.080550             -0.114950             -0.337650   \n",
       "ZNF586             -0.259400              0.163600             -0.428700   \n",
       "ZNF589             -0.013900             -0.035050              1.836400   \n",
       "ZW10                0.443400             -0.145650              0.433800   \n",
       "\n",
       "        MOAR011_BC3C_24H:C11  MOAR011_BC3C_24H:J10  \n",
       "AARS                0.007400              0.031399  \n",
       "ABCB6               0.122550             -0.029350  \n",
       "ABCC5               0.138650              0.568950  \n",
       "ABCF1               0.580075              0.322875  \n",
       "ABCF3              -0.128351             -0.012850  \n",
       "...                      ...                   ...  \n",
       "ZNF395             -1.844650             -0.612350  \n",
       "ZNF451             -0.024950             -0.151550  \n",
       "ZNF586             -0.069200              0.073700  \n",
       "ZNF589             -0.223300             -0.343400  \n",
       "ZW10                0.048100              0.049950  \n",
       "\n",
       "[978 rows x 98 columns]"
      ]
     },
     "metadata": {},
     "output_type": "display_data"
    }
   ],
   "source": [
    "lm_df=pd.read_csv('/home/jing/Phd_project/project_UCD_blca/blca_Scripts/perturbations/01_outputs_2020/L1000_Data_norm_data.csv',index_col=0)\n",
    "display(lm_df)"
   ]
  },
  {
   "cell_type": "code",
   "execution_count": 20,
   "metadata": {},
   "outputs": [
    {
     "data": {
      "text/plain": [
       "943"
      ]
     },
     "execution_count": 20,
     "metadata": {},
     "output_type": "execute_result"
    }
   ],
   "source": [
    "common_genes = rct_tumor_df.columns.intersection(lm_df.index)\n",
    "common_genes = pmr_tumor_df.columns.intersection(common_genes)\n",
    "len(common_genes)"
   ]
  },
  {
   "cell_type": "code",
   "execution_count": 21,
   "metadata": {},
   "outputs": [
    {
     "name": "stdout",
     "output_type": "stream",
     "text": [
      "(19435, 943) (19588, 943)\n"
     ]
    }
   ],
   "source": [
    "rct_tumor_lincs = rct_tumor_df[common_genes]\n",
    "pmr_tumor_lincs = pmr_tumor_df[common_genes]\n",
    "print(rct_tumor_lincs.shape,pmr_tumor_lincs.shape)"
   ]
  },
  {
   "cell_type": "code",
   "execution_count": 23,
   "metadata": {},
   "outputs": [],
   "source": [
    "cst_lincs = CellStateTransition('p_r_tumor', rct_tumor_lincs, pmr_tumor_lincs)"
   ]
  },
  {
   "cell_type": "code",
   "execution_count": 27,
   "metadata": {},
   "outputs": [
    {
     "name": "stdout",
     "output_type": "stream",
     "text": [
      "0.11678422240887117\n"
     ]
    }
   ],
   "source": [
    "dpd_scores_lincs = cst_lincs.get_dpd()\n",
    "\n",
    "norm_s_lincs = pd.DataFrame(np.stack([cst_lincs.n, cst_lincs.s], axis=1), index=cst_lincs.svm_input.data.columns, columns=[\"n\", \"s\"])\n",
    "\n",
    "print(cst_lincs.h)"
   ]
  },
  {
   "cell_type": "code",
   "execution_count": 28,
   "metadata": {},
   "outputs": [
    {
     "data": {
      "text/html": [
       "<div>\n",
       "<style scoped>\n",
       "    .dataframe tbody tr th:only-of-type {\n",
       "        vertical-align: middle;\n",
       "    }\n",
       "\n",
       "    .dataframe tbody tr th {\n",
       "        vertical-align: top;\n",
       "    }\n",
       "\n",
       "    .dataframe thead th {\n",
       "        text-align: right;\n",
       "    }\n",
       "</style>\n",
       "<table border=\"1\" class=\"dataframe\">\n",
       "  <thead>\n",
       "    <tr style=\"text-align: right;\">\n",
       "      <th></th>\n",
       "      <th>DPD_p_r_tumor</th>\n",
       "    </tr>\n",
       "  </thead>\n",
       "  <tbody>\n",
       "    <tr>\n",
       "      <th>SF11488_AAACCCAAGCGTGAGT-1</th>\n",
       "      <td>-0.116503</td>\n",
       "    </tr>\n",
       "    <tr>\n",
       "      <th>SF11488_AAACCCAAGGTCACTT-1</th>\n",
       "      <td>-0.315458</td>\n",
       "    </tr>\n",
       "    <tr>\n",
       "      <th>SF11488_AAACCCAAGTCATACC-1</th>\n",
       "      <td>-0.424612</td>\n",
       "    </tr>\n",
       "    <tr>\n",
       "      <th>SF11488_AAACCCAGTGCCGGTT-1</th>\n",
       "      <td>0.009734</td>\n",
       "    </tr>\n",
       "    <tr>\n",
       "      <th>SF11488_AAACCCAGTTAACCTG-1</th>\n",
       "      <td>-0.325343</td>\n",
       "    </tr>\n",
       "    <tr>\n",
       "      <th>...</th>\n",
       "      <td>...</td>\n",
       "    </tr>\n",
       "    <tr>\n",
       "      <th>SF9798_TTTGGTTGTTGCCGAC-1</th>\n",
       "      <td>0.012464</td>\n",
       "    </tr>\n",
       "    <tr>\n",
       "      <th>SF9798_TTTGGTTTCTGCATGA-1</th>\n",
       "      <td>0.140401</td>\n",
       "    </tr>\n",
       "    <tr>\n",
       "      <th>SF9798_TTTGGTTTCTGTCCGT-1</th>\n",
       "      <td>0.154450</td>\n",
       "    </tr>\n",
       "    <tr>\n",
       "      <th>SF9798_TTTGTTGAGATGACAT-1</th>\n",
       "      <td>0.089577</td>\n",
       "    </tr>\n",
       "    <tr>\n",
       "      <th>SF9798_TTTGTTGTCCTACACC-1</th>\n",
       "      <td>0.213449</td>\n",
       "    </tr>\n",
       "  </tbody>\n",
       "</table>\n",
       "<p>39023 rows × 1 columns</p>\n",
       "</div>"
      ],
      "text/plain": [
       "                            DPD_p_r_tumor\n",
       "SF11488_AAACCCAAGCGTGAGT-1      -0.116503\n",
       "SF11488_AAACCCAAGGTCACTT-1      -0.315458\n",
       "SF11488_AAACCCAAGTCATACC-1      -0.424612\n",
       "SF11488_AAACCCAGTGCCGGTT-1       0.009734\n",
       "SF11488_AAACCCAGTTAACCTG-1      -0.325343\n",
       "...                                   ...\n",
       "SF9798_TTTGGTTGTTGCCGAC-1        0.012464\n",
       "SF9798_TTTGGTTTCTGCATGA-1        0.140401\n",
       "SF9798_TTTGGTTTCTGTCCGT-1        0.154450\n",
       "SF9798_TTTGTTGAGATGACAT-1        0.089577\n",
       "SF9798_TTTGTTGTCCTACACC-1        0.213449\n",
       "\n",
       "[39023 rows x 1 columns]"
      ]
     },
     "execution_count": 28,
     "metadata": {},
     "output_type": "execute_result"
    }
   ],
   "source": [
    "dpd_scores_lincs"
   ]
  },
  {
   "cell_type": "code",
   "execution_count": 29,
   "metadata": {},
   "outputs": [],
   "source": [
    "dpd_scores_lincs['Sample'] = dpd_scores_lincs.index.str.split('_').str[0]"
   ]
  },
  {
   "cell_type": "code",
   "execution_count": 32,
   "metadata": {},
   "outputs": [],
   "source": [
    "dpd_scores_lincs['Stage'] ='Recurrent'"
   ]
  },
  {
   "cell_type": "code",
   "execution_count": 33,
   "metadata": {},
   "outputs": [],
   "source": [
    "for i in ['SF2770', 'SF2990', 'SF3076', 'SF3391', 'SF11916', 'SF11082', 'SF9358', 'SF9798']:\n",
    "    dpd_scores_lincs.loc[dpd_scores_lincs['Sample'].str.contains(i, na=False), 'Stage'] = 'Primary'"
   ]
  },
  {
   "cell_type": "code",
   "execution_count": 34,
   "metadata": {},
   "outputs": [
    {
     "data": {
      "text/html": [
       "<div>\n",
       "<style scoped>\n",
       "    .dataframe tbody tr th:only-of-type {\n",
       "        vertical-align: middle;\n",
       "    }\n",
       "\n",
       "    .dataframe tbody tr th {\n",
       "        vertical-align: top;\n",
       "    }\n",
       "\n",
       "    .dataframe thead th {\n",
       "        text-align: right;\n",
       "    }\n",
       "</style>\n",
       "<table border=\"1\" class=\"dataframe\">\n",
       "  <thead>\n",
       "    <tr style=\"text-align: right;\">\n",
       "      <th></th>\n",
       "      <th>DPD_p_r_tumor</th>\n",
       "      <th>Sample</th>\n",
       "      <th>Stage</th>\n",
       "    </tr>\n",
       "  </thead>\n",
       "  <tbody>\n",
       "    <tr>\n",
       "      <th>SF11488_AAACCCAAGCGTGAGT-1</th>\n",
       "      <td>-0.116503</td>\n",
       "      <td>SF11488</td>\n",
       "      <td>Recurrent</td>\n",
       "    </tr>\n",
       "    <tr>\n",
       "      <th>SF11488_AAACCCAAGGTCACTT-1</th>\n",
       "      <td>-0.315458</td>\n",
       "      <td>SF11488</td>\n",
       "      <td>Recurrent</td>\n",
       "    </tr>\n",
       "    <tr>\n",
       "      <th>SF11488_AAACCCAAGTCATACC-1</th>\n",
       "      <td>-0.424612</td>\n",
       "      <td>SF11488</td>\n",
       "      <td>Recurrent</td>\n",
       "    </tr>\n",
       "    <tr>\n",
       "      <th>SF11488_AAACCCAGTGCCGGTT-1</th>\n",
       "      <td>0.009734</td>\n",
       "      <td>SF11488</td>\n",
       "      <td>Recurrent</td>\n",
       "    </tr>\n",
       "    <tr>\n",
       "      <th>SF11488_AAACCCAGTTAACCTG-1</th>\n",
       "      <td>-0.325343</td>\n",
       "      <td>SF11488</td>\n",
       "      <td>Recurrent</td>\n",
       "    </tr>\n",
       "    <tr>\n",
       "      <th>...</th>\n",
       "      <td>...</td>\n",
       "      <td>...</td>\n",
       "      <td>...</td>\n",
       "    </tr>\n",
       "    <tr>\n",
       "      <th>SF9798_TTTGGTTGTTGCCGAC-1</th>\n",
       "      <td>0.012464</td>\n",
       "      <td>SF9798</td>\n",
       "      <td>Primary</td>\n",
       "    </tr>\n",
       "    <tr>\n",
       "      <th>SF9798_TTTGGTTTCTGCATGA-1</th>\n",
       "      <td>0.140401</td>\n",
       "      <td>SF9798</td>\n",
       "      <td>Primary</td>\n",
       "    </tr>\n",
       "    <tr>\n",
       "      <th>SF9798_TTTGGTTTCTGTCCGT-1</th>\n",
       "      <td>0.154450</td>\n",
       "      <td>SF9798</td>\n",
       "      <td>Primary</td>\n",
       "    </tr>\n",
       "    <tr>\n",
       "      <th>SF9798_TTTGTTGAGATGACAT-1</th>\n",
       "      <td>0.089577</td>\n",
       "      <td>SF9798</td>\n",
       "      <td>Primary</td>\n",
       "    </tr>\n",
       "    <tr>\n",
       "      <th>SF9798_TTTGTTGTCCTACACC-1</th>\n",
       "      <td>0.213449</td>\n",
       "      <td>SF9798</td>\n",
       "      <td>Primary</td>\n",
       "    </tr>\n",
       "  </tbody>\n",
       "</table>\n",
       "<p>39023 rows × 3 columns</p>\n",
       "</div>"
      ],
      "text/plain": [
       "                            DPD_p_r_tumor   Sample      Stage\n",
       "SF11488_AAACCCAAGCGTGAGT-1      -0.116503  SF11488  Recurrent\n",
       "SF11488_AAACCCAAGGTCACTT-1      -0.315458  SF11488  Recurrent\n",
       "SF11488_AAACCCAAGTCATACC-1      -0.424612  SF11488  Recurrent\n",
       "SF11488_AAACCCAGTGCCGGTT-1       0.009734  SF11488  Recurrent\n",
       "SF11488_AAACCCAGTTAACCTG-1      -0.325343  SF11488  Recurrent\n",
       "...                                   ...      ...        ...\n",
       "SF9798_TTTGGTTGTTGCCGAC-1        0.012464   SF9798    Primary\n",
       "SF9798_TTTGGTTTCTGCATGA-1        0.140401   SF9798    Primary\n",
       "SF9798_TTTGGTTTCTGTCCGT-1        0.154450   SF9798    Primary\n",
       "SF9798_TTTGTTGAGATGACAT-1        0.089577   SF9798    Primary\n",
       "SF9798_TTTGTTGTCCTACACC-1        0.213449   SF9798    Primary\n",
       "\n",
       "[39023 rows x 3 columns]"
      ]
     },
     "execution_count": 34,
     "metadata": {},
     "output_type": "execute_result"
    }
   ],
   "source": [
    "dpd_scores_lincs"
   ]
  },
  {
   "cell_type": "code",
   "execution_count": 35,
   "metadata": {},
   "outputs": [],
   "source": [
    "dpd_scores_lincs['zeros'] =0 "
   ]
  },
  {
   "cell_type": "code",
   "execution_count": 36,
   "metadata": {},
   "outputs": [
    {
     "data": {
      "text/plain": [
       "<Axes: xlabel='DPD_p_r_tumor', ylabel='zeros'>"
      ]
     },
     "execution_count": 36,
     "metadata": {},
     "output_type": "execute_result"
    },
    {
     "data": {
      "image/png": "[encoded data removed]",
      "text/plain": [
       "<Figure size 640x480 with 1 Axes>"
      ]
     },
     "metadata": {},
     "output_type": "display_data"
    }
   ],
   "source": [
    "sns.scatterplot(x='DPD_p_r_tumor',y='zeros',data=dpd_scores_lincs,hue='Stage')"
   ]
  },
  {
   "cell_type": "code",
   "execution_count": 40,
   "metadata": {},
   "outputs": [
    {
     "data": {
      "text/plain": [
       "array([[<Axes: title={'center': 'DPD_p_r_tumor'}>,\n",
       "        <Axes: title={'center': 'zeros'}>]], dtype=object)"
      ]
     },
     "execution_count": 40,
     "metadata": {},
     "output_type": "execute_result"
    },
    {
     "data": {
      "image/png": "[encoded data removed]",
      "text/plain": [
       "<Figure size 640x480 with 2 Axes>"
      ]
     },
     "metadata": {},
     "output_type": "display_data"
    }
   ],
   "source": [
    "dpd_scores_lincs[dpd_scores_lincs['Stage']=='Primary'].hist()"
   ]
  },
  {
   "cell_type": "code",
   "execution_count": 41,
   "metadata": {},
   "outputs": [
    {
     "data": {
      "text/plain": [
       "array([[<Axes: title={'center': 'DPD_p_r_tumor'}>,\n",
       "        <Axes: title={'center': 'zeros'}>]], dtype=object)"
      ]
     },
     "execution_count": 41,
     "metadata": {},
     "output_type": "execute_result"
    },
    {
     "data": {
      "image/png": "[encoded data removed]",
      "text/plain": [
       "<Figure size 640x480 with 2 Axes>"
      ]
     },
     "metadata": {},
     "output_type": "display_data"
    }
   ],
   "source": [
    "dpd_scores_lincs[dpd_scores_lincs['Stage']=='Recurrent'].hist()"
   ]
  }
 ],
 "metadata": {
  "kernelspec": {
   "display_name": "cstar",
   "language": "python",
   "name": "python3"
  },
  "language_info": {
   "codemirror_mode": {
    "name": "ipython",
    "version": 3
   },
   "file_extension": ".py",
   "mimetype": "text/x-python",
   "name": "python",
   "nbconvert_exporter": "python",
   "pygments_lexer": "ipython3",
   "version": "3.12.7"
  }
 },
 "nbformat": 4,
 "nbformat_minor": 2
}
