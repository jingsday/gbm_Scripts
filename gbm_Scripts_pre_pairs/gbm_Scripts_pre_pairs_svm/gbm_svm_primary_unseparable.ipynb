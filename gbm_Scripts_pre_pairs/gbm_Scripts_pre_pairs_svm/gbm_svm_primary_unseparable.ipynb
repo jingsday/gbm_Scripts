{
 "cells": [
  {
   "cell_type": "code",
   "execution_count": 1,
   "metadata": {},
   "outputs": [],
   "source": [
    "import anndata\n",
    "import pandas as pd\n",
    "\n",
    "import cstarpy\n",
    "import os\n",
    "import numpy as np\n",
    "from cstarpy.separation import CellStateTransition"
   ]
  },
  {
   "cell_type": "code",
   "execution_count": 2,
   "metadata": {},
   "outputs": [],
   "source": [
    "primary_tumor_normal_dpd_scores =pd.read_pickle('/home/jing/Phd_project/project_GBM/gbm_OUTPUT/gbm_OUTPUT_scvi_svm_dpd_stvs/primary_recurrent/dpd_primay_high_normal_tumor.pkl')"
   ]
  },
  {
   "cell_type": "code",
   "execution_count": 3,
   "metadata": {},
   "outputs": [],
   "source": [
    "norm_s_df=pd.read_pickle('/home/jing/Phd_project/project_GBM/gbm_OUTPUT/gbm_OUTPUT_scvi_svm_dpd_stvs/primary_recurrent/stv_primay_high_normal_tumor.pkl')"
   ]
  },
  {
   "cell_type": "code",
   "execution_count": 5,
   "metadata": {},
   "outputs": [
    {
     "data": {
      "text/html": [
       "<div>\n",
       "<style scoped>\n",
       "    .dataframe tbody tr th:only-of-type {\n",
       "        vertical-align: middle;\n",
       "    }\n",
       "\n",
       "    .dataframe tbody tr th {\n",
       "        vertical-align: top;\n",
       "    }\n",
       "\n",
       "    .dataframe thead th {\n",
       "        text-align: right;\n",
       "    }\n",
       "</style>\n",
       "<table border=\"1\" class=\"dataframe\">\n",
       "  <thead>\n",
       "    <tr style=\"text-align: right;\">\n",
       "      <th></th>\n",
       "      <th>DPD_pnml_ptmr</th>\n",
       "    </tr>\n",
       "    <tr>\n",
       "      <th>index_clean</th>\n",
       "      <th></th>\n",
       "    </tr>\n",
       "  </thead>\n",
       "  <tbody>\n",
       "    <tr>\n",
       "      <th>GSM5319518_AAACCCAAGGGATCAC-1</th>\n",
       "      <td>-0.377609</td>\n",
       "    </tr>\n",
       "    <tr>\n",
       "      <th>GSM5319518_AAACCCAGTCGATTTG-1</th>\n",
       "      <td>-1.452295</td>\n",
       "    </tr>\n",
       "    <tr>\n",
       "      <th>GSM5319518_AAACCCAGTCGTCAGC-1</th>\n",
       "      <td>-1.504188</td>\n",
       "    </tr>\n",
       "    <tr>\n",
       "      <th>GSM5319518_AAACCCAGTTGTAAAG-1</th>\n",
       "      <td>-0.135492</td>\n",
       "    </tr>\n",
       "    <tr>\n",
       "      <th>GSM5319518_AAACCCATCTATCGGA-1</th>\n",
       "      <td>-0.524407</td>\n",
       "    </tr>\n",
       "    <tr>\n",
       "      <th>...</th>\n",
       "      <td>...</td>\n",
       "    </tr>\n",
       "    <tr>\n",
       "      <th>GSM5319559_TTGTGGACATGAATCC-1</th>\n",
       "      <td>-0.119897</td>\n",
       "    </tr>\n",
       "    <tr>\n",
       "      <th>GSM5319559_TTGTTTGGTACGGATG-1</th>\n",
       "      <td>1.515215</td>\n",
       "    </tr>\n",
       "    <tr>\n",
       "      <th>GSM5319559_TTGTTTGGTTTCAGAC-1</th>\n",
       "      <td>0.173547</td>\n",
       "    </tr>\n",
       "    <tr>\n",
       "      <th>GSM5319559_TTTCATGTCTTCTTCC-1</th>\n",
       "      <td>0.182610</td>\n",
       "    </tr>\n",
       "    <tr>\n",
       "      <th>GSM5319559_TTTGGTTAGTGCGCTC-1</th>\n",
       "      <td>4.110855</td>\n",
       "    </tr>\n",
       "  </tbody>\n",
       "</table>\n",
       "<p>27190 rows × 1 columns</p>\n",
       "</div>"
      ],
      "text/plain": [
       "                               DPD_pnml_ptmr\n",
       "index_clean                                 \n",
       "GSM5319518_AAACCCAAGGGATCAC-1      -0.377609\n",
       "GSM5319518_AAACCCAGTCGATTTG-1      -1.452295\n",
       "GSM5319518_AAACCCAGTCGTCAGC-1      -1.504188\n",
       "GSM5319518_AAACCCAGTTGTAAAG-1      -0.135492\n",
       "GSM5319518_AAACCCATCTATCGGA-1      -0.524407\n",
       "...                                      ...\n",
       "GSM5319559_TTGTGGACATGAATCC-1      -0.119897\n",
       "GSM5319559_TTGTTTGGTACGGATG-1       1.515215\n",
       "GSM5319559_TTGTTTGGTTTCAGAC-1       0.173547\n",
       "GSM5319559_TTTCATGTCTTCTTCC-1       0.182610\n",
       "GSM5319559_TTTGGTTAGTGCGCTC-1       4.110855\n",
       "\n",
       "[27190 rows x 1 columns]"
      ]
     },
     "execution_count": 5,
     "metadata": {},
     "output_type": "execute_result"
    }
   ],
   "source": [
    "primary_tumor_normal_dpd_scores\n"
   ]
  },
  {
   "cell_type": "code",
   "execution_count": 6,
   "metadata": {},
   "outputs": [],
   "source": [
    "df = pd.read_pickle('~/Phd_project/project_GBM/gbm_OUTPUT/gbm_OUTPUT_scvi_high_dim_df/dpd_scores_all_high_dim_annotated.pkl')"
   ]
  },
  {
   "cell_type": "code",
   "execution_count": 7,
   "metadata": {},
   "outputs": [
    {
     "data": {
      "text/html": [
       "<div>\n",
       "<style scoped>\n",
       "    .dataframe tbody tr th:only-of-type {\n",
       "        vertical-align: middle;\n",
       "    }\n",
       "\n",
       "    .dataframe tbody tr th {\n",
       "        vertical-align: top;\n",
       "    }\n",
       "\n",
       "    .dataframe thead th {\n",
       "        text-align: right;\n",
       "    }\n",
       "</style>\n",
       "<table border=\"1\" class=\"dataframe\">\n",
       "  <thead>\n",
       "    <tr style=\"text-align: right;\">\n",
       "      <th></th>\n",
       "      <th>DPD_tmr_nml</th>\n",
       "      <th>DPD_pmr_rct</th>\n",
       "      <th>Patients_id</th>\n",
       "      <th>Tumor_Normal_annotation</th>\n",
       "      <th>Stage</th>\n",
       "    </tr>\n",
       "    <tr>\n",
       "      <th>index_clean</th>\n",
       "      <th></th>\n",
       "      <th></th>\n",
       "      <th></th>\n",
       "      <th></th>\n",
       "      <th></th>\n",
       "    </tr>\n",
       "  </thead>\n",
       "  <tbody>\n",
       "    <tr>\n",
       "      <th>GSM5319548_AAACCCACAAGAGGCT-1</th>\n",
       "      <td>-2.470924</td>\n",
       "      <td>7.263390</td>\n",
       "      <td>SF2979</td>\n",
       "      <td>Tumor</td>\n",
       "      <td>Recurrent</td>\n",
       "    </tr>\n",
       "    <tr>\n",
       "      <th>GSM5319548_AAACGAAAGCAGTAAT-1</th>\n",
       "      <td>-2.222032</td>\n",
       "      <td>9.023294</td>\n",
       "      <td>SF2979</td>\n",
       "      <td>Tumor</td>\n",
       "      <td>Recurrent</td>\n",
       "    </tr>\n",
       "    <tr>\n",
       "      <th>GSM5319548_AAACGAATCGTTCCTG-1</th>\n",
       "      <td>-1.775210</td>\n",
       "      <td>5.678054</td>\n",
       "      <td>SF2979</td>\n",
       "      <td>Tumor</td>\n",
       "      <td>Recurrent</td>\n",
       "    </tr>\n",
       "    <tr>\n",
       "      <th>GSM5319548_AAACGCTCAAATGAGT-1</th>\n",
       "      <td>-1.424218</td>\n",
       "      <td>7.815950</td>\n",
       "      <td>SF2979</td>\n",
       "      <td>Tumor</td>\n",
       "      <td>Recurrent</td>\n",
       "    </tr>\n",
       "    <tr>\n",
       "      <th>GSM5319548_AAACGCTCAGCCCAGT-1</th>\n",
       "      <td>-1.078401</td>\n",
       "      <td>5.793028</td>\n",
       "      <td>SF2979</td>\n",
       "      <td>Tumor</td>\n",
       "      <td>Recurrent</td>\n",
       "    </tr>\n",
       "    <tr>\n",
       "      <th>...</th>\n",
       "      <td>...</td>\n",
       "      <td>...</td>\n",
       "      <td>...</td>\n",
       "      <td>...</td>\n",
       "      <td>...</td>\n",
       "    </tr>\n",
       "    <tr>\n",
       "      <th>GSM5319532_TTTGGTTGTGTCCTAA-1</th>\n",
       "      <td>3.836515</td>\n",
       "      <td>3.559528</td>\n",
       "      <td>SF9494</td>\n",
       "      <td>Normal</td>\n",
       "      <td>Recurrent</td>\n",
       "    </tr>\n",
       "    <tr>\n",
       "      <th>GSM5319532_TTTGGTTTCACACCCT-1</th>\n",
       "      <td>4.198556</td>\n",
       "      <td>3.630000</td>\n",
       "      <td>SF9494</td>\n",
       "      <td>Normal</td>\n",
       "      <td>Recurrent</td>\n",
       "    </tr>\n",
       "    <tr>\n",
       "      <th>GSM5319532_TTTGGTTTCATTATCC-1</th>\n",
       "      <td>3.570304</td>\n",
       "      <td>3.922781</td>\n",
       "      <td>SF9494</td>\n",
       "      <td>Normal</td>\n",
       "      <td>Recurrent</td>\n",
       "    </tr>\n",
       "    <tr>\n",
       "      <th>GSM5319532_TTTGGTTTCCCTCGTA-1</th>\n",
       "      <td>3.789141</td>\n",
       "      <td>4.027520</td>\n",
       "      <td>SF9494</td>\n",
       "      <td>Normal</td>\n",
       "      <td>Recurrent</td>\n",
       "    </tr>\n",
       "    <tr>\n",
       "      <th>GSM5319532_TTTGTTGTCCATTGGA-1</th>\n",
       "      <td>6.721826</td>\n",
       "      <td>6.042014</td>\n",
       "      <td>SF9494</td>\n",
       "      <td>Normal</td>\n",
       "      <td>Recurrent</td>\n",
       "    </tr>\n",
       "  </tbody>\n",
       "</table>\n",
       "<p>54604 rows × 5 columns</p>\n",
       "</div>"
      ],
      "text/plain": [
       "                               DPD_tmr_nml  DPD_pmr_rct Patients_id  \\\n",
       "index_clean                                                           \n",
       "GSM5319548_AAACCCACAAGAGGCT-1    -2.470924     7.263390      SF2979   \n",
       "GSM5319548_AAACGAAAGCAGTAAT-1    -2.222032     9.023294      SF2979   \n",
       "GSM5319548_AAACGAATCGTTCCTG-1    -1.775210     5.678054      SF2979   \n",
       "GSM5319548_AAACGCTCAAATGAGT-1    -1.424218     7.815950      SF2979   \n",
       "GSM5319548_AAACGCTCAGCCCAGT-1    -1.078401     5.793028      SF2979   \n",
       "...                                    ...          ...         ...   \n",
       "GSM5319532_TTTGGTTGTGTCCTAA-1     3.836515     3.559528      SF9494   \n",
       "GSM5319532_TTTGGTTTCACACCCT-1     4.198556     3.630000      SF9494   \n",
       "GSM5319532_TTTGGTTTCATTATCC-1     3.570304     3.922781      SF9494   \n",
       "GSM5319532_TTTGGTTTCCCTCGTA-1     3.789141     4.027520      SF9494   \n",
       "GSM5319532_TTTGTTGTCCATTGGA-1     6.721826     6.042014      SF9494   \n",
       "\n",
       "                              Tumor_Normal_annotation      Stage  \n",
       "index_clean                                                       \n",
       "GSM5319548_AAACCCACAAGAGGCT-1                   Tumor  Recurrent  \n",
       "GSM5319548_AAACGAAAGCAGTAAT-1                   Tumor  Recurrent  \n",
       "GSM5319548_AAACGAATCGTTCCTG-1                   Tumor  Recurrent  \n",
       "GSM5319548_AAACGCTCAAATGAGT-1                   Tumor  Recurrent  \n",
       "GSM5319548_AAACGCTCAGCCCAGT-1                   Tumor  Recurrent  \n",
       "...                                               ...        ...  \n",
       "GSM5319532_TTTGGTTGTGTCCTAA-1                  Normal  Recurrent  \n",
       "GSM5319532_TTTGGTTTCACACCCT-1                  Normal  Recurrent  \n",
       "GSM5319532_TTTGGTTTCATTATCC-1                  Normal  Recurrent  \n",
       "GSM5319532_TTTGGTTTCCCTCGTA-1                  Normal  Recurrent  \n",
       "GSM5319532_TTTGTTGTCCATTGGA-1                  Normal  Recurrent  \n",
       "\n",
       "[54604 rows x 5 columns]"
      ]
     },
     "execution_count": 7,
     "metadata": {},
     "output_type": "execute_result"
    }
   ],
   "source": [
    "df"
   ]
  },
  {
   "cell_type": "code",
   "execution_count": 8,
   "metadata": {},
   "outputs": [],
   "source": [
    "primary_tumor_normal_dpd_scores.reset_index(inplace=True)"
   ]
  },
  {
   "cell_type": "code",
   "execution_count": 9,
   "metadata": {},
   "outputs": [],
   "source": [
    "df.reset_index(inplace=True)"
   ]
  },
  {
   "cell_type": "code",
   "execution_count": 10,
   "metadata": {},
   "outputs": [],
   "source": [
    "primary_tumor_normal_dpd_scores_annotated=primary_tumor_normal_dpd_scores.merge(df[['index_clean','Tumor_Normal_annotation','Patients_id','Stage']],on='index_clean',how='left')"
   ]
  },
  {
   "cell_type": "code",
   "execution_count": 12,
   "metadata": {},
   "outputs": [],
   "source": [
    "primary_tumor_normal_dpd_scores_annotated.set_index('index_clean',inplace=True)"
   ]
  },
  {
   "cell_type": "code",
   "execution_count": 14,
   "metadata": {},
   "outputs": [],
   "source": [
    "primary_tumor_normal_dpd_scores_annotated.to_pickle('~/Phd_project/project_GBM/gbm_OUTPUT/gbm_OUTPUT_scvi_svm_dpd_stvs/primary_tumor_normal/primary_tumor_normal_dpd_scores_annotated.pkl')"
   ]
  },
  {
   "cell_type": "code",
   "execution_count": 15,
   "metadata": {},
   "outputs": [
    {
     "data": {
      "text/html": [
       "<div>\n",
       "<style scoped>\n",
       "    .dataframe tbody tr th:only-of-type {\n",
       "        vertical-align: middle;\n",
       "    }\n",
       "\n",
       "    .dataframe tbody tr th {\n",
       "        vertical-align: top;\n",
       "    }\n",
       "\n",
       "    .dataframe thead th {\n",
       "        text-align: right;\n",
       "    }\n",
       "</style>\n",
       "<table border=\"1\" class=\"dataframe\">\n",
       "  <thead>\n",
       "    <tr style=\"text-align: right;\">\n",
       "      <th></th>\n",
       "      <th>DPD_pnml_ptmr</th>\n",
       "      <th>Tumor_Normal_annotation</th>\n",
       "      <th>Patients_id</th>\n",
       "      <th>Stage</th>\n",
       "    </tr>\n",
       "    <tr>\n",
       "      <th>index_clean</th>\n",
       "      <th></th>\n",
       "      <th></th>\n",
       "      <th></th>\n",
       "      <th></th>\n",
       "    </tr>\n",
       "  </thead>\n",
       "  <tbody>\n",
       "    <tr>\n",
       "      <th>GSM5319518_AAACCCAAGGGATCAC-1</th>\n",
       "      <td>-0.377609</td>\n",
       "      <td>Tumor</td>\n",
       "      <td>SF2777</td>\n",
       "      <td>Primary</td>\n",
       "    </tr>\n",
       "    <tr>\n",
       "      <th>GSM5319518_AAACCCAGTCGATTTG-1</th>\n",
       "      <td>-1.452295</td>\n",
       "      <td>Tumor</td>\n",
       "      <td>SF2777</td>\n",
       "      <td>Primary</td>\n",
       "    </tr>\n",
       "    <tr>\n",
       "      <th>GSM5319518_AAACCCAGTCGTCAGC-1</th>\n",
       "      <td>-1.504188</td>\n",
       "      <td>Tumor</td>\n",
       "      <td>SF2777</td>\n",
       "      <td>Primary</td>\n",
       "    </tr>\n",
       "    <tr>\n",
       "      <th>GSM5319518_AAACCCAGTTGTAAAG-1</th>\n",
       "      <td>-0.135492</td>\n",
       "      <td>Tumor</td>\n",
       "      <td>SF2777</td>\n",
       "      <td>Primary</td>\n",
       "    </tr>\n",
       "    <tr>\n",
       "      <th>GSM5319518_AAACCCATCTATCGGA-1</th>\n",
       "      <td>-0.524407</td>\n",
       "      <td>Tumor</td>\n",
       "      <td>SF2777</td>\n",
       "      <td>Primary</td>\n",
       "    </tr>\n",
       "    <tr>\n",
       "      <th>...</th>\n",
       "      <td>...</td>\n",
       "      <td>...</td>\n",
       "      <td>...</td>\n",
       "      <td>...</td>\n",
       "    </tr>\n",
       "    <tr>\n",
       "      <th>GSM5319559_TTGTGGACATGAATCC-1</th>\n",
       "      <td>-0.119897</td>\n",
       "      <td>Normal</td>\n",
       "      <td>SF9798</td>\n",
       "      <td>Primary</td>\n",
       "    </tr>\n",
       "    <tr>\n",
       "      <th>GSM5319559_TTGTTTGGTACGGATG-1</th>\n",
       "      <td>1.515215</td>\n",
       "      <td>Normal</td>\n",
       "      <td>SF9798</td>\n",
       "      <td>Primary</td>\n",
       "    </tr>\n",
       "    <tr>\n",
       "      <th>GSM5319559_TTGTTTGGTTTCAGAC-1</th>\n",
       "      <td>0.173547</td>\n",
       "      <td>Normal</td>\n",
       "      <td>SF9798</td>\n",
       "      <td>Primary</td>\n",
       "    </tr>\n",
       "    <tr>\n",
       "      <th>GSM5319559_TTTCATGTCTTCTTCC-1</th>\n",
       "      <td>0.182610</td>\n",
       "      <td>Normal</td>\n",
       "      <td>SF9798</td>\n",
       "      <td>Primary</td>\n",
       "    </tr>\n",
       "    <tr>\n",
       "      <th>GSM5319559_TTTGGTTAGTGCGCTC-1</th>\n",
       "      <td>4.110855</td>\n",
       "      <td>Normal</td>\n",
       "      <td>SF9798</td>\n",
       "      <td>Primary</td>\n",
       "    </tr>\n",
       "  </tbody>\n",
       "</table>\n",
       "<p>27190 rows × 4 columns</p>\n",
       "</div>"
      ],
      "text/plain": [
       "                               DPD_pnml_ptmr Tumor_Normal_annotation  \\\n",
       "index_clean                                                            \n",
       "GSM5319518_AAACCCAAGGGATCAC-1      -0.377609                   Tumor   \n",
       "GSM5319518_AAACCCAGTCGATTTG-1      -1.452295                   Tumor   \n",
       "GSM5319518_AAACCCAGTCGTCAGC-1      -1.504188                   Tumor   \n",
       "GSM5319518_AAACCCAGTTGTAAAG-1      -0.135492                   Tumor   \n",
       "GSM5319518_AAACCCATCTATCGGA-1      -0.524407                   Tumor   \n",
       "...                                      ...                     ...   \n",
       "GSM5319559_TTGTGGACATGAATCC-1      -0.119897                  Normal   \n",
       "GSM5319559_TTGTTTGGTACGGATG-1       1.515215                  Normal   \n",
       "GSM5319559_TTGTTTGGTTTCAGAC-1       0.173547                  Normal   \n",
       "GSM5319559_TTTCATGTCTTCTTCC-1       0.182610                  Normal   \n",
       "GSM5319559_TTTGGTTAGTGCGCTC-1       4.110855                  Normal   \n",
       "\n",
       "                              Patients_id    Stage  \n",
       "index_clean                                         \n",
       "GSM5319518_AAACCCAAGGGATCAC-1      SF2777  Primary  \n",
       "GSM5319518_AAACCCAGTCGATTTG-1      SF2777  Primary  \n",
       "GSM5319518_AAACCCAGTCGTCAGC-1      SF2777  Primary  \n",
       "GSM5319518_AAACCCAGTTGTAAAG-1      SF2777  Primary  \n",
       "GSM5319518_AAACCCATCTATCGGA-1      SF2777  Primary  \n",
       "...                                   ...      ...  \n",
       "GSM5319559_TTGTGGACATGAATCC-1      SF9798  Primary  \n",
       "GSM5319559_TTGTTTGGTACGGATG-1      SF9798  Primary  \n",
       "GSM5319559_TTGTTTGGTTTCAGAC-1      SF9798  Primary  \n",
       "GSM5319559_TTTCATGTCTTCTTCC-1      SF9798  Primary  \n",
       "GSM5319559_TTTGGTTAGTGCGCTC-1      SF9798  Primary  \n",
       "\n",
       "[27190 rows x 4 columns]"
      ]
     },
     "execution_count": 15,
     "metadata": {},
     "output_type": "execute_result"
    }
   ],
   "source": [
    "primary_tumor_normal_dpd_scores_annotated"
   ]
  },
  {
   "cell_type": "code",
   "execution_count": 16,
   "metadata": {},
   "outputs": [],
   "source": [
    "import seaborn as sns"
   ]
  },
  {
   "cell_type": "code",
   "execution_count": 23,
   "metadata": {},
   "outputs": [
    {
     "data": {
      "text/plain": [
       "<Axes: ylabel='Frequency'>"
      ]
     },
     "execution_count": 23,
     "metadata": {},
     "output_type": "execute_result"
    },
    {
     "data": {
      "image/png": "[encoded data removed]",
      "text/plain": [
       "<Figure size 640x480 with 1 Axes>"
      ]
     },
     "metadata": {},
     "output_type": "display_data"
    }
   ],
   "source": [
    "primary_tumor_normal_dpd_scores_annotated[primary_tumor_normal_dpd_scores_annotated['Tumor_Normal_annotation']=='Normal']['DPD_pnml_ptmr'].plot.hist()"
   ]
  },
  {
   "cell_type": "code",
   "execution_count": 22,
   "metadata": {},
   "outputs": [
    {
     "data": {
      "text/plain": [
       "<Axes: ylabel='Frequency'>"
      ]
     },
     "execution_count": 22,
     "metadata": {},
     "output_type": "execute_result"
    },
    {
     "data": {
      "image/png": "[encoded data removed]",
      "text/plain": [
       "<Figure size 640x480 with 1 Axes>"
      ]
     },
     "metadata": {},
     "output_type": "display_data"
    }
   ],
   "source": [
    "primary_tumor_normal_dpd_scores_annotated[primary_tumor_normal_dpd_scores_annotated['Tumor_Normal_annotation']=='Tumor']['DPD_pnml_ptmr'].plot.hist()"
   ]
  },
  {
   "cell_type": "code",
   "execution_count": 19,
   "metadata": {},
   "outputs": [
    {
     "data": {
      "text/plain": [
       "<Axes: ylabel='Frequency'>"
      ]
     },
     "execution_count": 19,
     "metadata": {},
     "output_type": "execute_result"
    },
    {
     "data": {
      "image/png": "[encoded data removed]",
      "text/plain": [
       "<Figure size 640x480 with 1 Axes>"
      ]
     },
     "metadata": {},
     "output_type": "display_data"
    }
   ],
   "source": [
    "primary_tumor_normal_dpd_scores_annotated['DPD_pnml_ptmr'].plot.hist()"
   ]
  },
  {
   "cell_type": "code",
   "execution_count": 18,
   "metadata": {},
   "outputs": [
    {
     "data": {
      "text/plain": [
       "<Axes: xlabel='zeros', ylabel='DPD_pnml_ptmr'>"
      ]
     },
     "execution_count": 18,
     "metadata": {},
     "output_type": "execute_result"
    },
    {
     "data": {
      "image/png": "[encoded data removed]",
      "text/plain": [
       "<Figure size 640x480 with 1 Axes>"
      ]
     },
     "metadata": {},
     "output_type": "display_data"
    }
   ],
   "source": [
    "sns.scatterplot(x='zeros',y='DPD_pnml_ptmr',data=primary_tumor_normal_dpd_scores_annotated,hue='Tumor_Normal_annotation')"
   ]
  }
 ],
 "metadata": {
  "kernelspec": {
   "display_name": "cstar",
   "language": "python",
   "name": "python3"
  },
  "language_info": {
   "codemirror_mode": {
    "name": "ipython",
    "version": 3
   },
   "file_extension": ".py",
   "mimetype": "text/x-python",
   "name": "python",
   "nbconvert_exporter": "python",
   "pygments_lexer": "ipython3",
   "version": "3.12.4"
  }
 },
 "nbformat": 4,
 "nbformat_minor": 2
}
